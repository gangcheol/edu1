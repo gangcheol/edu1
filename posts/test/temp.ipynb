{
 "cells": [
  {
   "cell_type": "raw",
   "id": "2e7913fe-5967-4a52-9a87-03cccb6f6efc",
   "metadata": {},
   "source": [
    "---\n",
    "title : \"00. Intro\"\n",
    "author : \"GC\"\n",
    "date : \"04/15/24\"\n",
    "---"
   ]
  },
  {
   "cell_type": "markdown",
   "id": "84542ddc-f26e-4126-aaa7-aed2e68601d0",
   "metadata": {},
   "source": [
    "# Intro"
   ]
  },
  {
   "cell_type": "markdown",
   "id": "15d76667-4aa8-40ce-be32-d8dbf98e15ef",
   "metadata": {},
   "source": [
    "`-` 해당 수업에서는 확률에 관한 이론과 회귀분석에 대해 소개합니다.\n",
    "\n",
    "* 목표 1 : 어떠한 자료(섭씨, 화씨, 불량품)가 주어졌을 때, 해당 자료가 어떠한 분포를 따르고, 주어진 값에서 **어떠한 확률값을** 가지는 지를 학습한다.\n",
    "\n",
    "* 목표 2 : 다양한 회귀분석 이론을 학습하고, 적용해보며 실생활에 활용할 수 있도록 한다!\n",
    "\n",
    "* 목표 3 : 통계분석(t-test, anova, cor-test, shaipro-test 등등)을 학습하고, python으로 언제든 필요할 때마다 쓸 수 있도록!"
   ]
  },
  {
   "cell_type": "markdown",
   "id": "ef527864-8f35-48c9-945e-65c2c346d1d2",
   "metadata": {},
   "source": [
    "***"
   ]
  },
  {
   "cell_type": "markdown",
   "id": "97ffbe11-83a1-4000-a6ea-ca2d62d8230e",
   "metadata": {},
   "source": [
    "# 확률변수"
   ]
  },
  {
   "cell_type": "markdown",
   "id": "0a8ce3b3-223d-44b7-937e-71ebef003714",
   "metadata": {},
   "source": [
    "`-` 확률변수 $X$ : 표본공간 $S$에 정의된 실수값을 가지는 모든 함수(real-valued function)\n",
    "\n",
    "* $X$가 가질 수 있는 모든 실수값 범위\n",
    "\n",
    "* $X \\in R$ or $X \\in S$ "
   ]
  },
  {
   "cell_type": "markdown",
   "id": "9789b78a-3e71-4ff5-b8a8-691966fc1ac4",
   "metadata": {},
   "source": [
    "## 예제  1. 동전 1회 던지는 실험"
   ]
  },
  {
   "cell_type": "markdown",
   "id": "e403aa5b-6b97-4d64-81cd-c1ea3225b28d",
   "metadata": {},
   "source": [
    "`1` 표본공간 :  $X \\in \\text{[뒤, 앞]} \\,= \\,\\in [0, 1]$"
   ]
  },
  {
   "cell_type": "markdown",
   "id": "3c64dea2-41e2-4cb5-9456-5c240f3c553b",
   "metadata": {},
   "source": [
    "`2` 앞면이 나올 확률은? $\\to P(X_1=1) = 1/2$ "
   ]
  },
  {
   "cell_type": "markdown",
   "id": "bfdfc102-31c0-49ac-bce6-fa531b6bd24b",
   "metadata": {},
   "source": [
    "## 예제 2. 동전을 2회 던지는 실험"
   ]
  },
  {
   "cell_type": "markdown",
   "id": "63d97ea8-6a7d-47fe-a0cf-9b1cc19eb4b0",
   "metadata": {},
   "source": [
    "$$S \\in [[0,0], [0,1], [1,0], [0,1]] $$"
   ]
  },
  {
   "cell_type": "markdown",
   "id": "34cc0e56-9a23-4303-8ad6-97345e9ea6dc",
   "metadata": {},
   "source": [
    "### Q1.앞면이 두번 나올 확률"
   ]
  },
  {
   "cell_type": "markdown",
   "id": "4b8eab68-9a3a-4ac7-b523-7abcf268ebb3",
   "metadata": {},
   "source": [
    "`1` 첫 번째 시행 :  $X_1 \\in \\text{[앞, 뒤]} = \\,\\in [0,1]$"
   ]
  },
  {
   "cell_type": "markdown",
   "id": "9c14b0f3-e889-45a0-bc4d-454130b75b10",
   "metadata": {},
   "source": [
    "`2` 두 번째 시행 : $X_2 \\in \\text{[앞, 뒤]} = \\,\\in [0,1]$"
   ]
  },
  {
   "cell_type": "markdown",
   "id": "850aaf8e-12c7-43cf-ad20-697c2ec47a6e",
   "metadata": {},
   "source": [
    "`3` 그렇다면 앞면이 두번 나올 확률은?\n",
    "\n",
    "$$\\begin{align*} P(X_1 =1, X_2 = 1) &= P(X_1=1)P(X_2 =1) \\\\ \\\\ \n",
    "                                    &= \\frac{1}{2}\\times \\frac{1}{2} = \\frac{1}{4} \\end{align*}$$"
   ]
  },
  {
   "cell_type": "markdown",
   "id": "d677a1c6-7aba-44e1-bf8e-bcb960a1a8d3",
   "metadata": {},
   "source": [
    "### Q2. 동전을 2번 던졌을 때 앞면이 한번 나올 확률"
   ]
  },
  {
   "cell_type": "markdown",
   "id": "80afde07-47c6-4ac9-8572-8174624000f6",
   "metadata": {},
   "source": [
    "`case1`. 1번째 동전을 던졌을 때, 앞면이 나오고 2번째 동전을 던졌을 때 뒷면이 나오는 경우"
   ]
  },
  {
   "cell_type": "markdown",
   "id": "755105d1-c237-4900-8e2c-e4d4c9ecc1d2",
   "metadata": {},
   "source": [
    "$$\\begin{align*}P(X_1 = 1, X_2 = 0) &= P(X_1=1)P(X_2=0) \\\\ \\\\ \n",
    "                                    &= \\frac{1}{2}\\times \\frac{1}{2} = \\frac{1}{4}   \\end{align*}$$"
   ]
  },
  {
   "cell_type": "markdown",
   "id": "3f620cc9-40ea-4ca4-a924-32550e45fb2e",
   "metadata": {},
   "source": [
    "`case2`. 1번째 동전을 던졌을 때, 뒷면이 나오고 2번째 동전을 던졌을 때 앞면이 나오는 경우"
   ]
  },
  {
   "cell_type": "markdown",
   "id": "1a636e73-31a7-44f2-8a36-1242ff83c485",
   "metadata": {},
   "source": [
    "$$\\begin{align*}P(X_1 = 0, X_2 = 1) &= P(X_1=0)P(X_2=1) \\\\ \\\\ \n",
    "                                    &= \\frac{1}{2}\\times \\frac{1}{2} = \\frac{1}{4}   \\end{align*}$$"
   ]
  },
  {
   "cell_type": "markdown",
   "id": "17bafcd9-c255-44aa-98fe-2633bfbe5ae2",
   "metadata": {},
   "source": [
    "$$\\text{case1} + \\text{case2} = \\frac 12$$"
   ]
  },
  {
   "cell_type": "markdown",
   "id": "3dfaffe0-1a30-4090-8373-de86fd100152",
   "metadata": {},
   "source": [
    "## 예제3. 동전을 3회 던지는 실험"
   ]
  },
  {
   "cell_type": "markdown",
   "id": "2d40830a-35f7-4f1e-b49c-a50ffc940444",
   "metadata": {},
   "source": [
    "$$S \\in [[0,0,0], [0,0,1], [0,1,1], [1,1,1], [1,0,1], [1,0,0], [0,1,0], [1,1,0]] $$"
   ]
  },
  {
   "cell_type": "markdown",
   "id": "261b56f8-fa25-4308-bbac-0d539764f598",
   "metadata": {},
   "source": [
    "`-` 표본공간, 경우의 수에 대한 이해"
   ]
  },
  {
   "cell_type": "markdown",
   "id": "e4afceb7-a23f-49ac-9dc7-9e4ccd6d7d23",
   "metadata": {},
   "source": [
    "* 문제 1. 남자와 여자는 서로 다른 모자를 써야 하는데, 이럴 경우 나올 수 있는 경우의 수는?\n",
    "\n",
    "$\\to$ `[남자 1, 여자 1]`, `[모자 1, 모자2, 모자 3]`"
   ]
  },
  {
   "cell_type": "markdown",
   "id": "4f547e8c-a63e-4ebc-9ee9-8cfbcda93bf8",
   "metadata": {},
   "source": [
    "* 문제 2. 남자와 여자는 서로 다른 모자와 신발을 써야 하는데, 이럴 경우 나올 수 있는 경우의 수는?\n",
    "\n",
    "$\\to$ `[남자 1, 여자 1]`, `[모자 1, 모자2, 모자 3]`, `[신발 1, 신발 2, 신발 3]`"
   ]
  },
  {
   "cell_type": "markdown",
   "id": "a3c2c7a9-103a-46d2-aa25-288c6e72eeb4",
   "metadata": {},
   "source": [
    "### Q1. 모두 앞면이 나올 확률"
   ]
  },
  {
   "cell_type": "markdown",
   "id": "137f1350-1fe5-4a47-bb8f-f7e17ffd2427",
   "metadata": {},
   "source": [
    "`-` 모든 경우의 수 :  `2x2x2=8`"
   ]
  },
  {
   "cell_type": "markdown",
   "id": "3543ba9e-40a5-4b9c-a354-98b40b379e6c",
   "metadata": {},
   "source": [
    "`-` 경우의 수 : 1"
   ]
  },
  {
   "cell_type": "markdown",
   "id": "5765c287-ab45-4389-8980-16acfce12c5e",
   "metadata": {},
   "source": [
    "`-` 그렇다면 앞면이 3번 나올 확률은?\n",
    "\n",
    "$$\\begin{align*} P(X_1 =1, X_2 = 1,X_3 = 1) &= P(X_1=1)P(X_2 =1)P(X_3 =1) \\\\ \\\\ \n",
    "                                    &= \\frac{1}{2}\\times \\frac{1}{2}\\times \\frac{1}{2} = \\frac{1}{8} \\end{align*}$$"
   ]
  },
  {
   "cell_type": "markdown",
   "id": "28698b27-096f-4ab7-a9dd-a395f111311c",
   "metadata": {},
   "source": [
    "### Q2. 동전을 3회 던졌을 때, 앞면이 두번 나올 확률"
   ]
  },
  {
   "cell_type": "markdown",
   "id": "b2579e38-df66-4409-9476-8d4a17ba1c08",
   "metadata": {},
   "source": [
    "`-` 3회 던지는 실험에서 표본 공간"
   ]
  },
  {
   "cell_type": "markdown",
   "id": "92b8192c-2ba8-4858-8e5f-28b9b826924f",
   "metadata": {},
   "source": [
    "$$S \\in [[0,0,0], [0,0,1], [0,1,1], [1,1,1], [1,0,1], [1,0,0], [0,1,0], [1,1,0]] $$"
   ]
  },
  {
   "cell_type": "markdown",
   "id": "af4da22d-145e-482f-a5e7-2fbff7420b5e",
   "metadata": {},
   "source": [
    "`case1` 첫번째 앞면, 두번째 앞면, 세번째 뒷면\n",
    "\n",
    "$$\\begin{align*}P(X_1 = 1, X_2 = 1, X_3 = 0) &= P(X_1=1)P(X_2=1)P(X_3=0) \\\\ \\\\ \n",
    "                                    &= \\frac{1}{2}\\times \\frac{1}{2}\\times \\frac{1}{2} = \\frac{1}{8}   \\end{align*}$$"
   ]
  },
  {
   "cell_type": "markdown",
   "id": "07fb97d6-7e90-4883-92ad-e287ae0280e5",
   "metadata": {},
   "source": [
    "`case2` 첫번째는 앞면, 두번쨰는 뒷면, 세번쨰는 앞면\n",
    "\n",
    "$$\\begin{align*}P(X_1 = 1, X_2 = 0, X_3 = 1) &= P(X_1=1)P(X_2=0)P(X_3=0) \\\\ \\\\ \n",
    "                                    &= \\frac{1}{2}\\times \\frac{1}{2}\\times \\frac{1}{2} = \\frac{1}{8}   \\end{align*}$$"
   ]
  },
  {
   "cell_type": "markdown",
   "id": "5bd9c06a-9063-4ac4-9725-753f795a59e3",
   "metadata": {},
   "source": [
    "`case3` 첫번째는 뒷면, 두번째는 앞면, 세번째는 앞면\n",
    "\n",
    "$$\\begin{align*}P(X_1 = 0, X_2 = 1, X_3 = 1) &= P(X_1=1)P(X_2=0)P(X_3=0) \\\\ \\\\ \n",
    "                                    &= \\frac{1}{2}\\times \\frac{1}{2}\\times \\frac{1}{2} = \\frac{1}{8}   \\end{align*}$$"
   ]
  },
  {
   "cell_type": "markdown",
   "id": "82a28df0-dffc-4fd9-9f83-e86cd72e3a17",
   "metadata": {},
   "source": [
    "$$\\text{case1} + \\text{case2} + \\text{case3} = \\frac 38$$"
   ]
  },
  {
   "cell_type": "markdown",
   "id": "721fe205-6b06-4814-825c-a69c2944e83b",
   "metadata": {},
   "source": [
    "결국 case1,2,3을 모두 더하면"
   ]
  },
  {
   "cell_type": "markdown",
   "id": "77ab80bc-2a49-404c-a1bb-1cba1287e7a0",
   "metadata": {},
   "source": [
    "동전을 3회 던졌을 때 앞면이 두 번 나올 확률은? $\\to \\frac{3}{8}$ "
   ]
  },
  {
   "cell_type": "markdown",
   "id": "9c4b9e0d-dd55-4c43-9f0d-1598034f5532",
   "metadata": {},
   "source": [
    "`의문 1` : 뭔가 규칙성이 있어 보인다. 즉, 저거를 한번에 계산하는 어떤 공식이 있겠다....\n",
    "\n",
    "* 이러한 것을 빠르게 계산하기 위해서는, 주어진 자료에 대한 확률분포를 알고 있어야한다.\n",
    "\n",
    "* 다시 목표 1 : **궁극적으로 어떠한 자료가 주어졌을 때, 해당 자료가 어떤 분포를 따르고, 주어진 값에서 어떠한 확률값을 가지는 지를 학습해야 한다.**"
   ]
  },
  {
   "cell_type": "markdown",
   "id": "48e12981-2773-417d-8c08-a2d5df10a6c7",
   "metadata": {},
   "source": [
    "***"
   ]
  },
  {
   "cell_type": "markdown",
   "id": "20e26bc1-b6eb-471f-99b8-373f2b5ae29e",
   "metadata": {},
   "source": [
    "## 베르누이 분포"
   ]
  },
  {
   "cell_type": "markdown",
   "id": "f0bd8ce1-0da2-4eba-b2ad-26c32442fc87",
   "metadata": {},
   "source": [
    "`-` 성공과 실패와 같이 두 가지 결과만 나타나는 실험에 대한 확률분포\n",
    "\n",
    "* 관심있는 사건이 등장할 확률이 $p$인 실험"
   ]
  },
  {
   "cell_type": "markdown",
   "id": "f2c19a49-50ac-4d19-b7bb-d7fa5dc1a825",
   "metadata": {},
   "source": [
    "$$X \\sim Ber(p)$$"
   ]
  },
  {
   "cell_type": "markdown",
   "id": "3b892bb5-f6f4-419d-984d-677efe0ac478",
   "metadata": {},
   "source": [
    "$$P(X)=f(x)= p^{x}(1-p)^{1-x}$$"
   ]
  },
  {
   "cell_type": "markdown",
   "id": "c5eee8a6-1099-40cc-ba89-2b3644d4527f",
   "metadata": {},
   "source": [
    "`1` 표본공간 :  $X \\in \\text{[뒤, 앞]} \\,= \\,\\in [0, 1]$"
   ]
  },
  {
   "cell_type": "markdown",
   "id": "d5baccfd-9a10-4896-8f30-c7a932ec8d12",
   "metadata": {},
   "source": [
    "p = 1/3"
   ]
  },
  {
   "cell_type": "markdown",
   "id": "0c009b18-4ac2-4025-8939-c2fbf18b38d6",
   "metadata": {},
   "source": [
    "`-` 앞면이 나오는 경우"
   ]
  },
  {
   "cell_type": "markdown",
   "id": "9d9babd3-0a00-4a80-9c5e-045b40234761",
   "metadata": {},
   "source": [
    "$$P(X = 1) = f(x=1) = p^{1}(1-p)^{0} = (1/3) \\times (2/3) = 2/9$$"
   ]
  },
  {
   "cell_type": "markdown",
   "id": "4bae959e-ebfd-485f-912c-922973170ec3",
   "metadata": {},
   "source": [
    "`-` 뒷면이 나오는 경우"
   ]
  },
  {
   "cell_type": "markdown",
   "id": "2300c8d6-21ed-4a6b-8b0c-22a218bc297a",
   "metadata": {},
   "source": [
    "1-p = q = 2/3"
   ]
  },
  {
   "cell_type": "markdown",
   "id": "95c84575-6e3d-4a86-a71a-5cdd6a65b2ef",
   "metadata": {},
   "source": [
    "$$P(X = 0) = f(x=0) =(q)^{1}(1-q)^{1-1} = 2/3$$"
   ]
  },
  {
   "cell_type": "markdown",
   "id": "a4af3e68-3d0a-46ee-8a79-c997d2ecc423",
   "metadata": {},
   "source": [
    "`-` 일반화"
   ]
  },
  {
   "cell_type": "markdown",
   "id": "a73a39cb-fbf0-4225-a3ac-09413afff81b",
   "metadata": {},
   "source": [
    "$$P(X)=f(x)= p^{x}(1-p)^{1-x}$$"
   ]
  },
  {
   "cell_type": "markdown",
   "id": "38e49601-0177-4fff-8383-6f7b7318b888",
   "metadata": {},
   "source": [
    "***"
   ]
  },
  {
   "cell_type": "markdown",
   "id": "3b5941f5-343f-4232-95fe-f545bf05765f",
   "metadata": {},
   "source": [
    "## 이항분포"
   ]
  },
  {
   "cell_type": "markdown",
   "id": "81954fe2-0300-4eb3-95f7-8994bcc43076",
   "metadata": {},
   "source": [
    "`-` 베르누이 분포를 따르는 $n$개의 확률변수들이 특정 사건을 $x$번 일으키는지에 대한 확률분포"
   ]
  },
  {
   "cell_type": "markdown",
   "id": "7490140a-6c33-4a33-bb37-d590bdff16e1",
   "metadata": {},
   "source": [
    "`-` 다시 예제 : 동전을 3회 던졌을 떄 앞면이 2번 나올 확률은?"
   ]
  },
  {
   "cell_type": "markdown",
   "id": "4ced3252-8398-434b-a0ae-5686b9d4f30e",
   "metadata": {},
   "source": [
    "* 접근 : 결국 이항분포를 이용해서 앞면이 2번 나올 확률을 계산하라는 거네?"
   ]
  },
  {
   "cell_type": "markdown",
   "id": "79595201-c1e9-4190-80a9-83e210e40eec",
   "metadata": {},
   "source": [
    "`-` 잠깐 중학교 수학 : `combination`\n",
    "\n",
    "$$_{n}\\mathrm{C}_{x} = \\frac{n!}{x!(n-x)!}$$\n",
    "\n",
    "\n",
    "* 동전을 3번 던졌을 때 앞면이 2번 나오는 경우의 수는?\n",
    "\n",
    "    * 동전을 3번 던졌을 때 뒷면이 1번 나오는 경우의 수를 구하는 것과 같습니당\n",
    "    * [1,1,0], [1,0,1], [0,1,1]"
   ]
  },
  {
   "cell_type": "markdown",
   "id": "b7a5bd18-b7d8-43c4-80aa-d8dc16d13532",
   "metadata": {},
   "source": [
    "$$_{3}\\mathrm{C}_{2} \\,= \\,_{3}\\mathrm{C}_{1} =  3$$"
   ]
  },
  {
   "cell_type": "markdown",
   "id": "db1c766e-ac2b-4040-93a0-419aedaebd32",
   "metadata": {},
   "source": [
    "`-` 다시 예제를 생각해보면, 우리는 모든 case를 구하고, 그 case 수와 확률값을 곱했다.\n",
    "\n",
    "* 근데 우리는 `combination`을 배웠으니까 위처럼 경우의 수를 쉽게 구할 수 있자나?\n",
    "\n",
    "* 즉, 3번 던져서 앞면이 2번 나올 확률은 `1/8`이고 이러한 경우가 `3`개니까. 답은 `3/8`이야"
   ]
  },
  {
   "cell_type": "markdown",
   "id": "6a178d96-fe60-4e7d-b9e3-90e732d4eb5c",
   "metadata": {},
   "source": [
    "$$X \\sim B(n,p)$$"
   ]
  },
  {
   "cell_type": "markdown",
   "id": "28c147fe-7b7e-41e2-9ad1-ac5cb8554753",
   "metadata": {},
   "source": [
    "$$ f(x) \\,=\\, _{n}\\mathrm{C}_{x}\\,p^{x}(1-p)^{n-x}$$"
   ]
  },
  {
   "cell_type": "markdown",
   "id": "05145257-e2d4-4216-a566-04889afcff63",
   "metadata": {},
   "source": [
    "$$f(x = 2) \\,= \\,_{3}\\mathrm{C}_{2}\\,\\times p^{2}(1-p)^{1} = 3\\times \\frac 18 = \\frac 38 $$"
   ]
  },
  {
   "cell_type": "markdown",
   "id": "fe01b691-b2a4-4e5e-a900-b521c79ef7bd",
   "metadata": {},
   "source": [
    "`-` 다시 목표 : **궁극적으로 어떠한 자료가 주어졌을 때, 해당 자료가 어떤 분포를 따르고, 주어진 값에서 어떠한 확률값을 가지는 지를 학습한다!**"
   ]
  },
  {
   "cell_type": "markdown",
   "id": "2a462e51-9602-4006-8d8a-e7eb186b8ee0",
   "metadata": {},
   "source": [
    "***"
   ]
  },
  {
   "cell_type": "markdown",
   "id": "8e007167-0967-44f5-82a8-5d5dffdf06dd",
   "metadata": {},
   "source": [
    "# 회귀분석"
   ]
  },
  {
   "cell_type": "markdown",
   "id": "87872cbe-8397-44a7-8dda-d417037d8479",
   "metadata": {},
   "source": [
    "## intro"
   ]
  },
  {
   "cell_type": "markdown",
   "id": "24733387-b47f-43f4-8471-730906014295",
   "metadata": {},
   "source": [
    "`1` 변수들간의 관계를 모형화하고 조사하는 통계적인 기법\n",
    "\n",
    "`2` 가장 널리 활용되는 통계 기법 중 하나이며 머신러닝, 딥러닝을 학습하기 위해 필수적으로 알아햐하는 방법론이다.\n",
    "\n",
    "`3` 아들의 키는 아버지의 키로 회귀한다는 말에서 유래됨"
   ]
  },
  {
   "cell_type": "markdown",
   "id": "db3550a5-bacb-4fce-8c75-29cdacb1c3a1",
   "metadata": {},
   "source": [
    "## 목표"
   ]
  },
  {
   "cell_type": "markdown",
   "id": "3f4457fa-0d2b-418b-a493-dfedb787ad8d",
   "metadata": {},
   "source": [
    "`1` 오차의 존재하에서 변수 간의 관계를 나타내는 수식을 찾아내는 것!\n",
    "\n",
    "`2` 즉, 아래와 같은 실생활에서 발견할 수 있는 현상\n",
    "\n",
    "* 날이 더우면, 아이스아메리카노 판매량이 증가한다?\n",
    "\n",
    "$$ \\text{아이스아메리카노 판매량}= 1.5\\times{온도} + \\beta_0 + \\varepsilon$$"
   ]
  },
  {
   "cell_type": "markdown",
   "id": "5663876c-da85-4412-9184-e2601a76a20c",
   "metadata": {},
   "source": [
    "* 우리가 위와 같은 현상을 발견했으면 아래와 같은 수식을 발견하는 것이 회귀분석의 목적이다!"
   ]
  },
  {
   "cell_type": "markdown",
   "id": "fa1b0730-7ea8-4b39-8135-3c3b64dfc514",
   "metadata": {},
   "source": [
    "$$y \\approx 1.5x_1 + \\beta_0 $$"
   ]
  },
  {
   "cell_type": "code",
   "execution_count": 2,
   "id": "68a77d02-b175-4b19-9674-64d4bb6fd100",
   "metadata": {},
   "outputs": [
    {
     "data": {
      "image/png": "[encoded data removed]",
      "text/plain": [
       "plot without title"
      ]
     },
     "metadata": {
      "image/png": {
       "height": 400,
       "width": 600
      }
     },
     "output_type": "display_data"
    }
   ],
   "source": [
    "# \\ code-fold: true\n",
    "library(tidyverse)\n",
    "\n",
    "options(repr.plot.res = 200, repr.plot.height = 4,repr.plot.width = 6)\n",
    "library(tidyverse)\n",
    "\n",
    "x = seq(-10,40, length.out = 1000)\n",
    "error = rnorm(1000)*10\n",
    "y = 1.5*x + error\n",
    "hat_y = 1.5*x\n",
    "\n",
    "data  = tibble(x = x, \"실제값\" = y, \"예측값\" = hat_y)\n",
    "\n",
    "data %>% \n",
    "        gather(\"label\",\"value\",-x) %>%\n",
    "            ggplot(aes(x = x, y = value, color = label)) +\n",
    "                geom_point(alpha = 0.2) +\n",
    "                ggtitle(\"아메리카노 판매량 예측\") +\n",
    "                xlab(\"온도\") + \n",
    "                ylab(\"아이스아메리카노 판매량\") +  \n",
    "                theme(plot.title = element_text(hjust = 0.5,))"
   ]
  },
  {
   "cell_type": "markdown",
   "id": "79656cbc-565a-4388-8190-a6a4c3d7933c",
   "metadata": {},
   "source": [
    "`-` 다시 목표 2 : 다양한 회귀분석 이론을 학습하고, 적용해보며 실생활에 적용할 수 있도록 한다!\n",
    "\n",
    "* 이를 학습해서, 결정계수, MSE 등등 최적의 회귀식을 찾기위한 방법론을 학습할 예정\n",
    "\n",
    "* 또한, 분류문제에서 회귀분석이 어떻게 적용되는지를 학습한다."
   ]
  }
 ],
 "metadata": {
  "kernelspec": {
   "display_name": "R",
   "language": "R",
   "name": "ir"
  },
  "language_info": {
   "codemirror_mode": "r",
   "file_extension": ".r",
   "mimetype": "text/x-r-source",
   "name": "R",
   "pygments_lexer": "r",
   "version": "4.1.3"
  }
 },
 "nbformat": 4,
 "nbformat_minor": 5
}
