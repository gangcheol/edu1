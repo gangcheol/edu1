{
 "cells": [
  {
   "cell_type": "raw",
   "id": "2e7913fe-5967-4a52-9a87-03cccb6f6efc",
   "metadata": {},
   "source": [
    "---\n",
    "title : \"00. Intro\"\n",
    "author : \"GC\"\n",
    "date : \"04/15/24\"\n",
    "---"
   ]
  },
  {
   "cell_type": "markdown",
   "id": "84542ddc-f26e-4126-aaa7-aed2e68601d0",
   "metadata": {},
   "source": [
    "# Intro"
   ]
  },
  {
   "cell_type": "markdown",
   "id": "15d76667-4aa8-40ce-be32-d8dbf98e15ef",
   "metadata": {},
   "source": [
    "`-` 해당 수업에서는 확률에 관한 이론과 회귀분석에 대해 소개합니다.\n",
    "\n",
    "`-` 목표 1 : 궁극적으로 어떠한 자료가 주어졌을 때, 해당 자료가 어떤 분포를 따르고, 주어진 값에서 어떠한 확률값을 가지는 지를 학습한다!\n",
    "\n",
    "`-` 목표 2 : 다양한 회귀분석 이론을 학습하고, 적용해보며 실생활에 활용할 수 있도록 한다!"
   ]
  },
  {
   "cell_type": "markdown",
   "id": "ef527864-8f35-48c9-945e-65c2c346d1d2",
   "metadata": {},
   "source": [
    "***"
   ]
  },
  {
   "cell_type": "markdown",
   "id": "97ffbe11-83a1-4000-a6ea-ca2d62d8230e",
   "metadata": {},
   "source": [
    "# 확률변수"
   ]
  },
  {
   "cell_type": "markdown",
   "id": "0a8ce3b3-223d-44b7-937e-71ebef003714",
   "metadata": {},
   "source": [
    "`-` 확률변수 $X$ : 표본공간 $S$에 정의된 실수값을 가지는 모든 함수(real-valued function)\n",
    "\n",
    "* $X$가 가질수 있는 모든 실수값 범위\n",
    "\n",
    "* $X \\in S$, or $X \\in R$"
   ]
  },
  {
   "cell_type": "markdown",
   "id": "9789b78a-3e71-4ff5-b8a8-691966fc1ac4",
   "metadata": {},
   "source": [
    "## 예제  1. 동전 1회 던지는 실험"
   ]
  },
  {
   "cell_type": "markdown",
   "id": "e403aa5b-6b97-4d64-81cd-c1ea3225b28d",
   "metadata": {},
   "source": [
    "`1` 표본공간 :  $X \\in \\text{[뒤, 앞]} =  [0, 1] $"
   ]
  },
  {
   "cell_type": "markdown",
   "id": "3c64dea2-41e2-4cb5-9456-5c240f3c553b",
   "metadata": {},
   "source": [
    "`2` 앞면이 나올 확률은?  $\\to P(X = 1) = 1/2$"
   ]
  },
  {
   "cell_type": "markdown",
   "id": "bfdfc102-31c0-49ac-bce6-fa531b6bd24b",
   "metadata": {},
   "source": [
    "## 예제 2. 동전을 2회 던지는 실험"
   ]
  },
  {
   "cell_type": "markdown",
   "id": "34cc0e56-9a23-4303-8ad6-97345e9ea6dc",
   "metadata": {},
   "source": [
    "### Q1.앞면이 두번 나올 확률"
   ]
  },
  {
   "cell_type": "markdown",
   "id": "4b8eab68-9a3a-4ac7-b523-7abcf268ebb3",
   "metadata": {},
   "source": [
    "`1` 첫 번째 시행 :  $X_1 \\in \\text{[앞, 뒤]} = \\,\\in [0,1]$"
   ]
  },
  {
   "cell_type": "markdown",
   "id": "9c14b0f3-e889-45a0-bc4d-454130b75b10",
   "metadata": {},
   "source": [
    "`2` 두 번째 시행 : $X_2 \\in \\text{[앞, 뒤]} = \\,\\in [0,1]$"
   ]
  },
  {
   "cell_type": "markdown",
   "id": "850aaf8e-12c7-43cf-ad20-697c2ec47a6e",
   "metadata": {},
   "source": [
    "`3` 그렇다면 앞면이 두번 나올 확률은?"
   ]
  },
  {
   "cell_type": "markdown",
   "id": "182a2067-9b2d-4161-a2d7-6dbc3efaaa31",
   "metadata": {},
   "source": [
    "$$\\begin{align*}P(X_1 = 1, X_2 = 1) &= P(X_1=1)P(X_2=1) \\\\ \\\\ \n",
    "                                    &= \\frac{1}{2}\\times \\frac{1}{2} = \\frac{1}{4}   \\end{align*}$$"
   ]
  },
  {
   "cell_type": "markdown",
   "id": "d677a1c6-7aba-44e1-bf8e-bcb960a1a8d3",
   "metadata": {},
   "source": [
    "### Q2. 앞면이 한번 나올 확률"
   ]
  },
  {
   "cell_type": "markdown",
   "id": "80afde07-47c6-4ac9-8572-8174624000f6",
   "metadata": {},
   "source": [
    "`case1`"
   ]
  },
  {
   "cell_type": "markdown",
   "id": "8adc6d7c-31df-49c3-be95-9c3b0a716c5b",
   "metadata": {},
   "source": [
    "$$\\begin{align*}P(X_1 = 0, X_2 = 1) &= P(X_1=0)P(X_2=1) \\\\ \\\\ \n",
    "                                    &= \\frac{1}{2}\\times \\frac{1}{2} = \\frac{1}{4}   \\end{align*}$$"
   ]
  },
  {
   "cell_type": "markdown",
   "id": "871b3ea8-b6c6-470f-95de-d0530d8f7a3a",
   "metadata": {},
   "source": [
    "`case2`"
   ]
  },
  {
   "cell_type": "markdown",
   "id": "8ac9d791-d778-47ad-82e6-c4f34d8ed876",
   "metadata": {},
   "source": [
    "$$\\begin{align*}P(X_1 = 1, X_2 = 0) &= P(X_1=0)P(X_2=1) \\\\ \\\\ \n",
    "                                    &= \\frac{1}{2}\\times \\frac{1}{2} = \\frac{1}{4}   \\end{align*}$$"
   ]
  },
  {
   "cell_type": "markdown",
   "id": "8d5d7f2b-fb89-432c-9e90-8e176ceba217",
   "metadata": {},
   "source": [
    "$$\\text{case1} + \\text{case2} = \\frac{1}{2}$$"
   ]
  },
  {
   "cell_type": "markdown",
   "id": "3dfaffe0-1a30-4090-8373-de86fd100152",
   "metadata": {},
   "source": [
    "## 예제3. 동전을 3회 던지는 실험"
   ]
  },
  {
   "cell_type": "markdown",
   "id": "a3c2c7a9-103a-46d2-aa25-288c6e72eeb4",
   "metadata": {},
   "source": [
    "### Q1. 모두 앞면이 나올 확률"
   ]
  },
  {
   "cell_type": "markdown",
   "id": "36950ffe-f678-4228-8bbc-6f6011777775",
   "metadata": {},
   "source": [
    "$$\\begin{align*}P(X_1 = 1, X_2 = 1, X_3 = 1) &= P(X_1=1)P(X_2=1)P(X_3=1) \\\\ \\\\ \n",
    "                                    &= \\frac{1}{2}\\times \\frac{1}{2}\\times \\frac{1}{2} = \\frac{1}{8}   \\end{align*}$$"
   ]
  },
  {
   "cell_type": "markdown",
   "id": "28698b27-096f-4ab7-a9dd-a395f111311c",
   "metadata": {},
   "source": [
    "### Q2. 앞면이 두번 나올 확률"
   ]
  },
  {
   "cell_type": "markdown",
   "id": "8fa40637-4317-493f-934d-1949fde0542b",
   "metadata": {},
   "source": [
    "`case1`\n",
    "\n",
    "$$\\begin{align*}P(X_1 = 1, X_2 = 1, X_3 = 0) &= P(X_1=1)P(X_2=1)P(X_3=0) \\\\ \\\\ \n",
    "                                    &= \\frac{1}{2}\\times \\frac{1}{2}\\times \\frac{1}{2} = \\frac{1}{8}   \\end{align*}$$"
   ]
  },
  {
   "cell_type": "markdown",
   "id": "805e3fa9-656a-4974-925b-e147633a53e9",
   "metadata": {},
   "source": [
    "`case2`\n",
    "\n",
    "$$\\begin{align*}P(X_1 = 1, X_2 = 0, X_3 = 1) &= P(X_1=1)P(X_2=0)P(X_3=0) \\\\ \\\\ \n",
    "                                    &= \\frac{1}{2}\\times \\frac{1}{2}\\times \\frac{1}{2} = \\frac{1}{8}   \\end{align*}$$"
   ]
  },
  {
   "cell_type": "markdown",
   "id": "5a77a0d6-25fb-4c96-b39c-043cb163ebc2",
   "metadata": {},
   "source": [
    "`case3`\n",
    "\n",
    "$$\\begin{align*}P(X_1 = 0, X_2 = 1, X_3 = 1) &= P(X_1=1)P(X_2=0)P(X_3=0) \\\\ \\\\ \n",
    "                                    &= \\frac{1}{2}\\times \\frac{1}{2}\\times \\frac{1}{2} = \\frac{1}{8}   \\end{align*}$$"
   ]
  },
  {
   "cell_type": "markdown",
   "id": "721fe205-6b06-4814-825c-a69c2944e83b",
   "metadata": {},
   "source": [
    "결국 case1,2,3을 모두 더하면"
   ]
  },
  {
   "cell_type": "markdown",
   "id": "77ab80bc-2a49-404c-a1bb-1cba1287e7a0",
   "metadata": {},
   "source": [
    "동전을 3회 던졌을 때 앞면이 두 번 나올 확률은? $\\to \\frac{3}{8}$ "
   ]
  },
  {
   "cell_type": "markdown",
   "id": "9c4b9e0d-dd55-4c43-9f0d-1598034f5532",
   "metadata": {},
   "source": [
    "`의문 1` : 뭔가 규칙성이 있어 보이기 때문에, 저거를 한번에 계산하는 어떤 공식이 있을 것 같에요.\n",
    "\n",
    "* 이러한 것을 빠르게 계산하기 위해서는, 주어진 자료에 대한 확률분포를 알고 있어야 한다.\n",
    "\n",
    "* 다시 목표 1 : **궁극적으로 어떠한 자료가 주어졌을 때, 해당 자료가 어떤 분포를 따르고, 주어진 값에서 어떠한 확률값을 가지는 지를 학습한다!**"
   ]
  },
  {
   "cell_type": "markdown",
   "id": "48e12981-2773-417d-8c08-a2d5df10a6c7",
   "metadata": {},
   "source": [
    "***"
   ]
  },
  {
   "cell_type": "markdown",
   "id": "20e26bc1-b6eb-471f-99b8-373f2b5ae29e",
   "metadata": {},
   "source": [
    "## 베르누이 분포"
   ]
  },
  {
   "cell_type": "markdown",
   "id": "f0bd8ce1-0da2-4eba-b2ad-26c32442fc87",
   "metadata": {},
   "source": [
    "`-` 성공과 실패와 같이 두 가지 결과만 나타나는 실험에 대한 확률분포\n",
    "\n",
    "* 관심있는 사건이 등장할 확률이 $p$인 실험"
   ]
  },
  {
   "cell_type": "markdown",
   "id": "f2c19a49-50ac-4d19-b7bb-d7fa5dc1a825",
   "metadata": {},
   "source": [
    "$$X \\sim Ber(p)$$"
   ]
  },
  {
   "cell_type": "markdown",
   "id": "3b892bb5-f6f4-419d-984d-677efe0ac478",
   "metadata": {},
   "source": [
    "$$P(X)=f(x)= p^{x}(1-p)^{1-x}$$"
   ]
  },
  {
   "cell_type": "markdown",
   "id": "b79290fa-8207-4c83-a4cc-3e4840dd33e6",
   "metadata": {},
   "source": [
    "`-` 다시 동전던지기를 생각해보면? 위 수식 $x$에 1을 넣거나 0을 넣으면, 주어진 값에 대한 확률을 쉽게 구할 수 있겠죠?"
   ]
  },
  {
   "cell_type": "markdown",
   "id": "38e49601-0177-4fff-8383-6f7b7318b888",
   "metadata": {},
   "source": [
    "***"
   ]
  },
  {
   "cell_type": "markdown",
   "id": "3b5941f5-343f-4232-95fe-f545bf05765f",
   "metadata": {},
   "source": [
    "## 이항분포"
   ]
  },
  {
   "cell_type": "markdown",
   "id": "d68f65d0-4c8d-4750-85de-36ceedf3084e",
   "metadata": {},
   "source": [
    "`-` 베르누이 분포를 따르는 $n$개의 확률변수들이 특정 사건을 $x$번 일으키는지에 대한 확률분포"
   ]
  },
  {
   "cell_type": "markdown",
   "id": "f8caa555-70d0-4914-84c8-66530f98a931",
   "metadata": {},
   "source": [
    "`-` 다시 예제 : 동전을 3회 던졌을 떄 앞면이 2번 나올 확률은?"
   ]
  },
  {
   "cell_type": "markdown",
   "id": "d8a28286-b4f1-4534-b5f7-182fcad48dd3",
   "metadata": {},
   "source": [
    "* 접근 : 동전을 던져서 앞면이 나올 확률이 `1/2`이니까 이항분포를 이용해서 앞면이 2번 나올 확률을 계산하라는 거네?"
   ]
  },
  {
   "cell_type": "markdown",
   "id": "b80bf6b2-deb9-4b87-b39a-0ee78a0cfc1b",
   "metadata": {},
   "source": [
    "`-` 잠깐 중학교 수학 : `combination`\n",
    "\n",
    "$$_{n}\\mathrm{C}_{x} = \\frac{n!}{x!(n-x)!}$$\n",
    "\n",
    "\n",
    "* 동전을 3번 던졌을 때 앞면이 2번 나오는 경우의 수는?\n",
    "\n",
    "    * 동전을 3번 던졌을 때 뒷면이 1번 나오는 경우의 수를 구하는 것과 같습니당\n",
    "    * [1,1,0], [1,0,1], [0,1,1]"
   ]
  },
  {
   "cell_type": "markdown",
   "id": "890f9c5e-0093-4c36-a21f-19579ff5323e",
   "metadata": {},
   "source": [
    "$$_{3}\\mathrm{C}_{2} \\,= \\,_{3}\\mathrm{C}_{1} =  3$$"
   ]
  },
  {
   "cell_type": "markdown",
   "id": "e20d51dd-8931-4851-b850-eed84f0920b3",
   "metadata": {},
   "source": [
    "`-` 다시 예제를 생각해보면, 우리는 모든 case를 구하고, 그 case별 확률을 계산해서 모두 더했다.\n",
    "\n",
    "* 근데 우리는 `combination`을 배웠으니까 위처럼 경우의 수를 쉽게 구할 수 있자나?\n",
    "\n",
    "* 즉, 3번 던져서 앞면이 2번 나올 확률은 `1/8`이고 이러한 경우가 `3`개니까. 답은 `3/8`이야"
   ]
  },
  {
   "cell_type": "markdown",
   "id": "4871aa7a-7d43-4cfb-9fba-9ed36b12a937",
   "metadata": {},
   "source": [
    "`-` 이를 이항분포로 나타내면?"
   ]
  },
  {
   "cell_type": "markdown",
   "id": "00c3b35d-fc18-49cb-b3b4-93a76dd5498e",
   "metadata": {},
   "source": [
    "$$X \\sim B(n,p)$$"
   ]
  },
  {
   "cell_type": "markdown",
   "id": "afb25e97-3f1f-43a3-a8c3-da7eaaeffcd2",
   "metadata": {},
   "source": [
    "$$ f(x) = _{n}\\mathrm{C}_{x}\\,p^{x}(1-p)^{n-x}$$"
   ]
  },
  {
   "cell_type": "markdown",
   "id": "3adef62f-9c0b-4f44-b162-a69bb688755d",
   "metadata": {},
   "source": [
    "$$f(x = 2) \\,= \\,_{3}\\mathrm{C}_{2}\\,\\times p^{2}(1-p)^{1} = 3\\times \\frac 18 = \\frac 38 $$"
   ]
  },
  {
   "cell_type": "markdown",
   "id": "e0c908f2-b5b3-4984-8eb6-81c5460356d7",
   "metadata": {},
   "source": [
    "`-` 다시 목표 : **궁극적으로 어떠한 자료가 주어졌을 때, 해당 자료가 어떤 분포를 따르고, 주어진 값에서 어떠한 확률값을 가지는 지를 학습한다!**"
   ]
  },
  {
   "cell_type": "markdown",
   "id": "2a462e51-9602-4006-8d8a-e7eb186b8ee0",
   "metadata": {},
   "source": [
    "***"
   ]
  },
  {
   "cell_type": "markdown",
   "id": "8e007167-0967-44f5-82a8-5d5dffdf06dd",
   "metadata": {},
   "source": [
    "# 회귀분석"
   ]
  },
  {
   "cell_type": "markdown",
   "id": "87872cbe-8397-44a7-8dda-d417037d8479",
   "metadata": {},
   "source": [
    "## intro"
   ]
  },
  {
   "cell_type": "markdown",
   "id": "b3083f39-c7e6-4409-b28b-e2b4e5269197",
   "metadata": {},
   "source": [
    "`1` 변수들간의 관계를 모형화하고 조사하는 통계적인 기법\n",
    "\n",
    "`2` 가장 널리 활용되는 통계 기법 중 하나이며 머신러닝, 딥러닝을 학습하기 위해 필수적으로 알아햐하는 방법론이다.\n",
    "\n",
    "`3` 아들의 키는 아버지의 키로 회귀한다는 말에서 유래됨"
   ]
  },
  {
   "cell_type": "markdown",
   "id": "db3550a5-bacb-4fce-8c75-29cdacb1c3a1",
   "metadata": {},
   "source": [
    "## 목표"
   ]
  },
  {
   "cell_type": "markdown",
   "id": "a9ae0245-c798-4809-bcee-5d91d06a18ca",
   "metadata": {},
   "source": [
    "`1` 오차의 존재하에서 변수 간의 관계를 나타내는 수식을 찾아내는 것!\n",
    "\n",
    "`2` 즉, 아래와 같은 실생활에서 발견할 수 있는 현상\n",
    "\n",
    "* 날이 더우면, 아이스아메리카노 판매량이 증가한다?\n",
    "\n",
    "$$ \\text{아이스아메리카노 판매량}= 1.5\\times{온도} + \\beta_0 + \\varepsilon$$\n"
   ]
  },
  {
   "cell_type": "markdown",
   "id": "7054118e-ed3e-4778-8531-b80b967a77a1",
   "metadata": {},
   "source": [
    "* 우리가 위와 같은 현상을 발견했으면 아래와 같은 수식을 발견하는 것이 회귀분석의 목적이다!"
   ]
  },
  {
   "cell_type": "markdown",
   "id": "b64cad0e-2b01-4299-b0ce-42db276f4787",
   "metadata": {},
   "source": [
    "$$y \\approx 1.5x_1 + \\beta_0 $$"
   ]
  },
  {
   "cell_type": "code",
   "execution_count": 41,
   "id": "390954ad-531b-40a5-9e32-109a3dc22171",
   "metadata": {},
   "outputs": [
    {
     "data": {
      "image/png": "[encoded data removed]",
      "text/plain": [
       "plot without title"
      ]
     },
     "metadata": {
      "image/png": {
       "height": 400,
       "width": 600
      }
     },
     "output_type": "display_data"
    }
   ],
   "source": [
    "# \\ code-fold: true\n",
    "library(tidyverse)\n",
    "\n",
    "options(repr.plot.res = 200, repr.plot.height = 4,repr.plot.width = 6)\n",
    "library(tidyverse)\n",
    "\n",
    "x = seq(-10,40, length.out = 1000)\n",
    "error = rnorm(1000)*10\n",
    "y = 1.5*x + error\n",
    "hat_y = 1.5*x\n",
    "\n",
    "data  = tibble(x = x, \"실제값\" = y, \"예측값\" = hat_y)\n",
    "\n",
    "data %>% \n",
    "        gather(\"label\",\"value\",-x) %>%\n",
    "            ggplot(aes(x = x, y = value, color = label)) +\n",
    "                geom_point(alpha = 0.2) +\n",
    "                ggtitle(\"아메리카노 판매량 예측\") +\n",
    "                xlab(\"온도\") + \n",
    "                ylab(\"아이스아메리카노 판매량\") +  \n",
    "                theme(plot.title = element_text(hjust = 0.5,))"
   ]
  },
  {
   "cell_type": "markdown",
   "id": "63dc96e7-7e92-4589-b73c-9aab1b630473",
   "metadata": {},
   "source": [
    "`-` 다시 목표 2 : 다양한 회귀분석 이론을 학습하고, 적용해보며 실생활에 적용할 수 있도록 한다!\n",
    "\n",
    "* 이를 학습하며, 결정계수, MSE 등등 최적의 회귀식을 찾기위한 방법론을 학습할 예정\n",
    "\n",
    "* 또한, 분류문제에서 회귀분석이 어떻게 적용되는지를 학습한다."
   ]
  }
 ],
 "metadata": {
  "kernelspec": {
   "display_name": "R",
   "language": "R",
   "name": "ir"
  },
  "language_info": {
   "codemirror_mode": "r",
   "file_extension": ".r",
   "mimetype": "text/x-r-source",
   "name": "R",
   "pygments_lexer": "r",
   "version": "4.1.3"
  }
 },
 "nbformat": 4,
 "nbformat_minor": 5
}
