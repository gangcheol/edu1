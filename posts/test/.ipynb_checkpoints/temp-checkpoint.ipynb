{
 "cells": [
  {
   "cell_type": "raw",
   "id": "2e7913fe-5967-4a52-9a87-03cccb6f6efc",
   "metadata": {},
   "source": [
    "---\n",
    "title : \"00. Intro\"\n",
    "author : \"GC\"\n",
    "date : \"04/15/24\"\n",
    "---"
   ]
  },
  {
   "cell_type": "markdown",
   "id": "84542ddc-f26e-4126-aaa7-aed2e68601d0",
   "metadata": {},
   "source": [
    "# Intro"
   ]
  },
  {
   "cell_type": "markdown",
   "id": "15d76667-4aa8-40ce-be32-d8dbf98e15ef",
   "metadata": {},
   "source": [
    "`-` 해당 수업에서는 확률에 관한 이론과 회귀분석에 대해 소개합니다."
   ]
  },
  {
   "cell_type": "markdown",
   "id": "ef527864-8f35-48c9-945e-65c2c346d1d2",
   "metadata": {},
   "source": [
    "***"
   ]
  },
  {
   "cell_type": "markdown",
   "id": "97ffbe11-83a1-4000-a6ea-ca2d62d8230e",
   "metadata": {},
   "source": [
    "# 확률변수"
   ]
  },
  {
   "cell_type": "markdown",
   "id": "0a8ce3b3-223d-44b7-937e-71ebef003714",
   "metadata": {},
   "source": [
    "`-` 확률변수 $X$ : 표본공간 $S$에 정의된 실수값을 가지는 모든 함수(real-valued function)"
   ]
  },
  {
   "cell_type": "markdown",
   "id": "9789b78a-3e71-4ff5-b8a8-691966fc1ac4",
   "metadata": {},
   "source": [
    "## 예제  1. 동전 1회 던지는 실험"
   ]
  },
  {
   "cell_type": "markdown",
   "id": "e403aa5b-6b97-4d64-81cd-c1ea3225b28d",
   "metadata": {},
   "source": [
    "`1` 표본공간 :  $X \\in \\text{[뒤, 앞]} $"
   ]
  },
  {
   "cell_type": "markdown",
   "id": "3c64dea2-41e2-4cb5-9456-5c240f3c553b",
   "metadata": {},
   "source": [
    "`2` 앞면이 나올 확률은?"
   ]
  },
  {
   "cell_type": "markdown",
   "id": "bfdfc102-31c0-49ac-bce6-fa531b6bd24b",
   "metadata": {},
   "source": [
    "## 예제 2. 동전을 2회 던지는 실험"
   ]
  },
  {
   "cell_type": "markdown",
   "id": "34cc0e56-9a23-4303-8ad6-97345e9ea6dc",
   "metadata": {},
   "source": [
    "### Q1.앞면이 두번 나올 확률"
   ]
  },
  {
   "cell_type": "markdown",
   "id": "4b8eab68-9a3a-4ac7-b523-7abcf268ebb3",
   "metadata": {},
   "source": [
    "`1` 첫 번째 시행 :  $X_1 \\in \\text{[앞, 뒤]} = \\,\\in [0,1]$"
   ]
  },
  {
   "cell_type": "markdown",
   "id": "9c14b0f3-e889-45a0-bc4d-454130b75b10",
   "metadata": {},
   "source": [
    "`2` 두 번째 시행 : $X_2 \\in \\text{[앞, 뒤]} = \\,\\in [0,1]$"
   ]
  },
  {
   "cell_type": "markdown",
   "id": "850aaf8e-12c7-43cf-ad20-697c2ec47a6e",
   "metadata": {},
   "source": [
    "`3` 그렇다면 앞면이 두번 나올 확률은?"
   ]
  },
  {
   "cell_type": "markdown",
   "id": "d677a1c6-7aba-44e1-bf8e-bcb960a1a8d3",
   "metadata": {},
   "source": [
    "### Q2. 앞면이 한번 나올 확률"
   ]
  },
  {
   "cell_type": "markdown",
   "id": "80afde07-47c6-4ac9-8572-8174624000f6",
   "metadata": {},
   "source": [
    "`case1`"
   ]
  },
  {
   "cell_type": "markdown",
   "id": "871b3ea8-b6c6-470f-95de-d0530d8f7a3a",
   "metadata": {},
   "source": [
    "`case2`"
   ]
  },
  {
   "cell_type": "markdown",
   "id": "3dfaffe0-1a30-4090-8373-de86fd100152",
   "metadata": {},
   "source": [
    "## 예제3. 동전을 3회 던지는 실험"
   ]
  },
  {
   "cell_type": "markdown",
   "id": "a3c2c7a9-103a-46d2-aa25-288c6e72eeb4",
   "metadata": {},
   "source": [
    "### Q1. 모두 앞면이 나올 확률"
   ]
  },
  {
   "cell_type": "markdown",
   "id": "28698b27-096f-4ab7-a9dd-a395f111311c",
   "metadata": {},
   "source": [
    "### Q2. 앞면이 두번 나올 확률"
   ]
  },
  {
   "cell_type": "markdown",
   "id": "721fe205-6b06-4814-825c-a69c2944e83b",
   "metadata": {},
   "source": [
    "결국 case1,2,3을 모두 더하면"
   ]
  },
  {
   "cell_type": "markdown",
   "id": "77ab80bc-2a49-404c-a1bb-1cba1287e7a0",
   "metadata": {},
   "source": [
    "동전을 3회 던졌을 때 앞면이 두 번 나올 확률은? $\\to \\frac{3}{8}$ "
   ]
  },
  {
   "cell_type": "markdown",
   "id": "9c4b9e0d-dd55-4c43-9f0d-1598034f5532",
   "metadata": {},
   "source": [
    "`의문 1`"
   ]
  },
  {
   "cell_type": "markdown",
   "id": "48e12981-2773-417d-8c08-a2d5df10a6c7",
   "metadata": {},
   "source": [
    "***"
   ]
  },
  {
   "cell_type": "markdown",
   "id": "20e26bc1-b6eb-471f-99b8-373f2b5ae29e",
   "metadata": {},
   "source": [
    "## 베르누이 분포"
   ]
  },
  {
   "cell_type": "markdown",
   "id": "f0bd8ce1-0da2-4eba-b2ad-26c32442fc87",
   "metadata": {},
   "source": [
    "`-` 성공과 실패와 같이 두 가지 결과만 나타나는 실험에 대한 확률분포\n",
    "\n",
    "* 관심있는 사건이 등장할 확률이 $p$인 실험"
   ]
  },
  {
   "cell_type": "markdown",
   "id": "f2c19a49-50ac-4d19-b7bb-d7fa5dc1a825",
   "metadata": {},
   "source": [
    "$$X \\sim Ber(p)$$"
   ]
  },
  {
   "cell_type": "markdown",
   "id": "3b892bb5-f6f4-419d-984d-677efe0ac478",
   "metadata": {},
   "source": [
    "$$P(X)=f(x)= p^{x}(1-p)^{1-x}$$"
   ]
  },
  {
   "cell_type": "markdown",
   "id": "b79290fa-8207-4c83-a4cc-3e4840dd33e6",
   "metadata": {},
   "source": [
    "`-` 다시 동전던지기를 생각해보면? 위 수식 $x$에 1을 넣거나 0을 넣으면, 주어진 값에 대한 확률을 쉽게 구할 수 있겠죠?"
   ]
  },
  {
   "cell_type": "markdown",
   "id": "38e49601-0177-4fff-8383-6f7b7318b888",
   "metadata": {},
   "source": [
    "***"
   ]
  },
  {
   "cell_type": "markdown",
   "id": "3b5941f5-343f-4232-95fe-f545bf05765f",
   "metadata": {},
   "source": [
    "## 이항분포"
   ]
  },
  {
   "cell_type": "markdown",
   "id": "2a462e51-9602-4006-8d8a-e7eb186b8ee0",
   "metadata": {},
   "source": [
    "***"
   ]
  },
  {
   "cell_type": "markdown",
   "id": "8e007167-0967-44f5-82a8-5d5dffdf06dd",
   "metadata": {},
   "source": [
    "# 회귀분석"
   ]
  },
  {
   "cell_type": "markdown",
   "id": "87872cbe-8397-44a7-8dda-d417037d8479",
   "metadata": {},
   "source": [
    "## intro"
   ]
  },
  {
   "cell_type": "markdown",
   "id": "db3550a5-bacb-4fce-8c75-29cdacb1c3a1",
   "metadata": {},
   "source": [
    "## 목표"
   ]
  },
  {
   "cell_type": "code",
   "execution_count": null,
   "id": "e8dae0cc-169b-4ad1-8ba6-e41ae5b3e499",
   "metadata": {},
   "outputs": [],
   "source": []
  }
 ],
 "metadata": {
  "kernelspec": {
   "display_name": "R",
   "language": "R",
   "name": "ir"
  },
  "language_info": {
   "codemirror_mode": "r",
   "file_extension": ".r",
   "mimetype": "text/x-r-source",
   "name": "R",
   "pygments_lexer": "r",
   "version": "4.1.3"
  }
 },
 "nbformat": 4,
 "nbformat_minor": 5
}
