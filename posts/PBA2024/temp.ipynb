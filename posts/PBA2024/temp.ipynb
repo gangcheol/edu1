{
 "cells": [
  {
   "cell_type": "raw",
   "id": "22741bdd-ecfe-4a5d-b0a7-d2f073be22f8",
   "metadata": {},
   "source": [
    "---\n",
    "title : \"04. advanced LM\"\n",
    "author : \"GC\"\n",
    "date : \"04/25/24\"\n",
    "---"
   ]
  },
  {
   "cell_type": "markdown",
   "id": "28ffede5-91a1-4d20-95ad-3531f1e5c430",
   "metadata": {},
   "source": [
    "# Review"
   ]
  },
  {
   "cell_type": "markdown",
   "id": "b5a9f6c2-1d75-4e03-a534-439d60969c85",
   "metadata": {},
   "source": [
    "`-` 회귀분석은 설명변수 $\\boldsymbol{X} = [x_1,x_2, \\dots x_p]$를 이용하여 반응변수 $y$를 예측하기 위해 가장 널리 활용되는 통계적 모형이다.\n",
    "\n",
    "`-` 아래와 같은 형태의 함수를 찾는 것\n",
    "\n",
    "$$y \\approx \\beta_1 x_1 + \\beta_0 $$"
   ]
  },
  {
   "cell_type": "markdown",
   "id": "e02a63bb-a2a6-4ef1-a5eb-f5a1f5107a38",
   "metadata": {},
   "source": [
    "`-` `OLS`, `MLE` 기법들을 활용하여 $\\beta_1,\\beta_0$를 추정하는 방법을 학습함."
   ]
  },
  {
   "cell_type": "markdown",
   "id": "b025efa1-30e8-4bb8-ac26-7eafa84b4ca2",
   "metadata": {},
   "source": [
    "$$(\\hat {\\beta_0}, \\hat {\\beta_1}) = \\left (\\bar y - \\hat {\\beta}_1\\bar x. \\,\\, \\frac{S_{xy}}{S_{xx}} = \\frac{\\sum (x-\\bar x)(y-\\bar y)}{\\sum (x-\\bar x)^2} = \\frac{\\sum (x-\\bar x)y}{S_{xx}}\\right )$$"
   ]
  },
  {
   "cell_type": "markdown",
   "id": "3c0692af-5314-48dd-879d-6f8c3b6e8773",
   "metadata": {},
   "source": [
    "`-` 오늘은 진도를 빼기 전에, 조금 더 이전에 학습한 것들을 자세히 학습하는 시간을 가질 것임"
   ]
  },
  {
   "cell_type": "markdown",
   "id": "77525c55-37a0-487f-b31b-659e9be416d0",
   "metadata": {},
   "source": [
    "***"
   ]
  },
  {
   "cell_type": "markdown",
   "id": "e3299e99-0261-4365-93aa-d230751d6f52",
   "metadata": {},
   "source": [
    "# 단순선형회귀분석"
   ]
  },
  {
   "cell_type": "markdown",
   "id": "20b51412-3938-4bbb-ae3b-2930a43d1dd2",
   "metadata": {},
   "source": [
    "`-` 예측변수 하나와 반응변수 하나의 관계를 직선관계로 모형화"
   ]
  },
  {
   "cell_type": "markdown",
   "id": "c6489c2b-ca07-4025-b2f1-c026e07e1b51",
   "metadata": {},
   "source": [
    "$$y = \\beta_0 + \\beta_1x_1 + \\epsilon$$"
   ]
  },
  {
   "cell_type": "markdown",
   "id": "7da1cf91-80f1-464d-a6bd-6cf34de33fc5",
   "metadata": {},
   "source": [
    "## 최소제곱추정량(`OLS`)의 설징"
   ]
  },
  {
   "cell_type": "markdown",
   "id": "efd9920d-e095-467c-8dc0-7ae2d0cfc755",
   "metadata": {},
   "source": [
    "***"
   ]
  },
  {
   "cell_type": "markdown",
   "id": "3fc577d9-ea20-4da2-85c7-4ce42d7a3ef7",
   "metadata": {},
   "source": [
    "### 회귀계수의 분산"
   ]
  },
  {
   "cell_type": "markdown",
   "id": "02da01d1-da51-4148-80fa-25b8bab5c155",
   "metadata": {},
   "source": [
    "***"
   ]
  },
  {
   "cell_type": "markdown",
   "id": "e15cb687-f773-4583-a42d-05df24cd54ea",
   "metadata": {},
   "source": [
    "## 오차항의 분산 추정"
   ]
  },
  {
   "cell_type": "markdown",
   "id": "22017c9f-4e1c-4cd1-9c85-6df28d8312a7",
   "metadata": {},
   "source": [
    "# do next"
   ]
  },
  {
   "cell_type": "markdown",
   "id": "c2d6769f-9bf9-4067-88e4-34008dfe86b1",
   "metadata": {},
   "source": [
    "`1` 오차항의 가정 위배에 따른 경우를 보고 해결책을 제시\n",
    "\n",
    "`2` 예측변수가 여러개인 경우 회귀계수를 추정하는 방법 학습.\n",
    "\n",
    "* 선형대수학 지식이 필요하나. 필요한 부분만 간단히 짚고 넘어갈 예정"
   ]
  }
 ],
 "metadata": {
  "kernelspec": {
   "display_name": "Python 3 (ipykernel)",
   "language": "python",
   "name": "python3"
  },
  "language_info": {
   "codemirror_mode": {
    "name": "ipython",
    "version": 3
   },
   "file_extension": ".py",
   "mimetype": "text/x-python",
   "name": "python",
   "nbconvert_exporter": "python",
   "pygments_lexer": "ipython3",
   "version": "3.12.2"
  }
 },
 "nbformat": 4,
 "nbformat_minor": 5
}
