{
 "cells": [
  {
   "cell_type": "raw",
   "id": "41964047-b445-4eb7-b31e-c613184d378c",
   "metadata": {},
   "source": [
    "---\n",
    "title : \"01. intro\"\n",
    "author : \"GC\"\n",
    "date  : \"03/26/24\"\n",
    "--- "
   ]
  },
  {
   "cell_type": "markdown",
   "id": "643463b8-06e7-41df-af0f-1af10697a661",
   "metadata": {},
   "source": [
    "# Intro"
   ]
  },
  {
   "cell_type": "markdown",
   "id": "0dd8a572-adf5-4b3a-93be-8a63967ec0df",
   "metadata": {},
   "source": [
    "`-` 음...\n",
    "\n",
    "* 모집단, 표본, 가설 검정, 기계학습... 중심극한정리???\n",
    "\n",
    "* 그래서 이런 것들에 대해 간략하게 설명 후, 방향성 선택!\n",
    "\n",
    "* 일단, 해당 수업의 목적을 제가 잘 모르겟어서... R, python을 활용하여 통계분석을 한다는 건지, 아니면 예측모형을 주로 공부한다는 건지...(두 가지 다인가...???)"
   ]
  },
  {
   "cell_type": "markdown",
   "id": "900f7b3c-805b-46a6-a29c-fb29ba410064",
   "metadata": {},
   "source": [
    "# key elemenets in business analytics"
   ]
  },
  {
   "cell_type": "markdown",
   "id": "fcc776e2-24bb-4809-a428-3e180f97da1e",
   "metadata": {},
   "source": [
    "`1` Right questions\n",
    "\n",
    "`2` Computation skills(통계분석, 선형대수학...등등)\n",
    "\n",
    "`3` Visualizatioin(R, python, taebleau 등을 활용한 결과 시각화 능력)\n",
    "\n",
    "`4` Communication skills"
   ]
  },
  {
   "cell_type": "markdown",
   "id": "9b0bfb6e-298b-496c-be38-fa87d8136db6",
   "metadata": {},
   "source": [
    "# Analytics tools"
   ]
  },
  {
   "cell_type": "markdown",
   "id": "af2d4444-604c-4deb-8935-ab8888704d9d",
   "metadata": {},
   "source": [
    "`-` 통계에서 가장 많이 쓰는 tool\n",
    "\n",
    "`-` 최근에는 머신러닝, 딥러닝 분야에서도 적용이 되고 있음(특히 의학, 생명공학)\n",
    "\n",
    "`-` 개인적인 생각 : `통계분석`, `회귀분석` 쪽에서는 R이 훨씬 가독성이 좋음, `머신러닝`, `딥러닝`은 python으로 개발이 너무 잘 되어있어서 아직 장벽을 넘긴 힘든 것 같다.."
   ]
  },
  {
   "cell_type": "markdown",
   "id": "4473b688-5f5e-4bae-9e05-23a3c85de6d9",
   "metadata": {},
   "source": [
    "### ex1. 데이터 로드 및 저장"
   ]
  },
  {
   "cell_type": "markdown",
   "id": "d9dfc008-9077-4122-8be9-28b0afc135c9",
   "metadata": {},
   "source": [
    "#### R"
   ]
  },
  {
   "cell_type": "markdown",
   "id": "64705508-36a1-496b-b306-65de503eec99",
   "metadata": {},
   "source": [
    "`1` 라이브러리 불러오기"
   ]
  },
  {
   "cell_type": "code",
   "execution_count": 2,
   "id": "57bd8191-4b25-4726-ba1b-aa7732fd8253",
   "metadata": {},
   "outputs": [],
   "source": [
    "library(tidyverse)"
   ]
  },
  {
   "cell_type": "markdown",
   "id": "dd8c4a8a-a115-49b5-a218-a9d399ec8fa0",
   "metadata": {},
   "source": [
    "`2` 데이터 로드 및 저장"
   ]
  },
  {
   "cell_type": "markdown",
   "id": "610b342e-2787-47c7-a852-1d1afc229ee0",
   "metadata": {},
   "source": [
    "* fread가 좀 더 빠르긴 하지만, 종종 에러가 발생하고, 그 에러를 찾는데 시간이 많이 걸려서 전 선호하지 않습니다.\n",
    "\n",
    "* read.csv : R에서 기본적으로 제공하는 데이터 로드 함수\n",
    "\n",
    "* read_csv : `readr`패키지에서 제공하는 데이터 로드 함수\n",
    "\n",
    "* fread : `data.table` 패키지에서 제공하는 데이터 로드 함수"
   ]
  },
  {
   "cell_type": "code",
   "execution_count": 3,
   "id": "2c0419a6-5d70-4b68-9b62-2f5dba5d4329",
   "metadata": {},
   "outputs": [
    {
     "name": "stderr",
     "output_type": "stream",
     "text": [
      "\u001b[1mRows: \u001b[22m\u001b[34m150\u001b[39m \u001b[1mColumns: \u001b[22m\u001b[34m5\u001b[39m\n",
      "\u001b[36m--\u001b[39m \u001b[1mColumn specification\u001b[22m \u001b[36m------------------------------------------------------------------------------------------------\u001b[39m\n",
      "\u001b[1mDelimiter:\u001b[22m \",\"\n",
      "\u001b[31mchr\u001b[39m (1): Species\n",
      "\u001b[32mdbl\u001b[39m (4): Sepal.Length, Sepal.Width, Petal.Length, Petal.Width\n",
      "\n",
      "\u001b[36mi\u001b[39m Use `spec()` to retrieve the full column specification for this data.\n",
      "\u001b[36mi\u001b[39m Specify the column types or set `show_col_types = FALSE` to quiet this message.\n"
     ]
    }
   ],
   "source": [
    "data <- read_csv(\"iris.csv\")"
   ]
  },
  {
   "cell_type": "code",
   "execution_count": 4,
   "id": "922c7856-f59c-4420-b341-ace57f2fddfd",
   "metadata": {},
   "outputs": [
    {
     "data": {
      "text/html": [
       "<table class=\"dataframe\">\n",
       "<caption>A spec_tbl_df: 12 × 5</caption>\n",
       "<thead>\n",
       "\t<tr><th scope=col>Sepal.Length</th><th scope=col>Sepal.Width</th><th scope=col>Petal.Length</th><th scope=col>Petal.Width</th><th scope=col>Species</th></tr>\n",
       "\t<tr><th scope=col>&lt;dbl&gt;</th><th scope=col>&lt;dbl&gt;</th><th scope=col>&lt;dbl&gt;</th><th scope=col>&lt;dbl&gt;</th><th scope=col>&lt;chr&gt;</th></tr>\n",
       "</thead>\n",
       "<tbody>\n",
       "\t<tr><td>6.5</td><td>3.0</td><td>5.5</td><td>1.8</td><td>virginica </td></tr>\n",
       "\t<tr><td>5.7</td><td>2.8</td><td>4.5</td><td>1.3</td><td>versicolor</td></tr>\n",
       "\t<tr><td>6.4</td><td>3.2</td><td>4.5</td><td>1.5</td><td>versicolor</td></tr>\n",
       "\t<tr><td>4.9</td><td>3.1</td><td>1.5</td><td>0.1</td><td>setosa    </td></tr>\n",
       "\t<tr><td>4.7</td><td>3.2</td><td>1.3</td><td>0.2</td><td>setosa    </td></tr>\n",
       "\t<tr><td>6.8</td><td>3.0</td><td>5.5</td><td>2.1</td><td>virginica </td></tr>\n",
       "\t<tr><td>6.0</td><td>2.9</td><td>4.5</td><td>1.5</td><td>versicolor</td></tr>\n",
       "\t<tr><td>5.0</td><td>3.3</td><td>1.4</td><td>0.2</td><td>setosa    </td></tr>\n",
       "\t<tr><td>7.2</td><td>3.0</td><td>5.8</td><td>1.6</td><td>virginica </td></tr>\n",
       "\t<tr><td>5.8</td><td>2.8</td><td>5.1</td><td>2.4</td><td>virginica </td></tr>\n",
       "\t<tr><td>5.8</td><td>2.7</td><td>3.9</td><td>1.2</td><td>versicolor</td></tr>\n",
       "\t<tr><td>5.0</td><td>3.5</td><td>1.3</td><td>0.3</td><td>setosa    </td></tr>\n",
       "</tbody>\n",
       "</table>\n"
      ],
      "text/latex": [
       "A spec\\_tbl\\_df: 12 × 5\n",
       "\\begin{tabular}{lllll}\n",
       " Sepal.Length & Sepal.Width & Petal.Length & Petal.Width & Species\\\\\n",
       " <dbl> & <dbl> & <dbl> & <dbl> & <chr>\\\\\n",
       "\\hline\n",
       "\t 6.5 & 3.0 & 5.5 & 1.8 & virginica \\\\\n",
       "\t 5.7 & 2.8 & 4.5 & 1.3 & versicolor\\\\\n",
       "\t 6.4 & 3.2 & 4.5 & 1.5 & versicolor\\\\\n",
       "\t 4.9 & 3.1 & 1.5 & 0.1 & setosa    \\\\\n",
       "\t 4.7 & 3.2 & 1.3 & 0.2 & setosa    \\\\\n",
       "\t 6.8 & 3.0 & 5.5 & 2.1 & virginica \\\\\n",
       "\t 6.0 & 2.9 & 4.5 & 1.5 & versicolor\\\\\n",
       "\t 5.0 & 3.3 & 1.4 & 0.2 & setosa    \\\\\n",
       "\t 7.2 & 3.0 & 5.8 & 1.6 & virginica \\\\\n",
       "\t 5.8 & 2.8 & 5.1 & 2.4 & virginica \\\\\n",
       "\t 5.8 & 2.7 & 3.9 & 1.2 & versicolor\\\\\n",
       "\t 5.0 & 3.5 & 1.3 & 0.3 & setosa    \\\\\n",
       "\\end{tabular}\n"
      ],
      "text/markdown": [
       "\n",
       "A spec_tbl_df: 12 × 5\n",
       "\n",
       "| Sepal.Length &lt;dbl&gt; | Sepal.Width &lt;dbl&gt; | Petal.Length &lt;dbl&gt; | Petal.Width &lt;dbl&gt; | Species &lt;chr&gt; |\n",
       "|---|---|---|---|---|\n",
       "| 6.5 | 3.0 | 5.5 | 1.8 | virginica  |\n",
       "| 5.7 | 2.8 | 4.5 | 1.3 | versicolor |\n",
       "| 6.4 | 3.2 | 4.5 | 1.5 | versicolor |\n",
       "| 4.9 | 3.1 | 1.5 | 0.1 | setosa     |\n",
       "| 4.7 | 3.2 | 1.3 | 0.2 | setosa     |\n",
       "| 6.8 | 3.0 | 5.5 | 2.1 | virginica  |\n",
       "| 6.0 | 2.9 | 4.5 | 1.5 | versicolor |\n",
       "| 5.0 | 3.3 | 1.4 | 0.2 | setosa     |\n",
       "| 7.2 | 3.0 | 5.8 | 1.6 | virginica  |\n",
       "| 5.8 | 2.8 | 5.1 | 2.4 | virginica  |\n",
       "| 5.8 | 2.7 | 3.9 | 1.2 | versicolor |\n",
       "| 5.0 | 3.5 | 1.3 | 0.3 | setosa     |\n",
       "\n"
      ],
      "text/plain": [
       "   Sepal.Length Sepal.Width Petal.Length Petal.Width Species   \n",
       "1  6.5          3.0         5.5          1.8         virginica \n",
       "2  5.7          2.8         4.5          1.3         versicolor\n",
       "3  6.4          3.2         4.5          1.5         versicolor\n",
       "4  4.9          3.1         1.5          0.1         setosa    \n",
       "5  4.7          3.2         1.3          0.2         setosa    \n",
       "6  6.8          3.0         5.5          2.1         virginica \n",
       "7  6.0          2.9         4.5          1.5         versicolor\n",
       "8  5.0          3.3         1.4          0.2         setosa    \n",
       "9  7.2          3.0         5.8          1.6         virginica \n",
       "10 5.8          2.8         5.1          2.4         virginica \n",
       "11 5.8          2.7         3.9          1.2         versicolor\n",
       "12 5.0          3.5         1.3          0.3         setosa    "
      ]
     },
     "metadata": {},
     "output_type": "display_data"
    }
   ],
   "source": [
    "data %>% sample_n(12)"
   ]
  },
  {
   "cell_type": "markdown",
   "id": "abe47f1d-c47f-4cfd-acdf-c5ce9be02210",
   "metadata": {},
   "source": [
    "`-` 불러온 데이터에서 `Species`가 `setosa`인 행만 추출하여 다른 `iris2`라는 파일로 저장해보자"
   ]
  },
  {
   "cell_type": "code",
   "execution_count": 5,
   "id": "4cec3c11-d2ef-4693-9281-6733458c2c5c",
   "metadata": {},
   "outputs": [],
   "source": [
    "data %>% \n",
    "    filter(Species == \"setosa\") %>% \n",
    "            write_csv(\"iris2.csv\")"
   ]
  },
  {
   "cell_type": "markdown",
   "id": "8c8eca5b-a573-44be-a3f6-733c5524c00e",
   "metadata": {},
   "source": [
    "`-` 저장한 데이터를 다시 불러와서 확인"
   ]
  },
  {
   "cell_type": "code",
   "execution_count": 6,
   "id": "2414eb05-0ed2-4168-9da6-27d315d42cd1",
   "metadata": {},
   "outputs": [
    {
     "name": "stderr",
     "output_type": "stream",
     "text": [
      "\u001b[1mRows: \u001b[22m\u001b[34m50\u001b[39m \u001b[1mColumns: \u001b[22m\u001b[34m5\u001b[39m\n",
      "\u001b[36m--\u001b[39m \u001b[1mColumn specification\u001b[22m \u001b[36m------------------------------------------------------------------------------------------------\u001b[39m\n",
      "\u001b[1mDelimiter:\u001b[22m \",\"\n",
      "\u001b[31mchr\u001b[39m (1): Species\n",
      "\u001b[32mdbl\u001b[39m (4): Sepal.Length, Sepal.Width, Petal.Length, Petal.Width\n",
      "\n",
      "\u001b[36mi\u001b[39m Use `spec()` to retrieve the full column specification for this data.\n",
      "\u001b[36mi\u001b[39m Specify the column types or set `show_col_types = FALSE` to quiet this message.\n"
     ]
    },
    {
     "data": {
      "text/html": [
       "<table class=\"dataframe\">\n",
       "<caption>A tibble: 6 × 5</caption>\n",
       "<thead>\n",
       "\t<tr><th scope=col>Sepal.Length</th><th scope=col>Sepal.Width</th><th scope=col>Petal.Length</th><th scope=col>Petal.Width</th><th scope=col>Species</th></tr>\n",
       "\t<tr><th scope=col>&lt;dbl&gt;</th><th scope=col>&lt;dbl&gt;</th><th scope=col>&lt;dbl&gt;</th><th scope=col>&lt;dbl&gt;</th><th scope=col>&lt;chr&gt;</th></tr>\n",
       "</thead>\n",
       "<tbody>\n",
       "\t<tr><td>5.1</td><td>3.5</td><td>1.4</td><td>0.2</td><td>setosa</td></tr>\n",
       "\t<tr><td>4.9</td><td>3.0</td><td>1.4</td><td>0.2</td><td>setosa</td></tr>\n",
       "\t<tr><td>4.7</td><td>3.2</td><td>1.3</td><td>0.2</td><td>setosa</td></tr>\n",
       "\t<tr><td>4.6</td><td>3.1</td><td>1.5</td><td>0.2</td><td>setosa</td></tr>\n",
       "\t<tr><td>5.0</td><td>3.6</td><td>1.4</td><td>0.2</td><td>setosa</td></tr>\n",
       "\t<tr><td>5.4</td><td>3.9</td><td>1.7</td><td>0.4</td><td>setosa</td></tr>\n",
       "</tbody>\n",
       "</table>\n"
      ],
      "text/latex": [
       "A tibble: 6 × 5\n",
       "\\begin{tabular}{lllll}\n",
       " Sepal.Length & Sepal.Width & Petal.Length & Petal.Width & Species\\\\\n",
       " <dbl> & <dbl> & <dbl> & <dbl> & <chr>\\\\\n",
       "\\hline\n",
       "\t 5.1 & 3.5 & 1.4 & 0.2 & setosa\\\\\n",
       "\t 4.9 & 3.0 & 1.4 & 0.2 & setosa\\\\\n",
       "\t 4.7 & 3.2 & 1.3 & 0.2 & setosa\\\\\n",
       "\t 4.6 & 3.1 & 1.5 & 0.2 & setosa\\\\\n",
       "\t 5.0 & 3.6 & 1.4 & 0.2 & setosa\\\\\n",
       "\t 5.4 & 3.9 & 1.7 & 0.4 & setosa\\\\\n",
       "\\end{tabular}\n"
      ],
      "text/markdown": [
       "\n",
       "A tibble: 6 × 5\n",
       "\n",
       "| Sepal.Length &lt;dbl&gt; | Sepal.Width &lt;dbl&gt; | Petal.Length &lt;dbl&gt; | Petal.Width &lt;dbl&gt; | Species &lt;chr&gt; |\n",
       "|---|---|---|---|---|\n",
       "| 5.1 | 3.5 | 1.4 | 0.2 | setosa |\n",
       "| 4.9 | 3.0 | 1.4 | 0.2 | setosa |\n",
       "| 4.7 | 3.2 | 1.3 | 0.2 | setosa |\n",
       "| 4.6 | 3.1 | 1.5 | 0.2 | setosa |\n",
       "| 5.0 | 3.6 | 1.4 | 0.2 | setosa |\n",
       "| 5.4 | 3.9 | 1.7 | 0.4 | setosa |\n",
       "\n"
      ],
      "text/plain": [
       "  Sepal.Length Sepal.Width Petal.Length Petal.Width Species\n",
       "1 5.1          3.5         1.4          0.2         setosa \n",
       "2 4.9          3.0         1.4          0.2         setosa \n",
       "3 4.7          3.2         1.3          0.2         setosa \n",
       "4 4.6          3.1         1.5          0.2         setosa \n",
       "5 5.0          3.6         1.4          0.2         setosa \n",
       "6 5.4          3.9         1.7          0.4         setosa "
      ]
     },
     "metadata": {},
     "output_type": "display_data"
    }
   ],
   "source": [
    "head(read_csv(\"iris2.csv\"))"
   ]
  },
  {
   "cell_type": "markdown",
   "id": "62e17722-2a11-4971-baab-111bb305bb91",
   "metadata": {},
   "source": [
    "#### python"
   ]
  },
  {
   "cell_type": "markdown",
   "id": "b929d4e2-bac1-468b-91a6-8a298c885b70",
   "metadata": {},
   "source": [
    "`-` 패키지 설치 : pandas\n",
    "\n",
    "* 데이터 로드, 핸들링 등 데이터를 원하는 형태로 가공하기 위한 python 모듈"
   ]
  },
  {
   "cell_type": "code",
   "execution_count": 5,
   "id": "d72cc313-242d-4689-808a-88c40fa6fc93",
   "metadata": {},
   "outputs": [],
   "source": [
    "#!pip install pandas"
   ]
  },
  {
   "cell_type": "code",
   "execution_count": 2,
   "id": "c043987a-c37f-4b9c-b032-5221ea50aae2",
   "metadata": {},
   "outputs": [
    {
     "data": {
      "text/html": [
       "<div>\n",
       "<style scoped>\n",
       "    .dataframe tbody tr th:only-of-type {\n",
       "        vertical-align: middle;\n",
       "    }\n",
       "\n",
       "    .dataframe tbody tr th {\n",
       "        vertical-align: top;\n",
       "    }\n",
       "\n",
       "    .dataframe thead th {\n",
       "        text-align: right;\n",
       "    }\n",
       "</style>\n",
       "<table border=\"1\" class=\"dataframe\">\n",
       "  <thead>\n",
       "    <tr style=\"text-align: right;\">\n",
       "      <th></th>\n",
       "      <th>Sepal.Length</th>\n",
       "      <th>Sepal.Width</th>\n",
       "      <th>Petal.Length</th>\n",
       "      <th>Petal.Width</th>\n",
       "      <th>Species</th>\n",
       "    </tr>\n",
       "  </thead>\n",
       "  <tbody>\n",
       "    <tr>\n",
       "      <th>0</th>\n",
       "      <td>5.1</td>\n",
       "      <td>3.5</td>\n",
       "      <td>1.4</td>\n",
       "      <td>0.2</td>\n",
       "      <td>setosa</td>\n",
       "    </tr>\n",
       "    <tr>\n",
       "      <th>1</th>\n",
       "      <td>4.9</td>\n",
       "      <td>3.0</td>\n",
       "      <td>1.4</td>\n",
       "      <td>0.2</td>\n",
       "      <td>setosa</td>\n",
       "    </tr>\n",
       "    <tr>\n",
       "      <th>2</th>\n",
       "      <td>4.7</td>\n",
       "      <td>3.2</td>\n",
       "      <td>1.3</td>\n",
       "      <td>0.2</td>\n",
       "      <td>setosa</td>\n",
       "    </tr>\n",
       "    <tr>\n",
       "      <th>3</th>\n",
       "      <td>4.6</td>\n",
       "      <td>3.1</td>\n",
       "      <td>1.5</td>\n",
       "      <td>0.2</td>\n",
       "      <td>setosa</td>\n",
       "    </tr>\n",
       "    <tr>\n",
       "      <th>4</th>\n",
       "      <td>5.0</td>\n",
       "      <td>3.6</td>\n",
       "      <td>1.4</td>\n",
       "      <td>0.2</td>\n",
       "      <td>setosa</td>\n",
       "    </tr>\n",
       "  </tbody>\n",
       "</table>\n",
       "</div>"
      ],
      "text/plain": [
       "   Sepal.Length  Sepal.Width  Petal.Length  Petal.Width Species\n",
       "0           5.1          3.5           1.4          0.2  setosa\n",
       "1           4.9          3.0           1.4          0.2  setosa\n",
       "2           4.7          3.2           1.3          0.2  setosa\n",
       "3           4.6          3.1           1.5          0.2  setosa\n",
       "4           5.0          3.6           1.4          0.2  setosa"
      ]
     },
     "execution_count": 2,
     "metadata": {},
     "output_type": "execute_result"
    }
   ],
   "source": [
    "import pandas as pd\n",
    "\n",
    "iris = pd.read_csv(\"iris.csv\")\n",
    "iris.head()"
   ]
  },
  {
   "cell_type": "code",
   "execution_count": 3,
   "id": "13852428-6c76-4b01-afea-690ca06d1706",
   "metadata": {},
   "outputs": [],
   "source": [
    "iris.loc[iris.Species == \"setosa\",:].to_csv(\"iris2.csv\",index = False)"
   ]
  },
  {
   "cell_type": "code",
   "execution_count": 4,
   "id": "01a5273d-b177-407d-bb21-5185f32cd86f",
   "metadata": {},
   "outputs": [
    {
     "data": {
      "text/html": [
       "<div>\n",
       "<style scoped>\n",
       "    .dataframe tbody tr th:only-of-type {\n",
       "        vertical-align: middle;\n",
       "    }\n",
       "\n",
       "    .dataframe tbody tr th {\n",
       "        vertical-align: top;\n",
       "    }\n",
       "\n",
       "    .dataframe thead th {\n",
       "        text-align: right;\n",
       "    }\n",
       "</style>\n",
       "<table border=\"1\" class=\"dataframe\">\n",
       "  <thead>\n",
       "    <tr style=\"text-align: right;\">\n",
       "      <th></th>\n",
       "      <th>Sepal.Length</th>\n",
       "      <th>Sepal.Width</th>\n",
       "      <th>Petal.Length</th>\n",
       "      <th>Petal.Width</th>\n",
       "      <th>Species</th>\n",
       "    </tr>\n",
       "  </thead>\n",
       "  <tbody>\n",
       "    <tr>\n",
       "      <th>0</th>\n",
       "      <td>5.1</td>\n",
       "      <td>3.5</td>\n",
       "      <td>1.4</td>\n",
       "      <td>0.2</td>\n",
       "      <td>setosa</td>\n",
       "    </tr>\n",
       "    <tr>\n",
       "      <th>1</th>\n",
       "      <td>4.9</td>\n",
       "      <td>3.0</td>\n",
       "      <td>1.4</td>\n",
       "      <td>0.2</td>\n",
       "      <td>setosa</td>\n",
       "    </tr>\n",
       "    <tr>\n",
       "      <th>2</th>\n",
       "      <td>4.7</td>\n",
       "      <td>3.2</td>\n",
       "      <td>1.3</td>\n",
       "      <td>0.2</td>\n",
       "      <td>setosa</td>\n",
       "    </tr>\n",
       "    <tr>\n",
       "      <th>3</th>\n",
       "      <td>4.6</td>\n",
       "      <td>3.1</td>\n",
       "      <td>1.5</td>\n",
       "      <td>0.2</td>\n",
       "      <td>setosa</td>\n",
       "    </tr>\n",
       "    <tr>\n",
       "      <th>4</th>\n",
       "      <td>5.0</td>\n",
       "      <td>3.6</td>\n",
       "      <td>1.4</td>\n",
       "      <td>0.2</td>\n",
       "      <td>setosa</td>\n",
       "    </tr>\n",
       "  </tbody>\n",
       "</table>\n",
       "</div>"
      ],
      "text/plain": [
       "   Sepal.Length  Sepal.Width  Petal.Length  Petal.Width Species\n",
       "0           5.1          3.5           1.4          0.2  setosa\n",
       "1           4.9          3.0           1.4          0.2  setosa\n",
       "2           4.7          3.2           1.3          0.2  setosa\n",
       "3           4.6          3.1           1.5          0.2  setosa\n",
       "4           5.0          3.6           1.4          0.2  setosa"
      ]
     },
     "execution_count": 4,
     "metadata": {},
     "output_type": "execute_result"
    }
   ],
   "source": [
    "pd.read_csv(\"iris2.csv\").head()"
   ]
  },
  {
   "cell_type": "markdown",
   "id": "ef6464ab-d3a4-470c-9c35-8a5ee960d497",
   "metadata": {},
   "source": [
    "***"
   ]
  },
  {
   "cell_type": "markdown",
   "id": "7f0c3680-70ab-4eb2-9b67-0e81bbc925c8",
   "metadata": {},
   "source": [
    "### data exploration"
   ]
  },
  {
   "cell_type": "markdown",
   "id": "a84c3830-c622-48be-98ff-0f20b05d6792",
   "metadata": {},
   "source": [
    "`-` 일반적으로 Business analytics에서는 설명변수 $X$와 반응변수 또는 결과변수인 $Y$ 의 관계에 대한 설명을 원한다."
   ]
  },
  {
   "cell_type": "markdown",
   "id": "d58ddfe2-8580-4915-8d88-ecd30636f134",
   "metadata": {},
   "source": [
    "`-` GIGO(Garbage in, Garbage out) : 쓰레기가 들어가면, 쓰레기가 나온다.\n",
    "\n",
    "* 우리가 $X$와 $Y$의 관계를 규명하는데 방해되는 데이터, 또는 애초에 데이터 자체에 이상치, 결측치들이 너무 많아 분석 자체를 할 수 없는 데이터...."
   ]
  },
  {
   "cell_type": "markdown",
   "id": "74ecd428-dfcf-4439-a11d-837b3d7bfaf3",
   "metadata": {},
   "source": [
    "`-` 그래서, 탐색적자료분석(EDA, Exploratory Data Analysis)은 모든 분석에 있어서 필수적으로 거쳐야한다.\n",
    "\n",
    "* 이상치, 결측치 대체, 표준화, 정규화 등등 필요에 따라 적절히 데이터를 가공할 줄 아는 능력이 필요함"
   ]
  },
  {
   "cell_type": "markdown",
   "id": "f0c0ebde-7ba6-4028-b039-5993be2017c9",
   "metadata": {},
   "source": [
    "#### EDA in R"
   ]
  },
  {
   "cell_type": "code",
   "execution_count": 3,
   "id": "d9dad60e-08e4-42eb-8a04-fb0d4f9acc49",
   "metadata": {},
   "outputs": [],
   "source": [
    "#install.packages(\"nycflights13\")"
   ]
  },
  {
   "cell_type": "code",
   "execution_count": 4,
   "id": "5271ae48-e9a9-4f06-8138-12fb5d7baaae",
   "metadata": {},
   "outputs": [],
   "source": [
    "library(nycflights13)"
   ]
  },
  {
   "cell_type": "markdown",
   "id": "dac654dd-8533-4884-8f27-d6d74af8a833",
   "metadata": {},
   "source": [
    "방법 1. summary함수 : 데이터에 대한 요약값 출력"
   ]
  },
  {
   "cell_type": "code",
   "execution_count": 5,
   "id": "0311fa43-b126-4f33-9728-8678c41973ea",
   "metadata": {},
   "outputs": [
    {
     "data": {
      "text/plain": [
       "      year          month             day           dep_time    sched_dep_time\n",
       " Min.   :2013   Min.   : 1.000   Min.   : 1.00   Min.   :   1   Min.   : 106  \n",
       " 1st Qu.:2013   1st Qu.: 4.000   1st Qu.: 8.00   1st Qu.: 907   1st Qu.: 906  \n",
       " Median :2013   Median : 7.000   Median :16.00   Median :1401   Median :1359  \n",
       " Mean   :2013   Mean   : 6.549   Mean   :15.71   Mean   :1349   Mean   :1344  \n",
       " 3rd Qu.:2013   3rd Qu.:10.000   3rd Qu.:23.00   3rd Qu.:1744   3rd Qu.:1729  \n",
       " Max.   :2013   Max.   :12.000   Max.   :31.00   Max.   :2400   Max.   :2359  \n",
       "                                                 NA's   :8255                 \n",
       "   dep_delay          arr_time    sched_arr_time   arr_delay       \n",
       " Min.   : -43.00   Min.   :   1   Min.   :   1   Min.   : -86.000  \n",
       " 1st Qu.:  -5.00   1st Qu.:1104   1st Qu.:1124   1st Qu.: -17.000  \n",
       " Median :  -2.00   Median :1535   Median :1556   Median :  -5.000  \n",
       " Mean   :  12.64   Mean   :1502   Mean   :1536   Mean   :   6.895  \n",
       " 3rd Qu.:  11.00   3rd Qu.:1940   3rd Qu.:1945   3rd Qu.:  14.000  \n",
       " Max.   :1301.00   Max.   :2400   Max.   :2359   Max.   :1272.000  \n",
       " NA's   :8255      NA's   :8713                  NA's   :9430      \n",
       "   carrier              flight       tailnum             origin         \n",
       " Length:336776      Min.   :   1   Length:336776      Length:336776     \n",
       " Class :character   1st Qu.: 553   Class :character   Class :character  \n",
       " Mode  :character   Median :1496   Mode  :character   Mode  :character  \n",
       "                    Mean   :1972                                        \n",
       "                    3rd Qu.:3465                                        \n",
       "                    Max.   :8500                                        \n",
       "                                                                        \n",
       "     dest              air_time        distance         hour      \n",
       " Length:336776      Min.   : 20.0   Min.   :  17   Min.   : 1.00  \n",
       " Class :character   1st Qu.: 82.0   1st Qu.: 502   1st Qu.: 9.00  \n",
       " Mode  :character   Median :129.0   Median : 872   Median :13.00  \n",
       "                    Mean   :150.7   Mean   :1040   Mean   :13.18  \n",
       "                    3rd Qu.:192.0   3rd Qu.:1389   3rd Qu.:17.00  \n",
       "                    Max.   :695.0   Max.   :4983   Max.   :23.00  \n",
       "                    NA's   :9430                                  \n",
       "     minute        time_hour                  \n",
       " Min.   : 0.00   Min.   :2013-01-01 05:00:00  \n",
       " 1st Qu.: 8.00   1st Qu.:2013-04-04 13:00:00  \n",
       " Median :29.00   Median :2013-07-03 10:00:00  \n",
       " Mean   :26.23   Mean   :2013-07-03 05:22:54  \n",
       " 3rd Qu.:44.00   3rd Qu.:2013-10-01 07:00:00  \n",
       " Max.   :59.00   Max.   :2013-12-31 23:00:00  \n",
       "                                              "
      ]
     },
     "metadata": {},
     "output_type": "display_data"
    }
   ],
   "source": [
    "summary(flights)"
   ]
  },
  {
   "cell_type": "code",
   "execution_count": 6,
   "id": "36cf6e79-0e1d-44b5-8ab4-4ff8161b041c",
   "metadata": {},
   "outputs": [
    {
     "name": "stderr",
     "output_type": "stream",
     "text": [
      "-- \u001b[1mAttaching core tidyverse packages\u001b[22m ---------------------------------------------------------------- tidyverse 2.0.0 --\n",
      "\u001b[32mv\u001b[39m \u001b[34mdplyr    \u001b[39m 1.1.4     \u001b[32mv\u001b[39m \u001b[34mreadr    \u001b[39m 2.1.5\n",
      "\u001b[32mv\u001b[39m \u001b[34mforcats  \u001b[39m 1.0.0     \u001b[32mv\u001b[39m \u001b[34mstringr  \u001b[39m 1.5.0\n",
      "\u001b[32mv\u001b[39m \u001b[34mggplot2  \u001b[39m 3.4.2     \u001b[32mv\u001b[39m \u001b[34mtibble   \u001b[39m 3.2.1\n",
      "\u001b[32mv\u001b[39m \u001b[34mlubridate\u001b[39m 1.9.3     \u001b[32mv\u001b[39m \u001b[34mtidyr    \u001b[39m 1.3.1\n",
      "\u001b[32mv\u001b[39m \u001b[34mpurrr    \u001b[39m 1.0.2     \n",
      "-- \u001b[1mConflicts\u001b[22m ---------------------------------------------------------------------------------- tidyverse_conflicts() --\n",
      "\u001b[31mx\u001b[39m \u001b[34mdplyr\u001b[39m::\u001b[32mfilter()\u001b[39m masks \u001b[34mstats\u001b[39m::filter()\n",
      "\u001b[31mx\u001b[39m \u001b[34mdplyr\u001b[39m::\u001b[32mlag()\u001b[39m    masks \u001b[34mstats\u001b[39m::lag()\n",
      "\u001b[36mi\u001b[39m Use the conflicted package (\u001b[3m\u001b[34m<http://conflicted.r-lib.org/>\u001b[39m\u001b[23m) to force all conflicts to become errors\n"
     ]
    }
   ],
   "source": [
    "library(tidyverse)"
   ]
  },
  {
   "cell_type": "code",
   "execution_count": 8,
   "id": "ecf730a7-9015-4191-b3be-939a0fae462d",
   "metadata": {},
   "outputs": [],
   "source": [
    "write_csv(flights,\"flights.csv\")"
   ]
  },
  {
   "cell_type": "markdown",
   "id": "850eedb2-359c-4425-a44a-ede05f11045e",
   "metadata": {},
   "source": [
    "방법 2. apply함수"
   ]
  },
  {
   "cell_type": "code",
   "execution_count": 9,
   "id": "fe80c200-c8ec-4272-a36e-149c5b16e858",
   "metadata": {},
   "outputs": [
    {
     "data": {
      "text/html": [
       "<style>\n",
       ".dl-inline {width: auto; margin:0; padding: 0}\n",
       ".dl-inline>dt, .dl-inline>dd {float: none; width: auto; display: inline-block}\n",
       ".dl-inline>dt::after {content: \":\\0020\"; padding-right: .5ex}\n",
       ".dl-inline>dt:not(:first-of-type) {padding-left: .5ex}\n",
       "</style><dl class=dl-inline><dt>year</dt><dd>0</dd><dt>month</dt><dd>0</dd><dt>day</dt><dd>0</dd><dt>dep_time</dt><dd>8255</dd><dt>sched_dep_time</dt><dd>0</dd><dt>dep_delay</dt><dd>8255</dd><dt>arr_time</dt><dd>8713</dd><dt>sched_arr_time</dt><dd>0</dd><dt>arr_delay</dt><dd>9430</dd><dt>carrier</dt><dd>0</dd><dt>flight</dt><dd>0</dd><dt>tailnum</dt><dd>2512</dd><dt>origin</dt><dd>0</dd><dt>dest</dt><dd>0</dd><dt>air_time</dt><dd>9430</dd><dt>distance</dt><dd>0</dd><dt>hour</dt><dd>0</dd><dt>minute</dt><dd>0</dd><dt>time_hour</dt><dd>0</dd></dl>\n"
      ],
      "text/latex": [
       "\\begin{description*}\n",
       "\\item[year] 0\n",
       "\\item[month] 0\n",
       "\\item[day] 0\n",
       "\\item[dep\\textbackslash{}\\_time] 8255\n",
       "\\item[sched\\textbackslash{}\\_dep\\textbackslash{}\\_time] 0\n",
       "\\item[dep\\textbackslash{}\\_delay] 8255\n",
       "\\item[arr\\textbackslash{}\\_time] 8713\n",
       "\\item[sched\\textbackslash{}\\_arr\\textbackslash{}\\_time] 0\n",
       "\\item[arr\\textbackslash{}\\_delay] 9430\n",
       "\\item[carrier] 0\n",
       "\\item[flight] 0\n",
       "\\item[tailnum] 2512\n",
       "\\item[origin] 0\n",
       "\\item[dest] 0\n",
       "\\item[air\\textbackslash{}\\_time] 9430\n",
       "\\item[distance] 0\n",
       "\\item[hour] 0\n",
       "\\item[minute] 0\n",
       "\\item[time\\textbackslash{}\\_hour] 0\n",
       "\\end{description*}\n"
      ],
      "text/markdown": [
       "year\n",
       ":   0month\n",
       ":   0day\n",
       ":   0dep_time\n",
       ":   8255sched_dep_time\n",
       ":   0dep_delay\n",
       ":   8255arr_time\n",
       ":   8713sched_arr_time\n",
       ":   0arr_delay\n",
       ":   9430carrier\n",
       ":   0flight\n",
       ":   0tailnum\n",
       ":   2512origin\n",
       ":   0dest\n",
       ":   0air_time\n",
       ":   9430distance\n",
       ":   0hour\n",
       ":   0minute\n",
       ":   0time_hour\n",
       ":   0\n",
       "\n"
      ],
      "text/plain": [
       "          year          month            day       dep_time sched_dep_time \n",
       "             0              0              0           8255              0 \n",
       "     dep_delay       arr_time sched_arr_time      arr_delay        carrier \n",
       "          8255           8713              0           9430              0 \n",
       "        flight        tailnum         origin           dest       air_time \n",
       "             0           2512              0              0           9430 \n",
       "      distance           hour         minute      time_hour \n",
       "             0              0              0              0 "
      ]
     },
     "metadata": {},
     "output_type": "display_data"
    }
   ],
   "source": [
    "apply(flights, 2, function(x) sum(is.na(x)))"
   ]
  },
  {
   "cell_type": "markdown",
   "id": "c70e4775-ed4f-4564-b4ae-132d5141ae08",
   "metadata": {},
   "source": [
    "`-` 방법3. plot"
   ]
  },
  {
   "cell_type": "markdown",
   "id": "487ad476-cfbc-4ac7-a970-e6bcdf04198b",
   "metadata": {},
   "source": [
    "<center><img src = \"1-1.png\"></center>"
   ]
  },
  {
   "cell_type": "markdown",
   "id": "3282acd1-9ec2-4a38-9e6e-854f1709c529",
   "metadata": {},
   "source": [
    "#### EDA in python"
   ]
  },
  {
   "cell_type": "code",
   "execution_count": 1,
   "id": "889cc717-6ea0-416f-a19b-7640e790e013",
   "metadata": {},
   "outputs": [],
   "source": [
    "import pandas as pd"
   ]
  },
  {
   "cell_type": "code",
   "execution_count": 2,
   "id": "f61853fc-cae3-44f7-a601-1b440c5e6f25",
   "metadata": {},
   "outputs": [],
   "source": [
    "flights = pd.read_csv(\"flights.csv\")"
   ]
  },
  {
   "cell_type": "code",
   "execution_count": 3,
   "id": "6221a677-ba23-423d-a1c4-6b7f579ae7e4",
   "metadata": {},
   "outputs": [
    {
     "data": {
      "text/html": [
       "<div>\n",
       "<style scoped>\n",
       "    .dataframe tbody tr th:only-of-type {\n",
       "        vertical-align: middle;\n",
       "    }\n",
       "\n",
       "    .dataframe tbody tr th {\n",
       "        vertical-align: top;\n",
       "    }\n",
       "\n",
       "    .dataframe thead th {\n",
       "        text-align: right;\n",
       "    }\n",
       "</style>\n",
       "<table border=\"1\" class=\"dataframe\">\n",
       "  <thead>\n",
       "    <tr style=\"text-align: right;\">\n",
       "      <th></th>\n",
       "      <th>year</th>\n",
       "      <th>month</th>\n",
       "      <th>day</th>\n",
       "      <th>dep_time</th>\n",
       "      <th>sched_dep_time</th>\n",
       "      <th>dep_delay</th>\n",
       "      <th>arr_time</th>\n",
       "      <th>sched_arr_time</th>\n",
       "      <th>arr_delay</th>\n",
       "      <th>carrier</th>\n",
       "      <th>flight</th>\n",
       "      <th>tailnum</th>\n",
       "      <th>origin</th>\n",
       "      <th>dest</th>\n",
       "      <th>air_time</th>\n",
       "      <th>distance</th>\n",
       "      <th>hour</th>\n",
       "      <th>minute</th>\n",
       "      <th>time_hour</th>\n",
       "    </tr>\n",
       "  </thead>\n",
       "  <tbody>\n",
       "    <tr>\n",
       "      <th>0</th>\n",
       "      <td>2013</td>\n",
       "      <td>1</td>\n",
       "      <td>1</td>\n",
       "      <td>517.0</td>\n",
       "      <td>515</td>\n",
       "      <td>2.0</td>\n",
       "      <td>830.0</td>\n",
       "      <td>819</td>\n",
       "      <td>11.0</td>\n",
       "      <td>UA</td>\n",
       "      <td>1545</td>\n",
       "      <td>N14228</td>\n",
       "      <td>EWR</td>\n",
       "      <td>IAH</td>\n",
       "      <td>227.0</td>\n",
       "      <td>1400</td>\n",
       "      <td>5</td>\n",
       "      <td>15</td>\n",
       "      <td>2013-01-01T10:00:00Z</td>\n",
       "    </tr>\n",
       "    <tr>\n",
       "      <th>1</th>\n",
       "      <td>2013</td>\n",
       "      <td>1</td>\n",
       "      <td>1</td>\n",
       "      <td>533.0</td>\n",
       "      <td>529</td>\n",
       "      <td>4.0</td>\n",
       "      <td>850.0</td>\n",
       "      <td>830</td>\n",
       "      <td>20.0</td>\n",
       "      <td>UA</td>\n",
       "      <td>1714</td>\n",
       "      <td>N24211</td>\n",
       "      <td>LGA</td>\n",
       "      <td>IAH</td>\n",
       "      <td>227.0</td>\n",
       "      <td>1416</td>\n",
       "      <td>5</td>\n",
       "      <td>29</td>\n",
       "      <td>2013-01-01T10:00:00Z</td>\n",
       "    </tr>\n",
       "    <tr>\n",
       "      <th>2</th>\n",
       "      <td>2013</td>\n",
       "      <td>1</td>\n",
       "      <td>1</td>\n",
       "      <td>542.0</td>\n",
       "      <td>540</td>\n",
       "      <td>2.0</td>\n",
       "      <td>923.0</td>\n",
       "      <td>850</td>\n",
       "      <td>33.0</td>\n",
       "      <td>AA</td>\n",
       "      <td>1141</td>\n",
       "      <td>N619AA</td>\n",
       "      <td>JFK</td>\n",
       "      <td>MIA</td>\n",
       "      <td>160.0</td>\n",
       "      <td>1089</td>\n",
       "      <td>5</td>\n",
       "      <td>40</td>\n",
       "      <td>2013-01-01T10:00:00Z</td>\n",
       "    </tr>\n",
       "    <tr>\n",
       "      <th>3</th>\n",
       "      <td>2013</td>\n",
       "      <td>1</td>\n",
       "      <td>1</td>\n",
       "      <td>544.0</td>\n",
       "      <td>545</td>\n",
       "      <td>-1.0</td>\n",
       "      <td>1004.0</td>\n",
       "      <td>1022</td>\n",
       "      <td>-18.0</td>\n",
       "      <td>B6</td>\n",
       "      <td>725</td>\n",
       "      <td>N804JB</td>\n",
       "      <td>JFK</td>\n",
       "      <td>BQN</td>\n",
       "      <td>183.0</td>\n",
       "      <td>1576</td>\n",
       "      <td>5</td>\n",
       "      <td>45</td>\n",
       "      <td>2013-01-01T10:00:00Z</td>\n",
       "    </tr>\n",
       "    <tr>\n",
       "      <th>4</th>\n",
       "      <td>2013</td>\n",
       "      <td>1</td>\n",
       "      <td>1</td>\n",
       "      <td>554.0</td>\n",
       "      <td>600</td>\n",
       "      <td>-6.0</td>\n",
       "      <td>812.0</td>\n",
       "      <td>837</td>\n",
       "      <td>-25.0</td>\n",
       "      <td>DL</td>\n",
       "      <td>461</td>\n",
       "      <td>N668DN</td>\n",
       "      <td>LGA</td>\n",
       "      <td>ATL</td>\n",
       "      <td>116.0</td>\n",
       "      <td>762</td>\n",
       "      <td>6</td>\n",
       "      <td>0</td>\n",
       "      <td>2013-01-01T11:00:00Z</td>\n",
       "    </tr>\n",
       "  </tbody>\n",
       "</table>\n",
       "</div>"
      ],
      "text/plain": [
       "   year  month  day  dep_time  sched_dep_time  dep_delay  arr_time  \\\n",
       "0  2013      1    1     517.0             515        2.0     830.0   \n",
       "1  2013      1    1     533.0             529        4.0     850.0   \n",
       "2  2013      1    1     542.0             540        2.0     923.0   \n",
       "3  2013      1    1     544.0             545       -1.0    1004.0   \n",
       "4  2013      1    1     554.0             600       -6.0     812.0   \n",
       "\n",
       "   sched_arr_time  arr_delay carrier  flight tailnum origin dest  air_time  \\\n",
       "0             819       11.0      UA    1545  N14228    EWR  IAH     227.0   \n",
       "1             830       20.0      UA    1714  N24211    LGA  IAH     227.0   \n",
       "2             850       33.0      AA    1141  N619AA    JFK  MIA     160.0   \n",
       "3            1022      -18.0      B6     725  N804JB    JFK  BQN     183.0   \n",
       "4             837      -25.0      DL     461  N668DN    LGA  ATL     116.0   \n",
       "\n",
       "   distance  hour  minute             time_hour  \n",
       "0      1400     5      15  2013-01-01T10:00:00Z  \n",
       "1      1416     5      29  2013-01-01T10:00:00Z  \n",
       "2      1089     5      40  2013-01-01T10:00:00Z  \n",
       "3      1576     5      45  2013-01-01T10:00:00Z  \n",
       "4       762     6       0  2013-01-01T11:00:00Z  "
      ]
     },
     "execution_count": 3,
     "metadata": {},
     "output_type": "execute_result"
    }
   ],
   "source": [
    "flights.head()"
   ]
  },
  {
   "cell_type": "code",
   "execution_count": 4,
   "id": "b0019136-cc4a-4510-bfe6-62d74f800db3",
   "metadata": {},
   "outputs": [
    {
     "data": {
      "text/plain": [
       "(336776, 19)"
      ]
     },
     "execution_count": 4,
     "metadata": {},
     "output_type": "execute_result"
    }
   ],
   "source": [
    "flights.shape"
   ]
  },
  {
   "cell_type": "code",
   "execution_count": 5,
   "id": "9fa22880-a928-423b-a8dd-34e136a7988f",
   "metadata": {},
   "outputs": [
    {
     "data": {
      "text/html": [
       "<div>\n",
       "<style scoped>\n",
       "    .dataframe tbody tr th:only-of-type {\n",
       "        vertical-align: middle;\n",
       "    }\n",
       "\n",
       "    .dataframe tbody tr th {\n",
       "        vertical-align: top;\n",
       "    }\n",
       "\n",
       "    .dataframe thead th {\n",
       "        text-align: right;\n",
       "    }\n",
       "</style>\n",
       "<table border=\"1\" class=\"dataframe\">\n",
       "  <thead>\n",
       "    <tr style=\"text-align: right;\">\n",
       "      <th></th>\n",
       "      <th>count</th>\n",
       "      <th>mean</th>\n",
       "      <th>std</th>\n",
       "      <th>min</th>\n",
       "      <th>25%</th>\n",
       "      <th>50%</th>\n",
       "      <th>75%</th>\n",
       "      <th>max</th>\n",
       "    </tr>\n",
       "  </thead>\n",
       "  <tbody>\n",
       "    <tr>\n",
       "      <th>year</th>\n",
       "      <td>336776.0</td>\n",
       "      <td>2013.000000</td>\n",
       "      <td>0.000000</td>\n",
       "      <td>2013.0</td>\n",
       "      <td>2013.0</td>\n",
       "      <td>2013.0</td>\n",
       "      <td>2013.0</td>\n",
       "      <td>2013.0</td>\n",
       "    </tr>\n",
       "    <tr>\n",
       "      <th>month</th>\n",
       "      <td>336776.0</td>\n",
       "      <td>6.548510</td>\n",
       "      <td>3.414457</td>\n",
       "      <td>1.0</td>\n",
       "      <td>4.0</td>\n",
       "      <td>7.0</td>\n",
       "      <td>10.0</td>\n",
       "      <td>12.0</td>\n",
       "    </tr>\n",
       "    <tr>\n",
       "      <th>day</th>\n",
       "      <td>336776.0</td>\n",
       "      <td>15.710787</td>\n",
       "      <td>8.768607</td>\n",
       "      <td>1.0</td>\n",
       "      <td>8.0</td>\n",
       "      <td>16.0</td>\n",
       "      <td>23.0</td>\n",
       "      <td>31.0</td>\n",
       "    </tr>\n",
       "    <tr>\n",
       "      <th>dep_time</th>\n",
       "      <td>328521.0</td>\n",
       "      <td>1349.109947</td>\n",
       "      <td>488.281791</td>\n",
       "      <td>1.0</td>\n",
       "      <td>907.0</td>\n",
       "      <td>1401.0</td>\n",
       "      <td>1744.0</td>\n",
       "      <td>2400.0</td>\n",
       "    </tr>\n",
       "    <tr>\n",
       "      <th>sched_dep_time</th>\n",
       "      <td>336776.0</td>\n",
       "      <td>1344.254840</td>\n",
       "      <td>467.335756</td>\n",
       "      <td>106.0</td>\n",
       "      <td>906.0</td>\n",
       "      <td>1359.0</td>\n",
       "      <td>1729.0</td>\n",
       "      <td>2359.0</td>\n",
       "    </tr>\n",
       "    <tr>\n",
       "      <th>dep_delay</th>\n",
       "      <td>328521.0</td>\n",
       "      <td>12.639070</td>\n",
       "      <td>40.210061</td>\n",
       "      <td>-43.0</td>\n",
       "      <td>-5.0</td>\n",
       "      <td>-2.0</td>\n",
       "      <td>11.0</td>\n",
       "      <td>1301.0</td>\n",
       "    </tr>\n",
       "    <tr>\n",
       "      <th>arr_time</th>\n",
       "      <td>328063.0</td>\n",
       "      <td>1502.054999</td>\n",
       "      <td>533.264132</td>\n",
       "      <td>1.0</td>\n",
       "      <td>1104.0</td>\n",
       "      <td>1535.0</td>\n",
       "      <td>1940.0</td>\n",
       "      <td>2400.0</td>\n",
       "    </tr>\n",
       "    <tr>\n",
       "      <th>sched_arr_time</th>\n",
       "      <td>336776.0</td>\n",
       "      <td>1536.380220</td>\n",
       "      <td>497.457142</td>\n",
       "      <td>1.0</td>\n",
       "      <td>1124.0</td>\n",
       "      <td>1556.0</td>\n",
       "      <td>1945.0</td>\n",
       "      <td>2359.0</td>\n",
       "    </tr>\n",
       "    <tr>\n",
       "      <th>arr_delay</th>\n",
       "      <td>327346.0</td>\n",
       "      <td>6.895377</td>\n",
       "      <td>44.633292</td>\n",
       "      <td>-86.0</td>\n",
       "      <td>-17.0</td>\n",
       "      <td>-5.0</td>\n",
       "      <td>14.0</td>\n",
       "      <td>1272.0</td>\n",
       "    </tr>\n",
       "    <tr>\n",
       "      <th>flight</th>\n",
       "      <td>336776.0</td>\n",
       "      <td>1971.923620</td>\n",
       "      <td>1632.471938</td>\n",
       "      <td>1.0</td>\n",
       "      <td>553.0</td>\n",
       "      <td>1496.0</td>\n",
       "      <td>3465.0</td>\n",
       "      <td>8500.0</td>\n",
       "    </tr>\n",
       "    <tr>\n",
       "      <th>air_time</th>\n",
       "      <td>327346.0</td>\n",
       "      <td>150.686460</td>\n",
       "      <td>93.688305</td>\n",
       "      <td>20.0</td>\n",
       "      <td>82.0</td>\n",
       "      <td>129.0</td>\n",
       "      <td>192.0</td>\n",
       "      <td>695.0</td>\n",
       "    </tr>\n",
       "    <tr>\n",
       "      <th>distance</th>\n",
       "      <td>336776.0</td>\n",
       "      <td>1039.912604</td>\n",
       "      <td>733.233033</td>\n",
       "      <td>17.0</td>\n",
       "      <td>502.0</td>\n",
       "      <td>872.0</td>\n",
       "      <td>1389.0</td>\n",
       "      <td>4983.0</td>\n",
       "    </tr>\n",
       "    <tr>\n",
       "      <th>hour</th>\n",
       "      <td>336776.0</td>\n",
       "      <td>13.180247</td>\n",
       "      <td>4.661316</td>\n",
       "      <td>1.0</td>\n",
       "      <td>9.0</td>\n",
       "      <td>13.0</td>\n",
       "      <td>17.0</td>\n",
       "      <td>23.0</td>\n",
       "    </tr>\n",
       "    <tr>\n",
       "      <th>minute</th>\n",
       "      <td>336776.0</td>\n",
       "      <td>26.230100</td>\n",
       "      <td>19.300846</td>\n",
       "      <td>0.0</td>\n",
       "      <td>8.0</td>\n",
       "      <td>29.0</td>\n",
       "      <td>44.0</td>\n",
       "      <td>59.0</td>\n",
       "    </tr>\n",
       "  </tbody>\n",
       "</table>\n",
       "</div>"
      ],
      "text/plain": [
       "                   count         mean          std     min     25%     50%  \\\n",
       "year            336776.0  2013.000000     0.000000  2013.0  2013.0  2013.0   \n",
       "month           336776.0     6.548510     3.414457     1.0     4.0     7.0   \n",
       "day             336776.0    15.710787     8.768607     1.0     8.0    16.0   \n",
       "dep_time        328521.0  1349.109947   488.281791     1.0   907.0  1401.0   \n",
       "sched_dep_time  336776.0  1344.254840   467.335756   106.0   906.0  1359.0   \n",
       "dep_delay       328521.0    12.639070    40.210061   -43.0    -5.0    -2.0   \n",
       "arr_time        328063.0  1502.054999   533.264132     1.0  1104.0  1535.0   \n",
       "sched_arr_time  336776.0  1536.380220   497.457142     1.0  1124.0  1556.0   \n",
       "arr_delay       327346.0     6.895377    44.633292   -86.0   -17.0    -5.0   \n",
       "flight          336776.0  1971.923620  1632.471938     1.0   553.0  1496.0   \n",
       "air_time        327346.0   150.686460    93.688305    20.0    82.0   129.0   \n",
       "distance        336776.0  1039.912604   733.233033    17.0   502.0   872.0   \n",
       "hour            336776.0    13.180247     4.661316     1.0     9.0    13.0   \n",
       "minute          336776.0    26.230100    19.300846     0.0     8.0    29.0   \n",
       "\n",
       "                   75%     max  \n",
       "year            2013.0  2013.0  \n",
       "month             10.0    12.0  \n",
       "day               23.0    31.0  \n",
       "dep_time        1744.0  2400.0  \n",
       "sched_dep_time  1729.0  2359.0  \n",
       "dep_delay         11.0  1301.0  \n",
       "arr_time        1940.0  2400.0  \n",
       "sched_arr_time  1945.0  2359.0  \n",
       "arr_delay         14.0  1272.0  \n",
       "flight          3465.0  8500.0  \n",
       "air_time         192.0   695.0  \n",
       "distance        1389.0  4983.0  \n",
       "hour              17.0    23.0  \n",
       "minute            44.0    59.0  "
      ]
     },
     "execution_count": 5,
     "metadata": {},
     "output_type": "execute_result"
    }
   ],
   "source": [
    "flights.describe().T"
   ]
  },
  {
   "cell_type": "code",
   "execution_count": 6,
   "id": "f159c3f5-a15f-4dcc-9a46-d6f8d57025e6",
   "metadata": {},
   "outputs": [
    {
     "name": "stdout",
     "output_type": "stream",
     "text": [
      "<class 'pandas.core.frame.DataFrame'>\n",
      "RangeIndex: 336776 entries, 0 to 336775\n",
      "Data columns (total 19 columns):\n",
      " #   Column          Non-Null Count   Dtype  \n",
      "---  ------          --------------   -----  \n",
      " 0   year            336776 non-null  int64  \n",
      " 1   month           336776 non-null  int64  \n",
      " 2   day             336776 non-null  int64  \n",
      " 3   dep_time        328521 non-null  float64\n",
      " 4   sched_dep_time  336776 non-null  int64  \n",
      " 5   dep_delay       328521 non-null  float64\n",
      " 6   arr_time        328063 non-null  float64\n",
      " 7   sched_arr_time  336776 non-null  int64  \n",
      " 8   arr_delay       327346 non-null  float64\n",
      " 9   carrier         336776 non-null  object \n",
      " 10  flight          336776 non-null  int64  \n",
      " 11  tailnum         334264 non-null  object \n",
      " 12  origin          336776 non-null  object \n",
      " 13  dest            336776 non-null  object \n",
      " 14  air_time        327346 non-null  float64\n",
      " 15  distance        336776 non-null  int64  \n",
      " 16  hour            336776 non-null  int64  \n",
      " 17  minute          336776 non-null  int64  \n",
      " 18  time_hour       336776 non-null  object \n",
      "dtypes: float64(5), int64(9), object(5)\n",
      "memory usage: 48.8+ MB\n"
     ]
    }
   ],
   "source": [
    "flights.info()"
   ]
  },
  {
   "cell_type": "code",
   "execution_count": 7,
   "id": "3e76c33a-0337-4e27-9e42-536dc49fa4af",
   "metadata": {},
   "outputs": [
    {
     "data": {
      "text/plain": [
       "year                 0\n",
       "month                0\n",
       "day                  0\n",
       "dep_time          8255\n",
       "sched_dep_time       0\n",
       "dep_delay         8255\n",
       "arr_time          8713\n",
       "sched_arr_time       0\n",
       "arr_delay         9430\n",
       "carrier              0\n",
       "flight               0\n",
       "tailnum           2512\n",
       "origin               0\n",
       "dest                 0\n",
       "air_time          9430\n",
       "distance             0\n",
       "hour                 0\n",
       "minute               0\n",
       "time_hour            0\n",
       "dtype: int64"
      ]
     },
     "execution_count": 7,
     "metadata": {},
     "output_type": "execute_result"
    }
   ],
   "source": [
    "flights.isna().sum()"
   ]
  },
  {
   "cell_type": "markdown",
   "id": "668f178e-8eaa-4eb2-a3a0-d2f251a17ac4",
   "metadata": {},
   "source": [
    "### data processing"
   ]
  },
  {
   "cell_type": "markdown",
   "id": "1f663732-ae65-4113-b8fe-681c1551aef8",
   "metadata": {},
   "source": [
    "#### R"
   ]
  },
  {
   "cell_type": "markdown",
   "id": "77349dc2-a875-4a02-82e7-8a29db01af64",
   "metadata": {},
   "source": [
    "`1` Merge : key값을 기준으로 데이터프레임을 병합하는 방법"
   ]
  },
  {
   "cell_type": "code",
   "execution_count": 1,
   "id": "6744eba0-747f-463d-9369-e374c2ac5723",
   "metadata": {},
   "outputs": [
    {
     "name": "stderr",
     "output_type": "stream",
     "text": [
      "-- \u001b[1mAttaching core tidyverse packages\u001b[22m ---------------------------------------------------------------- tidyverse 2.0.0 --\n",
      "\u001b[32mv\u001b[39m \u001b[34mdplyr    \u001b[39m 1.1.4     \u001b[32mv\u001b[39m \u001b[34mreadr    \u001b[39m 2.1.5\n",
      "\u001b[32mv\u001b[39m \u001b[34mforcats  \u001b[39m 1.0.0     \u001b[32mv\u001b[39m \u001b[34mstringr  \u001b[39m 1.5.0\n",
      "\u001b[32mv\u001b[39m \u001b[34mggplot2  \u001b[39m 3.4.2     \u001b[32mv\u001b[39m \u001b[34mtibble   \u001b[39m 3.2.1\n",
      "\u001b[32mv\u001b[39m \u001b[34mlubridate\u001b[39m 1.9.3     \u001b[32mv\u001b[39m \u001b[34mtidyr    \u001b[39m 1.3.1\n",
      "\u001b[32mv\u001b[39m \u001b[34mpurrr    \u001b[39m 1.0.2     \n",
      "-- \u001b[1mConflicts\u001b[22m ---------------------------------------------------------------------------------- tidyverse_conflicts() --\n",
      "\u001b[31mx\u001b[39m \u001b[34mdplyr\u001b[39m::\u001b[32mfilter()\u001b[39m masks \u001b[34mstats\u001b[39m::filter()\n",
      "\u001b[31mx\u001b[39m \u001b[34mdplyr\u001b[39m::\u001b[32mlag()\u001b[39m    masks \u001b[34mstats\u001b[39m::lag()\n",
      "\u001b[36mi\u001b[39m Use the conflicted package (\u001b[3m\u001b[34m<http://conflicted.r-lib.org/>\u001b[39m\u001b[23m) to force all conflicts to become errors\n"
     ]
    }
   ],
   "source": [
    "library(tidyverse)"
   ]
  },
  {
   "cell_type": "code",
   "execution_count": 2,
   "id": "033f0931-4177-49ec-a172-1487c3f3412f",
   "metadata": {},
   "outputs": [],
   "source": [
    "A = tibble(a = c(1,1,2,3), b = c(1,2,1,2), v1 = c(10,20,30,40))\n",
    "B = tibble(a = c(1,2,2,3), b = c(1,2,1,3), v2 = c(100,200,300,400))"
   ]
  },
  {
   "cell_type": "code",
   "execution_count": 3,
   "id": "d21a91a4-a01e-490f-b6cf-346a100e0b2b",
   "metadata": {},
   "outputs": [
    {
     "data": {
      "text/html": [
       "<table class=\"dataframe\">\n",
       "<caption>A tibble: 4 × 3</caption>\n",
       "<thead>\n",
       "\t<tr><th scope=col>a</th><th scope=col>b</th><th scope=col>v1</th></tr>\n",
       "\t<tr><th scope=col>&lt;dbl&gt;</th><th scope=col>&lt;dbl&gt;</th><th scope=col>&lt;dbl&gt;</th></tr>\n",
       "</thead>\n",
       "<tbody>\n",
       "\t<tr><td>1</td><td>1</td><td>10</td></tr>\n",
       "\t<tr><td>1</td><td>2</td><td>20</td></tr>\n",
       "\t<tr><td>2</td><td>1</td><td>30</td></tr>\n",
       "\t<tr><td>3</td><td>2</td><td>40</td></tr>\n",
       "</tbody>\n",
       "</table>\n"
      ],
      "text/latex": [
       "A tibble: 4 × 3\n",
       "\\begin{tabular}{lll}\n",
       " a & b & v1\\\\\n",
       " <dbl> & <dbl> & <dbl>\\\\\n",
       "\\hline\n",
       "\t 1 & 1 & 10\\\\\n",
       "\t 1 & 2 & 20\\\\\n",
       "\t 2 & 1 & 30\\\\\n",
       "\t 3 & 2 & 40\\\\\n",
       "\\end{tabular}\n"
      ],
      "text/markdown": [
       "\n",
       "A tibble: 4 × 3\n",
       "\n",
       "| a &lt;dbl&gt; | b &lt;dbl&gt; | v1 &lt;dbl&gt; |\n",
       "|---|---|---|\n",
       "| 1 | 1 | 10 |\n",
       "| 1 | 2 | 20 |\n",
       "| 2 | 1 | 30 |\n",
       "| 3 | 2 | 40 |\n",
       "\n"
      ],
      "text/plain": [
       "  a b v1\n",
       "1 1 1 10\n",
       "2 1 2 20\n",
       "3 2 1 30\n",
       "4 3 2 40"
      ]
     },
     "metadata": {},
     "output_type": "display_data"
    }
   ],
   "source": [
    "A"
   ]
  },
  {
   "cell_type": "code",
   "execution_count": 4,
   "id": "25682d16-3adf-4a1f-8f07-e0e00ecb5bb4",
   "metadata": {},
   "outputs": [
    {
     "data": {
      "text/html": [
       "<table class=\"dataframe\">\n",
       "<caption>A tibble: 4 × 3</caption>\n",
       "<thead>\n",
       "\t<tr><th scope=col>a</th><th scope=col>b</th><th scope=col>v2</th></tr>\n",
       "\t<tr><th scope=col>&lt;dbl&gt;</th><th scope=col>&lt;dbl&gt;</th><th scope=col>&lt;dbl&gt;</th></tr>\n",
       "</thead>\n",
       "<tbody>\n",
       "\t<tr><td>1</td><td>1</td><td>100</td></tr>\n",
       "\t<tr><td>2</td><td>2</td><td>200</td></tr>\n",
       "\t<tr><td>2</td><td>1</td><td>300</td></tr>\n",
       "\t<tr><td>3</td><td>3</td><td>400</td></tr>\n",
       "</tbody>\n",
       "</table>\n"
      ],
      "text/latex": [
       "A tibble: 4 × 3\n",
       "\\begin{tabular}{lll}\n",
       " a & b & v2\\\\\n",
       " <dbl> & <dbl> & <dbl>\\\\\n",
       "\\hline\n",
       "\t 1 & 1 & 100\\\\\n",
       "\t 2 & 2 & 200\\\\\n",
       "\t 2 & 1 & 300\\\\\n",
       "\t 3 & 3 & 400\\\\\n",
       "\\end{tabular}\n"
      ],
      "text/markdown": [
       "\n",
       "A tibble: 4 × 3\n",
       "\n",
       "| a &lt;dbl&gt; | b &lt;dbl&gt; | v2 &lt;dbl&gt; |\n",
       "|---|---|---|\n",
       "| 1 | 1 | 100 |\n",
       "| 2 | 2 | 200 |\n",
       "| 2 | 1 | 300 |\n",
       "| 3 | 3 | 400 |\n",
       "\n"
      ],
      "text/plain": [
       "  a b v2 \n",
       "1 1 1 100\n",
       "2 2 2 200\n",
       "3 2 1 300\n",
       "4 3 3 400"
      ]
     },
     "metadata": {},
     "output_type": "display_data"
    }
   ],
   "source": [
    "B"
   ]
  },
  {
   "cell_type": "markdown",
   "id": "62bcceee-ac56-4ac3-849e-628be78cd054",
   "metadata": {},
   "source": [
    "* Left join : 왼쪽 데이터 프레임의 모든 행의 결과를 포함"
   ]
  },
  {
   "cell_type": "code",
   "execution_count": 5,
   "id": "33902faa-eba4-42eb-b71a-78ac8d1d1ce8",
   "metadata": {},
   "outputs": [
    {
     "data": {
      "text/html": [
       "<table class=\"dataframe\">\n",
       "<caption>A data.frame: 4 × 4</caption>\n",
       "<thead>\n",
       "\t<tr><th scope=col>a</th><th scope=col>b</th><th scope=col>v1</th><th scope=col>v2</th></tr>\n",
       "\t<tr><th scope=col>&lt;dbl&gt;</th><th scope=col>&lt;dbl&gt;</th><th scope=col>&lt;dbl&gt;</th><th scope=col>&lt;dbl&gt;</th></tr>\n",
       "</thead>\n",
       "<tbody>\n",
       "\t<tr><td>1</td><td>1</td><td>10</td><td>100</td></tr>\n",
       "\t<tr><td>1</td><td>2</td><td>20</td><td> NA</td></tr>\n",
       "\t<tr><td>2</td><td>1</td><td>30</td><td>300</td></tr>\n",
       "\t<tr><td>3</td><td>2</td><td>40</td><td> NA</td></tr>\n",
       "</tbody>\n",
       "</table>\n"
      ],
      "text/latex": [
       "A data.frame: 4 × 4\n",
       "\\begin{tabular}{llll}\n",
       " a & b & v1 & v2\\\\\n",
       " <dbl> & <dbl> & <dbl> & <dbl>\\\\\n",
       "\\hline\n",
       "\t 1 & 1 & 10 & 100\\\\\n",
       "\t 1 & 2 & 20 &  NA\\\\\n",
       "\t 2 & 1 & 30 & 300\\\\\n",
       "\t 3 & 2 & 40 &  NA\\\\\n",
       "\\end{tabular}\n"
      ],
      "text/markdown": [
       "\n",
       "A data.frame: 4 × 4\n",
       "\n",
       "| a &lt;dbl&gt; | b &lt;dbl&gt; | v1 &lt;dbl&gt; | v2 &lt;dbl&gt; |\n",
       "|---|---|---|---|\n",
       "| 1 | 1 | 10 | 100 |\n",
       "| 1 | 2 | 20 |  NA |\n",
       "| 2 | 1 | 30 | 300 |\n",
       "| 3 | 2 | 40 |  NA |\n",
       "\n"
      ],
      "text/plain": [
       "  a b v1 v2 \n",
       "1 1 1 10 100\n",
       "2 1 2 20  NA\n",
       "3 2 1 30 300\n",
       "4 3 2 40  NA"
      ]
     },
     "metadata": {},
     "output_type": "display_data"
    }
   ],
   "source": [
    "merge(A, B, all.x = T, by = c(\"a\", \"b\"))"
   ]
  },
  {
   "cell_type": "markdown",
   "id": "70f64c2b-261e-49d1-82c8-4f8b2c7d7398",
   "metadata": {},
   "source": [
    "* Right join : 오른쪽 데이터 프레임의 모든 행의 결과를 포함"
   ]
  },
  {
   "cell_type": "code",
   "execution_count": 6,
   "id": "d4404bbe-40f3-432f-84bd-6ae8f0bbe2c5",
   "metadata": {},
   "outputs": [
    {
     "data": {
      "text/html": [
       "<table class=\"dataframe\">\n",
       "<caption>A data.frame: 4 × 4</caption>\n",
       "<thead>\n",
       "\t<tr><th scope=col>a</th><th scope=col>b</th><th scope=col>v1</th><th scope=col>v2</th></tr>\n",
       "\t<tr><th scope=col>&lt;dbl&gt;</th><th scope=col>&lt;dbl&gt;</th><th scope=col>&lt;dbl&gt;</th><th scope=col>&lt;dbl&gt;</th></tr>\n",
       "</thead>\n",
       "<tbody>\n",
       "\t<tr><td>1</td><td>1</td><td>10</td><td>100</td></tr>\n",
       "\t<tr><td>2</td><td>1</td><td>30</td><td>300</td></tr>\n",
       "\t<tr><td>2</td><td>2</td><td>NA</td><td>200</td></tr>\n",
       "\t<tr><td>3</td><td>3</td><td>NA</td><td>400</td></tr>\n",
       "</tbody>\n",
       "</table>\n"
      ],
      "text/latex": [
       "A data.frame: 4 × 4\n",
       "\\begin{tabular}{llll}\n",
       " a & b & v1 & v2\\\\\n",
       " <dbl> & <dbl> & <dbl> & <dbl>\\\\\n",
       "\\hline\n",
       "\t 1 & 1 & 10 & 100\\\\\n",
       "\t 2 & 1 & 30 & 300\\\\\n",
       "\t 2 & 2 & NA & 200\\\\\n",
       "\t 3 & 3 & NA & 400\\\\\n",
       "\\end{tabular}\n"
      ],
      "text/markdown": [
       "\n",
       "A data.frame: 4 × 4\n",
       "\n",
       "| a &lt;dbl&gt; | b &lt;dbl&gt; | v1 &lt;dbl&gt; | v2 &lt;dbl&gt; |\n",
       "|---|---|---|---|\n",
       "| 1 | 1 | 10 | 100 |\n",
       "| 2 | 1 | 30 | 300 |\n",
       "| 2 | 2 | NA | 200 |\n",
       "| 3 | 3 | NA | 400 |\n",
       "\n"
      ],
      "text/plain": [
       "  a b v1 v2 \n",
       "1 1 1 10 100\n",
       "2 2 1 30 300\n",
       "3 2 2 NA 200\n",
       "4 3 3 NA 400"
      ]
     },
     "metadata": {},
     "output_type": "display_data"
    }
   ],
   "source": [
    "merge(A, B, all.x = F, all.y = T, by = c(\"a\", \"b\"))"
   ]
  },
  {
   "cell_type": "markdown",
   "id": "b5d1cc96-823d-40a8-a864-67a750960330",
   "metadata": {},
   "source": [
    "* inner join : 왼쪽, 오른쪽에서 key값이 모두 존재하는 행만 병합"
   ]
  },
  {
   "cell_type": "code",
   "execution_count": 7,
   "id": "187709be-a06b-43ad-817b-d603d517dc0e",
   "metadata": {},
   "outputs": [
    {
     "data": {
      "text/html": [
       "<table class=\"dataframe\">\n",
       "<caption>A data.frame: 2 × 4</caption>\n",
       "<thead>\n",
       "\t<tr><th scope=col>a</th><th scope=col>b</th><th scope=col>v1</th><th scope=col>v2</th></tr>\n",
       "\t<tr><th scope=col>&lt;dbl&gt;</th><th scope=col>&lt;dbl&gt;</th><th scope=col>&lt;dbl&gt;</th><th scope=col>&lt;dbl&gt;</th></tr>\n",
       "</thead>\n",
       "<tbody>\n",
       "\t<tr><td>1</td><td>1</td><td>10</td><td>100</td></tr>\n",
       "\t<tr><td>2</td><td>1</td><td>30</td><td>300</td></tr>\n",
       "</tbody>\n",
       "</table>\n"
      ],
      "text/latex": [
       "A data.frame: 2 × 4\n",
       "\\begin{tabular}{llll}\n",
       " a & b & v1 & v2\\\\\n",
       " <dbl> & <dbl> & <dbl> & <dbl>\\\\\n",
       "\\hline\n",
       "\t 1 & 1 & 10 & 100\\\\\n",
       "\t 2 & 1 & 30 & 300\\\\\n",
       "\\end{tabular}\n"
      ],
      "text/markdown": [
       "\n",
       "A data.frame: 2 × 4\n",
       "\n",
       "| a &lt;dbl&gt; | b &lt;dbl&gt; | v1 &lt;dbl&gt; | v2 &lt;dbl&gt; |\n",
       "|---|---|---|---|\n",
       "| 1 | 1 | 10 | 100 |\n",
       "| 2 | 1 | 30 | 300 |\n",
       "\n"
      ],
      "text/plain": [
       "  a b v1 v2 \n",
       "1 1 1 10 100\n",
       "2 2 1 30 300"
      ]
     },
     "metadata": {},
     "output_type": "display_data"
    }
   ],
   "source": [
    "merge(A, B, all.x = F, all.y = F, by = c(\"a\", \"b\"))"
   ]
  },
  {
   "cell_type": "markdown",
   "id": "275826c2-f65d-456e-ab91-fd37befe95e5",
   "metadata": {},
   "source": [
    "* outter join : 그냥 전부 병합"
   ]
  },
  {
   "cell_type": "code",
   "execution_count": 8,
   "id": "d50dd614-b31e-447b-836a-374f64e77375",
   "metadata": {},
   "outputs": [
    {
     "data": {
      "text/html": [
       "<table class=\"dataframe\">\n",
       "<caption>A data.frame: 6 × 4</caption>\n",
       "<thead>\n",
       "\t<tr><th scope=col>a</th><th scope=col>b</th><th scope=col>v1</th><th scope=col>v2</th></tr>\n",
       "\t<tr><th scope=col>&lt;dbl&gt;</th><th scope=col>&lt;dbl&gt;</th><th scope=col>&lt;dbl&gt;</th><th scope=col>&lt;dbl&gt;</th></tr>\n",
       "</thead>\n",
       "<tbody>\n",
       "\t<tr><td>1</td><td>1</td><td>10</td><td>100</td></tr>\n",
       "\t<tr><td>1</td><td>2</td><td>20</td><td> NA</td></tr>\n",
       "\t<tr><td>2</td><td>1</td><td>30</td><td>300</td></tr>\n",
       "\t<tr><td>2</td><td>2</td><td>NA</td><td>200</td></tr>\n",
       "\t<tr><td>3</td><td>2</td><td>40</td><td> NA</td></tr>\n",
       "\t<tr><td>3</td><td>3</td><td>NA</td><td>400</td></tr>\n",
       "</tbody>\n",
       "</table>\n"
      ],
      "text/latex": [
       "A data.frame: 6 × 4\n",
       "\\begin{tabular}{llll}\n",
       " a & b & v1 & v2\\\\\n",
       " <dbl> & <dbl> & <dbl> & <dbl>\\\\\n",
       "\\hline\n",
       "\t 1 & 1 & 10 & 100\\\\\n",
       "\t 1 & 2 & 20 &  NA\\\\\n",
       "\t 2 & 1 & 30 & 300\\\\\n",
       "\t 2 & 2 & NA & 200\\\\\n",
       "\t 3 & 2 & 40 &  NA\\\\\n",
       "\t 3 & 3 & NA & 400\\\\\n",
       "\\end{tabular}\n"
      ],
      "text/markdown": [
       "\n",
       "A data.frame: 6 × 4\n",
       "\n",
       "| a &lt;dbl&gt; | b &lt;dbl&gt; | v1 &lt;dbl&gt; | v2 &lt;dbl&gt; |\n",
       "|---|---|---|---|\n",
       "| 1 | 1 | 10 | 100 |\n",
       "| 1 | 2 | 20 |  NA |\n",
       "| 2 | 1 | 30 | 300 |\n",
       "| 2 | 2 | NA | 200 |\n",
       "| 3 | 2 | 40 |  NA |\n",
       "| 3 | 3 | NA | 400 |\n",
       "\n"
      ],
      "text/plain": [
       "  a b v1 v2 \n",
       "1 1 1 10 100\n",
       "2 1 2 20  NA\n",
       "3 2 1 30 300\n",
       "4 2 2 NA 200\n",
       "5 3 2 40  NA\n",
       "6 3 3 NA 400"
      ]
     },
     "metadata": {},
     "output_type": "display_data"
    }
   ],
   "source": [
    "merge(A, B, all.x = T, all.y = T, by = c(\"a\", \"b\"))"
   ]
  },
  {
   "cell_type": "markdown",
   "id": "86d1fe72-1b6e-4365-b4aa-d86d9c833086",
   "metadata": {},
   "source": [
    "***"
   ]
  },
  {
   "cell_type": "markdown",
   "id": "11b4c282-783a-486a-bcbb-99ce46844592",
   "metadata": {},
   "source": [
    "`2` Conditioning (filtering)"
   ]
  },
  {
   "cell_type": "markdown",
   "id": "5418984d-0149-474d-8ede-b3661d15f70d",
   "metadata": {},
   "source": [
    "* 강의에서 언급한 전처리 방법은 전 선호 하지 않아요. "
   ]
  },
  {
   "cell_type": "code",
   "execution_count": 9,
   "id": "17e5d685-e613-4afc-a9a6-3abb0dd8361c",
   "metadata": {},
   "outputs": [],
   "source": [
    "table1 = merge(A, B, all.x = T, by = c(\"a\", \"b\"))"
   ]
  },
  {
   "cell_type": "code",
   "execution_count": 10,
   "id": "2d5977da-8188-4c5c-8067-6ba906aa279f",
   "metadata": {},
   "outputs": [
    {
     "data": {
      "text/html": [
       "<table class=\"dataframe\">\n",
       "<caption>A data.frame: 4 × 4</caption>\n",
       "<thead>\n",
       "\t<tr><th scope=col>a</th><th scope=col>b</th><th scope=col>v1</th><th scope=col>v2</th></tr>\n",
       "\t<tr><th scope=col>&lt;dbl&gt;</th><th scope=col>&lt;dbl&gt;</th><th scope=col>&lt;dbl&gt;</th><th scope=col>&lt;dbl&gt;</th></tr>\n",
       "</thead>\n",
       "<tbody>\n",
       "\t<tr><td>1</td><td>1</td><td>10</td><td>100</td></tr>\n",
       "\t<tr><td>1</td><td>2</td><td>20</td><td> NA</td></tr>\n",
       "\t<tr><td>2</td><td>1</td><td>30</td><td>300</td></tr>\n",
       "\t<tr><td>3</td><td>2</td><td>40</td><td> NA</td></tr>\n",
       "</tbody>\n",
       "</table>\n"
      ],
      "text/latex": [
       "A data.frame: 4 × 4\n",
       "\\begin{tabular}{llll}\n",
       " a & b & v1 & v2\\\\\n",
       " <dbl> & <dbl> & <dbl> & <dbl>\\\\\n",
       "\\hline\n",
       "\t 1 & 1 & 10 & 100\\\\\n",
       "\t 1 & 2 & 20 &  NA\\\\\n",
       "\t 2 & 1 & 30 & 300\\\\\n",
       "\t 3 & 2 & 40 &  NA\\\\\n",
       "\\end{tabular}\n"
      ],
      "text/markdown": [
       "\n",
       "A data.frame: 4 × 4\n",
       "\n",
       "| a &lt;dbl&gt; | b &lt;dbl&gt; | v1 &lt;dbl&gt; | v2 &lt;dbl&gt; |\n",
       "|---|---|---|---|\n",
       "| 1 | 1 | 10 | 100 |\n",
       "| 1 | 2 | 20 |  NA |\n",
       "| 2 | 1 | 30 | 300 |\n",
       "| 3 | 2 | 40 |  NA |\n",
       "\n"
      ],
      "text/plain": [
       "  a b v1 v2 \n",
       "1 1 1 10 100\n",
       "2 1 2 20  NA\n",
       "3 2 1 30 300\n",
       "4 3 2 40  NA"
      ]
     },
     "metadata": {},
     "output_type": "display_data"
    }
   ],
   "source": [
    "table1"
   ]
  },
  {
   "cell_type": "code",
   "execution_count": 11,
   "id": "e67bbf33-ffbe-47ec-9d61-ec4ae8df7d3a",
   "metadata": {},
   "outputs": [
    {
     "data": {
      "text/html": [
       "<table class=\"dataframe\">\n",
       "<caption>A data.frame: 2 × 4</caption>\n",
       "<thead>\n",
       "\t<tr><th scope=col>a</th><th scope=col>b</th><th scope=col>v1</th><th scope=col>v2</th></tr>\n",
       "\t<tr><th scope=col>&lt;dbl&gt;</th><th scope=col>&lt;dbl&gt;</th><th scope=col>&lt;dbl&gt;</th><th scope=col>&lt;dbl&gt;</th></tr>\n",
       "</thead>\n",
       "<tbody>\n",
       "\t<tr><td>1</td><td>1</td><td>10</td><td>100</td></tr>\n",
       "\t<tr><td>1</td><td>2</td><td>20</td><td> NA</td></tr>\n",
       "</tbody>\n",
       "</table>\n"
      ],
      "text/latex": [
       "A data.frame: 2 × 4\n",
       "\\begin{tabular}{llll}\n",
       " a & b & v1 & v2\\\\\n",
       " <dbl> & <dbl> & <dbl> & <dbl>\\\\\n",
       "\\hline\n",
       "\t 1 & 1 & 10 & 100\\\\\n",
       "\t 1 & 2 & 20 &  NA\\\\\n",
       "\\end{tabular}\n"
      ],
      "text/markdown": [
       "\n",
       "A data.frame: 2 × 4\n",
       "\n",
       "| a &lt;dbl&gt; | b &lt;dbl&gt; | v1 &lt;dbl&gt; | v2 &lt;dbl&gt; |\n",
       "|---|---|---|---|\n",
       "| 1 | 1 | 10 | 100 |\n",
       "| 1 | 2 | 20 |  NA |\n",
       "\n"
      ],
      "text/plain": [
       "  a b v1 v2 \n",
       "1 1 1 10 100\n",
       "2 1 2 20  NA"
      ]
     },
     "metadata": {},
     "output_type": "display_data"
    }
   ],
   "source": [
    "table1 %>% filter(a == 1)"
   ]
  },
  {
   "cell_type": "code",
   "execution_count": 12,
   "id": "ab812409-a49c-41b9-9a0a-fa8cbed25148",
   "metadata": {},
   "outputs": [
    {
     "data": {
      "text/html": [
       "<table class=\"dataframe\">\n",
       "<caption>A data.frame: 2 × 4</caption>\n",
       "<thead>\n",
       "\t<tr><th scope=col>a</th><th scope=col>b</th><th scope=col>v1</th><th scope=col>v2</th></tr>\n",
       "\t<tr><th scope=col>&lt;dbl&gt;</th><th scope=col>&lt;dbl&gt;</th><th scope=col>&lt;dbl&gt;</th><th scope=col>&lt;dbl&gt;</th></tr>\n",
       "</thead>\n",
       "<tbody>\n",
       "\t<tr><td>1</td><td>1</td><td>10</td><td>100</td></tr>\n",
       "\t<tr><td>2</td><td>1</td><td>30</td><td>300</td></tr>\n",
       "</tbody>\n",
       "</table>\n"
      ],
      "text/latex": [
       "A data.frame: 2 × 4\n",
       "\\begin{tabular}{llll}\n",
       " a & b & v1 & v2\\\\\n",
       " <dbl> & <dbl> & <dbl> & <dbl>\\\\\n",
       "\\hline\n",
       "\t 1 & 1 & 10 & 100\\\\\n",
       "\t 2 & 1 & 30 & 300\\\\\n",
       "\\end{tabular}\n"
      ],
      "text/markdown": [
       "\n",
       "A data.frame: 2 × 4\n",
       "\n",
       "| a &lt;dbl&gt; | b &lt;dbl&gt; | v1 &lt;dbl&gt; | v2 &lt;dbl&gt; |\n",
       "|---|---|---|---|\n",
       "| 1 | 1 | 10 | 100 |\n",
       "| 2 | 1 | 30 | 300 |\n",
       "\n"
      ],
      "text/plain": [
       "  a b v1 v2 \n",
       "1 1 1 10 100\n",
       "2 2 1 30 300"
      ]
     },
     "metadata": {},
     "output_type": "display_data"
    }
   ],
   "source": [
    "table1 %>% filter(!is.na(v2))"
   ]
  },
  {
   "cell_type": "code",
   "execution_count": 13,
   "id": "39b962c6-7449-498c-8816-fbedf1bc5db6",
   "metadata": {},
   "outputs": [
    {
     "data": {
      "text/html": [
       "<table class=\"dataframe\">\n",
       "<caption>A data.frame: 1 × 4</caption>\n",
       "<thead>\n",
       "\t<tr><th scope=col>a</th><th scope=col>b</th><th scope=col>v1</th><th scope=col>v2</th></tr>\n",
       "\t<tr><th scope=col>&lt;dbl&gt;</th><th scope=col>&lt;dbl&gt;</th><th scope=col>&lt;dbl&gt;</th><th scope=col>&lt;dbl&gt;</th></tr>\n",
       "</thead>\n",
       "<tbody>\n",
       "\t<tr><td>1</td><td>1</td><td>10</td><td>100</td></tr>\n",
       "</tbody>\n",
       "</table>\n"
      ],
      "text/latex": [
       "A data.frame: 1 × 4\n",
       "\\begin{tabular}{llll}\n",
       " a & b & v1 & v2\\\\\n",
       " <dbl> & <dbl> & <dbl> & <dbl>\\\\\n",
       "\\hline\n",
       "\t 1 & 1 & 10 & 100\\\\\n",
       "\\end{tabular}\n"
      ],
      "text/markdown": [
       "\n",
       "A data.frame: 1 × 4\n",
       "\n",
       "| a &lt;dbl&gt; | b &lt;dbl&gt; | v1 &lt;dbl&gt; | v2 &lt;dbl&gt; |\n",
       "|---|---|---|---|\n",
       "| 1 | 1 | 10 | 100 |\n",
       "\n"
      ],
      "text/plain": [
       "  a b v1 v2 \n",
       "1 1 1 10 100"
      ]
     },
     "metadata": {},
     "output_type": "display_data"
    }
   ],
   "source": [
    "table1 %>% filter(a == 1 & !is.na(v2))"
   ]
  },
  {
   "cell_type": "markdown",
   "id": "3c78a666-41cf-4ce2-9522-676395ab5ed0",
   "metadata": {},
   "source": [
    "`2` 컬럼 생성 & 결측치 대체"
   ]
  },
  {
   "cell_type": "code",
   "execution_count": 14,
   "id": "c722ff91-8550-4137-abef-0df0b3e81766",
   "metadata": {},
   "outputs": [],
   "source": [
    "Table1 <-  tibble(Name = c(\"Peter\", \"Amy\", \"James\", \"Joshua\", \"Sophie\", \"Tom\",\"Alex\"),\n",
    "                  Class = c(1,1,1,2,2,3,3),\n",
    "                   V = c(9, 1, NA, 2, NA, 4, 5))"
   ]
  },
  {
   "cell_type": "code",
   "execution_count": 15,
   "id": "75810d92-02f8-46b8-b899-71ae706c6023",
   "metadata": {},
   "outputs": [],
   "source": [
    "write_csv(Table1, \"Table1.csv\")"
   ]
  },
  {
   "cell_type": "markdown",
   "id": "bfe46357-3018-4848-880e-e260087c7008",
   "metadata": {},
   "source": [
    "`-` class별 평균값 생성 후 붙이기"
   ]
  },
  {
   "cell_type": "code",
   "execution_count": 16,
   "id": "855728fb-f29b-492f-ba50-9d6a0ded2961",
   "metadata": {},
   "outputs": [
    {
     "data": {
      "text/html": [
       "<table class=\"dataframe\">\n",
       "<caption>A grouped_df: 7 × 4</caption>\n",
       "<thead>\n",
       "\t<tr><th scope=col>Name</th><th scope=col>Class</th><th scope=col>V</th><th scope=col>V_imp</th></tr>\n",
       "\t<tr><th scope=col>&lt;chr&gt;</th><th scope=col>&lt;dbl&gt;</th><th scope=col>&lt;dbl&gt;</th><th scope=col>&lt;dbl&gt;</th></tr>\n",
       "</thead>\n",
       "<tbody>\n",
       "\t<tr><td>Peter </td><td>1</td><td> 9</td><td>5.0</td></tr>\n",
       "\t<tr><td>Amy   </td><td>1</td><td> 1</td><td>5.0</td></tr>\n",
       "\t<tr><td>James </td><td>1</td><td>NA</td><td>5.0</td></tr>\n",
       "\t<tr><td>Joshua</td><td>2</td><td> 2</td><td>2.0</td></tr>\n",
       "\t<tr><td>Sophie</td><td>2</td><td>NA</td><td>2.0</td></tr>\n",
       "\t<tr><td>Tom   </td><td>3</td><td> 4</td><td>4.5</td></tr>\n",
       "\t<tr><td>Alex  </td><td>3</td><td> 5</td><td>4.5</td></tr>\n",
       "</tbody>\n",
       "</table>\n"
      ],
      "text/latex": [
       "A grouped\\_df: 7 × 4\n",
       "\\begin{tabular}{llll}\n",
       " Name & Class & V & V\\_imp\\\\\n",
       " <chr> & <dbl> & <dbl> & <dbl>\\\\\n",
       "\\hline\n",
       "\t Peter  & 1 &  9 & 5.0\\\\\n",
       "\t Amy    & 1 &  1 & 5.0\\\\\n",
       "\t James  & 1 & NA & 5.0\\\\\n",
       "\t Joshua & 2 &  2 & 2.0\\\\\n",
       "\t Sophie & 2 & NA & 2.0\\\\\n",
       "\t Tom    & 3 &  4 & 4.5\\\\\n",
       "\t Alex   & 3 &  5 & 4.5\\\\\n",
       "\\end{tabular}\n"
      ],
      "text/markdown": [
       "\n",
       "A grouped_df: 7 × 4\n",
       "\n",
       "| Name &lt;chr&gt; | Class &lt;dbl&gt; | V &lt;dbl&gt; | V_imp &lt;dbl&gt; |\n",
       "|---|---|---|---|\n",
       "| Peter  | 1 |  9 | 5.0 |\n",
       "| Amy    | 1 |  1 | 5.0 |\n",
       "| James  | 1 | NA | 5.0 |\n",
       "| Joshua | 2 |  2 | 2.0 |\n",
       "| Sophie | 2 | NA | 2.0 |\n",
       "| Tom    | 3 |  4 | 4.5 |\n",
       "| Alex   | 3 |  5 | 4.5 |\n",
       "\n"
      ],
      "text/plain": [
       "  Name   Class V  V_imp\n",
       "1 Peter  1      9 5.0  \n",
       "2 Amy    1      1 5.0  \n",
       "3 James  1     NA 5.0  \n",
       "4 Joshua 2      2 2.0  \n",
       "5 Sophie 2     NA 2.0  \n",
       "6 Tom    3      4 4.5  \n",
       "7 Alex   3      5 4.5  "
      ]
     },
     "metadata": {},
     "output_type": "display_data"
    }
   ],
   "source": [
    "Table1 %>% group_by(Class) %>% \n",
    "                mutate(V_imp = mean(V,na.rm = T))"
   ]
  },
  {
   "cell_type": "markdown",
   "id": "b44ee3ad-b265-41d2-b699-b78c4574da41",
   "metadata": {},
   "source": [
    "`-` 결측치 대체"
   ]
  },
  {
   "cell_type": "code",
   "execution_count": 17,
   "id": "d4ce7145-a8ac-4d7b-8335-93a07d0c8690",
   "metadata": {},
   "outputs": [
    {
     "data": {
      "text/html": [
       "<table class=\"dataframe\">\n",
       "<caption>A grouped_df: 7 × 4</caption>\n",
       "<thead>\n",
       "\t<tr><th scope=col>Name</th><th scope=col>Class</th><th scope=col>V</th><th scope=col>V_imp</th></tr>\n",
       "\t<tr><th scope=col>&lt;chr&gt;</th><th scope=col>&lt;dbl&gt;</th><th scope=col>&lt;dbl&gt;</th><th scope=col>&lt;dbl&gt;</th></tr>\n",
       "</thead>\n",
       "<tbody>\n",
       "\t<tr><td>Peter </td><td>1</td><td>9</td><td>5.0</td></tr>\n",
       "\t<tr><td>Amy   </td><td>1</td><td>1</td><td>5.0</td></tr>\n",
       "\t<tr><td>James </td><td>1</td><td>5</td><td>5.0</td></tr>\n",
       "\t<tr><td>Joshua</td><td>2</td><td>2</td><td>2.0</td></tr>\n",
       "\t<tr><td>Sophie</td><td>2</td><td>2</td><td>2.0</td></tr>\n",
       "\t<tr><td>Tom   </td><td>3</td><td>4</td><td>4.5</td></tr>\n",
       "\t<tr><td>Alex  </td><td>3</td><td>5</td><td>4.5</td></tr>\n",
       "</tbody>\n",
       "</table>\n"
      ],
      "text/latex": [
       "A grouped\\_df: 7 × 4\n",
       "\\begin{tabular}{llll}\n",
       " Name & Class & V & V\\_imp\\\\\n",
       " <chr> & <dbl> & <dbl> & <dbl>\\\\\n",
       "\\hline\n",
       "\t Peter  & 1 & 9 & 5.0\\\\\n",
       "\t Amy    & 1 & 1 & 5.0\\\\\n",
       "\t James  & 1 & 5 & 5.0\\\\\n",
       "\t Joshua & 2 & 2 & 2.0\\\\\n",
       "\t Sophie & 2 & 2 & 2.0\\\\\n",
       "\t Tom    & 3 & 4 & 4.5\\\\\n",
       "\t Alex   & 3 & 5 & 4.5\\\\\n",
       "\\end{tabular}\n"
      ],
      "text/markdown": [
       "\n",
       "A grouped_df: 7 × 4\n",
       "\n",
       "| Name &lt;chr&gt; | Class &lt;dbl&gt; | V &lt;dbl&gt; | V_imp &lt;dbl&gt; |\n",
       "|---|---|---|---|\n",
       "| Peter  | 1 | 9 | 5.0 |\n",
       "| Amy    | 1 | 1 | 5.0 |\n",
       "| James  | 1 | 5 | 5.0 |\n",
       "| Joshua | 2 | 2 | 2.0 |\n",
       "| Sophie | 2 | 2 | 2.0 |\n",
       "| Tom    | 3 | 4 | 4.5 |\n",
       "| Alex   | 3 | 5 | 4.5 |\n",
       "\n"
      ],
      "text/plain": [
       "  Name   Class V V_imp\n",
       "1 Peter  1     9 5.0  \n",
       "2 Amy    1     1 5.0  \n",
       "3 James  1     5 5.0  \n",
       "4 Joshua 2     2 2.0  \n",
       "5 Sophie 2     2 2.0  \n",
       "6 Tom    3     4 4.5  \n",
       "7 Alex   3     5 4.5  "
      ]
     },
     "metadata": {},
     "output_type": "display_data"
    }
   ],
   "source": [
    "Table1 %>% group_by(Class) %>% \n",
    "                mutate(V_imp = mean(V,na.rm = T),\n",
    "                       V = ifelse(is.na(V), mean(V,na.rm = T), V)) "
   ]
  },
  {
   "cell_type": "markdown",
   "id": "5d4af4c6-3853-4fde-a354-dba5aa2957ca",
   "metadata": {},
   "source": [
    "#### python"
   ]
  },
  {
   "cell_type": "code",
   "execution_count": 1,
   "id": "a0018463-6092-4295-b0ef-494df8e74c0e",
   "metadata": {},
   "outputs": [],
   "source": [
    "import pandas as pd"
   ]
  },
  {
   "cell_type": "code",
   "execution_count": 2,
   "id": "7ee7b871-0eed-4866-8424-647190f73ac1",
   "metadata": {},
   "outputs": [],
   "source": [
    "Table1 = pd.read_csv(\"Table1.csv\")"
   ]
  },
  {
   "cell_type": "code",
   "execution_count": 3,
   "id": "3002221e-cdd9-47c2-bc29-d9810384c9ae",
   "metadata": {},
   "outputs": [
    {
     "data": {
      "text/html": [
       "<div>\n",
       "<style scoped>\n",
       "    .dataframe tbody tr th:only-of-type {\n",
       "        vertical-align: middle;\n",
       "    }\n",
       "\n",
       "    .dataframe tbody tr th {\n",
       "        vertical-align: top;\n",
       "    }\n",
       "\n",
       "    .dataframe thead th {\n",
       "        text-align: right;\n",
       "    }\n",
       "</style>\n",
       "<table border=\"1\" class=\"dataframe\">\n",
       "  <thead>\n",
       "    <tr style=\"text-align: right;\">\n",
       "      <th></th>\n",
       "      <th>Name</th>\n",
       "      <th>Class</th>\n",
       "      <th>V</th>\n",
       "    </tr>\n",
       "  </thead>\n",
       "  <tbody>\n",
       "    <tr>\n",
       "      <th>0</th>\n",
       "      <td>Peter</td>\n",
       "      <td>1</td>\n",
       "      <td>9.0</td>\n",
       "    </tr>\n",
       "    <tr>\n",
       "      <th>1</th>\n",
       "      <td>Amy</td>\n",
       "      <td>1</td>\n",
       "      <td>1.0</td>\n",
       "    </tr>\n",
       "    <tr>\n",
       "      <th>2</th>\n",
       "      <td>James</td>\n",
       "      <td>1</td>\n",
       "      <td>NaN</td>\n",
       "    </tr>\n",
       "    <tr>\n",
       "      <th>3</th>\n",
       "      <td>Joshua</td>\n",
       "      <td>2</td>\n",
       "      <td>2.0</td>\n",
       "    </tr>\n",
       "    <tr>\n",
       "      <th>4</th>\n",
       "      <td>Sophie</td>\n",
       "      <td>2</td>\n",
       "      <td>NaN</td>\n",
       "    </tr>\n",
       "    <tr>\n",
       "      <th>5</th>\n",
       "      <td>Tom</td>\n",
       "      <td>3</td>\n",
       "      <td>4.0</td>\n",
       "    </tr>\n",
       "    <tr>\n",
       "      <th>6</th>\n",
       "      <td>Alex</td>\n",
       "      <td>3</td>\n",
       "      <td>5.0</td>\n",
       "    </tr>\n",
       "  </tbody>\n",
       "</table>\n",
       "</div>"
      ],
      "text/plain": [
       "     Name  Class    V\n",
       "0   Peter      1  9.0\n",
       "1     Amy      1  1.0\n",
       "2   James      1  NaN\n",
       "3  Joshua      2  2.0\n",
       "4  Sophie      2  NaN\n",
       "5     Tom      3  4.0\n",
       "6    Alex      3  5.0"
      ]
     },
     "execution_count": 3,
     "metadata": {},
     "output_type": "execute_result"
    }
   ],
   "source": [
    "Table1"
   ]
  },
  {
   "cell_type": "markdown",
   "id": "280c219e-7878-4850-bf4e-18075734ccaa",
   "metadata": {},
   "source": [
    "`1` 데이터 필터링"
   ]
  },
  {
   "cell_type": "code",
   "execution_count": 4,
   "id": "10c48198-d4d4-479f-b3d6-1a9c7f696c4f",
   "metadata": {},
   "outputs": [
    {
     "data": {
      "text/html": [
       "<div>\n",
       "<style scoped>\n",
       "    .dataframe tbody tr th:only-of-type {\n",
       "        vertical-align: middle;\n",
       "    }\n",
       "\n",
       "    .dataframe tbody tr th {\n",
       "        vertical-align: top;\n",
       "    }\n",
       "\n",
       "    .dataframe thead th {\n",
       "        text-align: right;\n",
       "    }\n",
       "</style>\n",
       "<table border=\"1\" class=\"dataframe\">\n",
       "  <thead>\n",
       "    <tr style=\"text-align: right;\">\n",
       "      <th></th>\n",
       "      <th>Name</th>\n",
       "      <th>Class</th>\n",
       "      <th>V</th>\n",
       "    </tr>\n",
       "  </thead>\n",
       "  <tbody>\n",
       "    <tr>\n",
       "      <th>0</th>\n",
       "      <td>Peter</td>\n",
       "      <td>1</td>\n",
       "      <td>9.0</td>\n",
       "    </tr>\n",
       "    <tr>\n",
       "      <th>1</th>\n",
       "      <td>Amy</td>\n",
       "      <td>1</td>\n",
       "      <td>1.0</td>\n",
       "    </tr>\n",
       "    <tr>\n",
       "      <th>2</th>\n",
       "      <td>James</td>\n",
       "      <td>1</td>\n",
       "      <td>NaN</td>\n",
       "    </tr>\n",
       "  </tbody>\n",
       "</table>\n",
       "</div>"
      ],
      "text/plain": [
       "    Name  Class    V\n",
       "0  Peter      1  9.0\n",
       "1    Amy      1  1.0\n",
       "2  James      1  NaN"
      ]
     },
     "execution_count": 4,
     "metadata": {},
     "output_type": "execute_result"
    }
   ],
   "source": [
    "Table1.loc[Table1.Class == 1]"
   ]
  },
  {
   "cell_type": "code",
   "execution_count": 5,
   "id": "a1c9ba94-85f6-4199-a538-f35bb3258eae",
   "metadata": {},
   "outputs": [
    {
     "data": {
      "text/plain": [
       "0     True\n",
       "1     True\n",
       "2    False\n",
       "3     True\n",
       "4    False\n",
       "5     True\n",
       "6     True\n",
       "Name: V, dtype: bool"
      ]
     },
     "execution_count": 5,
     "metadata": {},
     "output_type": "execute_result"
    }
   ],
   "source": [
    "Table1.V.isna() == 0"
   ]
  },
  {
   "cell_type": "code",
   "execution_count": 6,
   "id": "820cc2b8-aa15-4976-bd3b-a542818c2026",
   "metadata": {},
   "outputs": [
    {
     "data": {
      "text/html": [
       "<div>\n",
       "<style scoped>\n",
       "    .dataframe tbody tr th:only-of-type {\n",
       "        vertical-align: middle;\n",
       "    }\n",
       "\n",
       "    .dataframe tbody tr th {\n",
       "        vertical-align: top;\n",
       "    }\n",
       "\n",
       "    .dataframe thead th {\n",
       "        text-align: right;\n",
       "    }\n",
       "</style>\n",
       "<table border=\"1\" class=\"dataframe\">\n",
       "  <thead>\n",
       "    <tr style=\"text-align: right;\">\n",
       "      <th></th>\n",
       "      <th>Name</th>\n",
       "      <th>Class</th>\n",
       "      <th>V</th>\n",
       "    </tr>\n",
       "  </thead>\n",
       "  <tbody>\n",
       "    <tr>\n",
       "      <th>0</th>\n",
       "      <td>Peter</td>\n",
       "      <td>1</td>\n",
       "      <td>9.0</td>\n",
       "    </tr>\n",
       "    <tr>\n",
       "      <th>1</th>\n",
       "      <td>Amy</td>\n",
       "      <td>1</td>\n",
       "      <td>1.0</td>\n",
       "    </tr>\n",
       "  </tbody>\n",
       "</table>\n",
       "</div>"
      ],
      "text/plain": [
       "    Name  Class    V\n",
       "0  Peter      1  9.0\n",
       "1    Amy      1  1.0"
      ]
     },
     "execution_count": 6,
     "metadata": {},
     "output_type": "execute_result"
    }
   ],
   "source": [
    "Table1.loc[(Table1.V.isna() == 0) & (Table1.Class == 1)]"
   ]
  },
  {
   "cell_type": "markdown",
   "id": "b5ca4449-3032-4ea4-aa31-66eb6f089191",
   "metadata": {},
   "source": [
    "`2` 컬럼 생성"
   ]
  },
  {
   "cell_type": "code",
   "execution_count": 7,
   "id": "bd67028d-625d-4df3-9d9d-62ec9d89576f",
   "metadata": {},
   "outputs": [
    {
     "data": {
      "text/html": [
       "<div>\n",
       "<style scoped>\n",
       "    .dataframe tbody tr th:only-of-type {\n",
       "        vertical-align: middle;\n",
       "    }\n",
       "\n",
       "    .dataframe tbody tr th {\n",
       "        vertical-align: top;\n",
       "    }\n",
       "\n",
       "    .dataframe thead th {\n",
       "        text-align: right;\n",
       "    }\n",
       "</style>\n",
       "<table border=\"1\" class=\"dataframe\">\n",
       "  <thead>\n",
       "    <tr style=\"text-align: right;\">\n",
       "      <th></th>\n",
       "      <th>Name</th>\n",
       "      <th>Class</th>\n",
       "      <th>V</th>\n",
       "      <th>V_imp</th>\n",
       "    </tr>\n",
       "  </thead>\n",
       "  <tbody>\n",
       "    <tr>\n",
       "      <th>0</th>\n",
       "      <td>Peter</td>\n",
       "      <td>1</td>\n",
       "      <td>9.0</td>\n",
       "      <td>5.0</td>\n",
       "    </tr>\n",
       "    <tr>\n",
       "      <th>1</th>\n",
       "      <td>Amy</td>\n",
       "      <td>1</td>\n",
       "      <td>1.0</td>\n",
       "      <td>5.0</td>\n",
       "    </tr>\n",
       "    <tr>\n",
       "      <th>2</th>\n",
       "      <td>James</td>\n",
       "      <td>1</td>\n",
       "      <td>NaN</td>\n",
       "      <td>5.0</td>\n",
       "    </tr>\n",
       "    <tr>\n",
       "      <th>3</th>\n",
       "      <td>Joshua</td>\n",
       "      <td>2</td>\n",
       "      <td>2.0</td>\n",
       "      <td>2.0</td>\n",
       "    </tr>\n",
       "    <tr>\n",
       "      <th>4</th>\n",
       "      <td>Sophie</td>\n",
       "      <td>2</td>\n",
       "      <td>NaN</td>\n",
       "      <td>2.0</td>\n",
       "    </tr>\n",
       "    <tr>\n",
       "      <th>5</th>\n",
       "      <td>Tom</td>\n",
       "      <td>3</td>\n",
       "      <td>4.0</td>\n",
       "      <td>4.5</td>\n",
       "    </tr>\n",
       "    <tr>\n",
       "      <th>6</th>\n",
       "      <td>Alex</td>\n",
       "      <td>3</td>\n",
       "      <td>5.0</td>\n",
       "      <td>4.5</td>\n",
       "    </tr>\n",
       "  </tbody>\n",
       "</table>\n",
       "</div>"
      ],
      "text/plain": [
       "     Name  Class    V  V_imp\n",
       "0   Peter      1  9.0    5.0\n",
       "1     Amy      1  1.0    5.0\n",
       "2   James      1  NaN    5.0\n",
       "3  Joshua      2  2.0    2.0\n",
       "4  Sophie      2  NaN    2.0\n",
       "5     Tom      3  4.0    4.5\n",
       "6    Alex      3  5.0    4.5"
      ]
     },
     "execution_count": 7,
     "metadata": {},
     "output_type": "execute_result"
    }
   ],
   "source": [
    "Table1[\"V_imp\"] = Table1.groupby(\"Class\")[[\"V\"]].transform(\"mean\")\n",
    "Table1"
   ]
  },
  {
   "cell_type": "markdown",
   "id": "6cc8a6ac-5e5d-4c7d-80e9-d5ccc90d0240",
   "metadata": {},
   "source": [
    "`3` 결측치 대체"
   ]
  },
  {
   "cell_type": "code",
   "execution_count": 8,
   "id": "ddc15c8f-4f3a-4d55-a041-5db120f09142",
   "metadata": {},
   "outputs": [
    {
     "data": {
      "text/html": [
       "<div>\n",
       "<style scoped>\n",
       "    .dataframe tbody tr th:only-of-type {\n",
       "        vertical-align: middle;\n",
       "    }\n",
       "\n",
       "    .dataframe tbody tr th {\n",
       "        vertical-align: top;\n",
       "    }\n",
       "\n",
       "    .dataframe thead th {\n",
       "        text-align: right;\n",
       "    }\n",
       "</style>\n",
       "<table border=\"1\" class=\"dataframe\">\n",
       "  <thead>\n",
       "    <tr style=\"text-align: right;\">\n",
       "      <th></th>\n",
       "      <th>Name</th>\n",
       "      <th>Class</th>\n",
       "      <th>V</th>\n",
       "      <th>V_imp</th>\n",
       "    </tr>\n",
       "  </thead>\n",
       "  <tbody>\n",
       "    <tr>\n",
       "      <th>0</th>\n",
       "      <td>Peter</td>\n",
       "      <td>1</td>\n",
       "      <td>9.0</td>\n",
       "      <td>5.0</td>\n",
       "    </tr>\n",
       "    <tr>\n",
       "      <th>1</th>\n",
       "      <td>Amy</td>\n",
       "      <td>1</td>\n",
       "      <td>1.0</td>\n",
       "      <td>5.0</td>\n",
       "    </tr>\n",
       "    <tr>\n",
       "      <th>2</th>\n",
       "      <td>James</td>\n",
       "      <td>1</td>\n",
       "      <td>5.0</td>\n",
       "      <td>5.0</td>\n",
       "    </tr>\n",
       "    <tr>\n",
       "      <th>3</th>\n",
       "      <td>Joshua</td>\n",
       "      <td>2</td>\n",
       "      <td>2.0</td>\n",
       "      <td>2.0</td>\n",
       "    </tr>\n",
       "    <tr>\n",
       "      <th>4</th>\n",
       "      <td>Sophie</td>\n",
       "      <td>2</td>\n",
       "      <td>2.0</td>\n",
       "      <td>2.0</td>\n",
       "    </tr>\n",
       "    <tr>\n",
       "      <th>5</th>\n",
       "      <td>Tom</td>\n",
       "      <td>3</td>\n",
       "      <td>4.0</td>\n",
       "      <td>4.5</td>\n",
       "    </tr>\n",
       "    <tr>\n",
       "      <th>6</th>\n",
       "      <td>Alex</td>\n",
       "      <td>3</td>\n",
       "      <td>5.0</td>\n",
       "      <td>4.5</td>\n",
       "    </tr>\n",
       "  </tbody>\n",
       "</table>\n",
       "</div>"
      ],
      "text/plain": [
       "     Name  Class    V  V_imp\n",
       "0   Peter      1  9.0    5.0\n",
       "1     Amy      1  1.0    5.0\n",
       "2   James      1  5.0    5.0\n",
       "3  Joshua      2  2.0    2.0\n",
       "4  Sophie      2  2.0    2.0\n",
       "5     Tom      3  4.0    4.5\n",
       "6    Alex      3  5.0    4.5"
      ]
     },
     "execution_count": 8,
     "metadata": {},
     "output_type": "execute_result"
    }
   ],
   "source": [
    "Table1[\"V\"] = Table1[\"V\"].fillna(Table1.V_imp)\n",
    "Table1"
   ]
  },
  {
   "cell_type": "markdown",
   "id": "db999a10-1553-4cd3-ab87-c7de3f7f83fd",
   "metadata": {},
   "source": [
    "***"
   ]
  },
  {
   "cell_type": "markdown",
   "id": "d3860e7e-364e-4874-a947-e5ec56b892a8",
   "metadata": {},
   "source": [
    "### data Visualization"
   ]
  },
  {
   "cell_type": "markdown",
   "id": "6e52d6c5-ccf6-4ab8-b8d0-26b58edd649f",
   "metadata": {},
   "source": [
    "#### R"
   ]
  },
  {
   "cell_type": "code",
   "execution_count": 1,
   "id": "23d6a2d2-ea87-4007-8699-fc50d3e8b1ca",
   "metadata": {},
   "outputs": [
    {
     "name": "stderr",
     "output_type": "stream",
     "text": [
      "-- \u001b[1mAttaching core tidyverse packages\u001b[22m ---------------------------------------------------------------- tidyverse 2.0.0 --\n",
      "\u001b[32mv\u001b[39m \u001b[34mdplyr    \u001b[39m 1.1.4     \u001b[32mv\u001b[39m \u001b[34mreadr    \u001b[39m 2.1.5\n",
      "\u001b[32mv\u001b[39m \u001b[34mforcats  \u001b[39m 1.0.0     \u001b[32mv\u001b[39m \u001b[34mstringr  \u001b[39m 1.5.0\n",
      "\u001b[32mv\u001b[39m \u001b[34mggplot2  \u001b[39m 3.4.2     \u001b[32mv\u001b[39m \u001b[34mtibble   \u001b[39m 3.2.1\n",
      "\u001b[32mv\u001b[39m \u001b[34mlubridate\u001b[39m 1.9.3     \u001b[32mv\u001b[39m \u001b[34mtidyr    \u001b[39m 1.3.1\n",
      "\u001b[32mv\u001b[39m \u001b[34mpurrr    \u001b[39m 1.0.2     \n",
      "-- \u001b[1mConflicts\u001b[22m ---------------------------------------------------------------------------------- tidyverse_conflicts() --\n",
      "\u001b[31mx\u001b[39m \u001b[34mdplyr\u001b[39m::\u001b[32mfilter()\u001b[39m masks \u001b[34mstats\u001b[39m::filter()\n",
      "\u001b[31mx\u001b[39m \u001b[34mdplyr\u001b[39m::\u001b[32mlag()\u001b[39m    masks \u001b[34mstats\u001b[39m::lag()\n",
      "\u001b[36mi\u001b[39m Use the conflicted package (\u001b[3m\u001b[34m<http://conflicted.r-lib.org/>\u001b[39m\u001b[23m) to force all conflicts to become errors\n"
     ]
    }
   ],
   "source": [
    "library(tidyverse)"
   ]
  },
  {
   "cell_type": "code",
   "execution_count": 2,
   "id": "161d9999-02a4-4b20-b784-244141487bc8",
   "metadata": {},
   "outputs": [
    {
     "data": {
      "text/html": [
       "<table class=\"dataframe\">\n",
       "<caption>A tibble: 6 × 11</caption>\n",
       "<thead>\n",
       "\t<tr><th scope=col>manufacturer</th><th scope=col>model</th><th scope=col>displ</th><th scope=col>year</th><th scope=col>cyl</th><th scope=col>trans</th><th scope=col>drv</th><th scope=col>cty</th><th scope=col>hwy</th><th scope=col>fl</th><th scope=col>class</th></tr>\n",
       "\t<tr><th scope=col>&lt;chr&gt;</th><th scope=col>&lt;chr&gt;</th><th scope=col>&lt;dbl&gt;</th><th scope=col>&lt;int&gt;</th><th scope=col>&lt;int&gt;</th><th scope=col>&lt;chr&gt;</th><th scope=col>&lt;chr&gt;</th><th scope=col>&lt;int&gt;</th><th scope=col>&lt;int&gt;</th><th scope=col>&lt;chr&gt;</th><th scope=col>&lt;chr&gt;</th></tr>\n",
       "</thead>\n",
       "<tbody>\n",
       "\t<tr><td>audi</td><td>a4</td><td>1.8</td><td>1999</td><td>4</td><td>auto(l5)  </td><td>f</td><td>18</td><td>29</td><td>p</td><td>compact</td></tr>\n",
       "\t<tr><td>audi</td><td>a4</td><td>1.8</td><td>1999</td><td>4</td><td>manual(m5)</td><td>f</td><td>21</td><td>29</td><td>p</td><td>compact</td></tr>\n",
       "\t<tr><td>audi</td><td>a4</td><td>2.0</td><td>2008</td><td>4</td><td>manual(m6)</td><td>f</td><td>20</td><td>31</td><td>p</td><td>compact</td></tr>\n",
       "\t<tr><td>audi</td><td>a4</td><td>2.0</td><td>2008</td><td>4</td><td>auto(av)  </td><td>f</td><td>21</td><td>30</td><td>p</td><td>compact</td></tr>\n",
       "\t<tr><td>audi</td><td>a4</td><td>2.8</td><td>1999</td><td>6</td><td>auto(l5)  </td><td>f</td><td>16</td><td>26</td><td>p</td><td>compact</td></tr>\n",
       "\t<tr><td>audi</td><td>a4</td><td>2.8</td><td>1999</td><td>6</td><td>manual(m5)</td><td>f</td><td>18</td><td>26</td><td>p</td><td>compact</td></tr>\n",
       "</tbody>\n",
       "</table>\n"
      ],
      "text/latex": [
       "A tibble: 6 × 11\n",
       "\\begin{tabular}{lllllllllll}\n",
       " manufacturer & model & displ & year & cyl & trans & drv & cty & hwy & fl & class\\\\\n",
       " <chr> & <chr> & <dbl> & <int> & <int> & <chr> & <chr> & <int> & <int> & <chr> & <chr>\\\\\n",
       "\\hline\n",
       "\t audi & a4 & 1.8 & 1999 & 4 & auto(l5)   & f & 18 & 29 & p & compact\\\\\n",
       "\t audi & a4 & 1.8 & 1999 & 4 & manual(m5) & f & 21 & 29 & p & compact\\\\\n",
       "\t audi & a4 & 2.0 & 2008 & 4 & manual(m6) & f & 20 & 31 & p & compact\\\\\n",
       "\t audi & a4 & 2.0 & 2008 & 4 & auto(av)   & f & 21 & 30 & p & compact\\\\\n",
       "\t audi & a4 & 2.8 & 1999 & 6 & auto(l5)   & f & 16 & 26 & p & compact\\\\\n",
       "\t audi & a4 & 2.8 & 1999 & 6 & manual(m5) & f & 18 & 26 & p & compact\\\\\n",
       "\\end{tabular}\n"
      ],
      "text/markdown": [
       "\n",
       "A tibble: 6 × 11\n",
       "\n",
       "| manufacturer &lt;chr&gt; | model &lt;chr&gt; | displ &lt;dbl&gt; | year &lt;int&gt; | cyl &lt;int&gt; | trans &lt;chr&gt; | drv &lt;chr&gt; | cty &lt;int&gt; | hwy &lt;int&gt; | fl &lt;chr&gt; | class &lt;chr&gt; |\n",
       "|---|---|---|---|---|---|---|---|---|---|---|\n",
       "| audi | a4 | 1.8 | 1999 | 4 | auto(l5)   | f | 18 | 29 | p | compact |\n",
       "| audi | a4 | 1.8 | 1999 | 4 | manual(m5) | f | 21 | 29 | p | compact |\n",
       "| audi | a4 | 2.0 | 2008 | 4 | manual(m6) | f | 20 | 31 | p | compact |\n",
       "| audi | a4 | 2.0 | 2008 | 4 | auto(av)   | f | 21 | 30 | p | compact |\n",
       "| audi | a4 | 2.8 | 1999 | 6 | auto(l5)   | f | 16 | 26 | p | compact |\n",
       "| audi | a4 | 2.8 | 1999 | 6 | manual(m5) | f | 18 | 26 | p | compact |\n",
       "\n"
      ],
      "text/plain": [
       "  manufacturer model displ year cyl trans      drv cty hwy fl class  \n",
       "1 audi         a4    1.8   1999 4   auto(l5)   f   18  29  p  compact\n",
       "2 audi         a4    1.8   1999 4   manual(m5) f   21  29  p  compact\n",
       "3 audi         a4    2.0   2008 4   manual(m6) f   20  31  p  compact\n",
       "4 audi         a4    2.0   2008 4   auto(av)   f   21  30  p  compact\n",
       "5 audi         a4    2.8   1999 6   auto(l5)   f   16  26  p  compact\n",
       "6 audi         a4    2.8   1999 6   manual(m5) f   18  26  p  compact"
      ]
     },
     "metadata": {},
     "output_type": "display_data"
    }
   ],
   "source": [
    "head(mpg)"
   ]
  },
  {
   "cell_type": "code",
   "execution_count": 3,
   "id": "131b6fbc-5a60-436e-95c5-c992cba25fc4",
   "metadata": {},
   "outputs": [],
   "source": [
    "write_csv(mpg, \"mpg.csv\")"
   ]
  },
  {
   "cell_type": "code",
   "execution_count": 6,
   "id": "3929be7c-3fd0-4840-a554-ec2effbf149c",
   "metadata": {},
   "outputs": [
    {
     "data": {
      "image/png": "[encoded data removed]",
      "text/plain": [
       "plot without title"
      ]
     },
     "metadata": {
      "image/png": {
       "height": 420,
       "width": 480
      }
     },
     "output_type": "display_data"
    }
   ],
   "source": [
    "options(repr.plot.height = 7, repr.plot.width = 8)\n",
    "mpg %>% \n",
    "    ggplot(aes(x = manufacturer, y = cty))  +\n",
    "        geom_boxplot() +\n",
    "        theme(axis.text.x = element_text(angle = 65,  vjust = 0.6)) + ## vjust는 x축 개체명 위치 +\n",
    "        labs(title = \"Box plot\", \n",
    "             subtitle = \"City Mileage vs Class\",\n",
    "             caption = \"Source : mpg\",\n",
    "             x = \"Class of Vehicle\", \n",
    "             y = \"City Mileage\") "
   ]
  },
  {
   "cell_type": "markdown",
   "id": "1124066a-6c31-45d1-a1a3-b549630ea0d6",
   "metadata": {},
   "source": [
    "#### python"
   ]
  },
  {
   "cell_type": "code",
   "execution_count": 2,
   "id": "52d409e1-cdf9-48c0-a807-d52dfea03a03",
   "metadata": {},
   "outputs": [],
   "source": [
    "#!pip install plotnine"
   ]
  },
  {
   "cell_type": "code",
   "execution_count": 3,
   "id": "e0d4868e-50c3-46a9-8275-ad5c670cdaaa",
   "metadata": {},
   "outputs": [],
   "source": [
    "import pandas as pd\n",
    "from plotnine import *"
   ]
  },
  {
   "cell_type": "code",
   "execution_count": 4,
   "id": "31b3a320-80d5-4447-833c-5be8509bbd03",
   "metadata": {},
   "outputs": [],
   "source": [
    "mpg = pd.read_csv(\"mpg.csv\")"
   ]
  },
  {
   "cell_type": "code",
   "execution_count": 5,
   "id": "e37b0fbc-0739-4254-abdc-db4e83a9f80e",
   "metadata": {},
   "outputs": [
    {
     "data": {
      "image/png": "[encoded data removed]"
     },
     "metadata": {
      "image/png": {
       "height": 480,
       "width": 640
      }
     },
     "output_type": "display_data"
    }
   ],
   "source": [
    "(\n",
    "    ggplot(mpg, aes(x = \"manufacturer\", y = \"cty\"))\\\n",
    "        + geom_boxplot()\\\n",
    "        + theme(axis_text_x = element_text(angle = 65))\\\n",
    "        + labs(title = \"Box plot\", \n",
    "             subtitle = \"City Mileage vs Class\",\n",
    "             caption = \"Source : mpg\",\n",
    "             x = \"Class of Vehicle\", \n",
    "             y = \"City Mileage\") \n",
    ")"
   ]
  },
  {
   "cell_type": "markdown",
   "id": "0f5f6934-151d-4bc2-a4b2-dd49ecbc016b",
   "metadata": {},
   "source": [
    "***"
   ]
  },
  {
   "cell_type": "markdown",
   "id": "7844b9b2-7645-4621-9c4f-7d9563ae8fe1",
   "metadata": {},
   "source": [
    "# Statistical Modeling"
   ]
  },
  {
   "cell_type": "markdown",
   "id": "324a8a30-0573-4c00-836e-5841c2d67cd4",
   "metadata": {},
   "source": [
    "## Supervised Learning"
   ]
  },
  {
   "cell_type": "markdown",
   "id": "7b3866b5-a66e-4bfa-9392-db5d85bfefd9",
   "metadata": {},
   "source": [
    "`1` 설명변수 $X = (x_1,x_2,\\dots x_p)$로 부터 target변수인 $Y$를 예측하는 것!"
   ]
  },
  {
   "cell_type": "markdown",
   "id": "a3af7939-4143-4ae5-b3e7-5879e934a74a",
   "metadata": {},
   "source": [
    "$$y \\approx \\beta_1x + \\beta_0$$"
   ]
  },
  {
   "cell_type": "markdown",
   "id": "02cacce3-dd8b-4000-8357-9940d1e974d4",
   "metadata": {},
   "source": [
    "`2` 가장 중요한 개념!"
   ]
  },
  {
   "cell_type": "markdown",
   "id": "93678ada-83aa-408a-9d02-22808dfaba2f",
   "metadata": {},
   "source": [
    "$$\\text{총 제곱합} = \\text{회귀제곱합} + \\text{잔차제곱합}$$"
   ]
  },
  {
   "cell_type": "markdown",
   "id": "88095d3c-db67-4a0f-a385-e433126835e3",
   "metadata": {},
   "source": [
    "$$\\sum{(y-\\bar y)}^2 = \\sum{(\\hat y - \\bar y)}^2 + \\sum{( y - \\hat y)}^2 $$"
   ]
  },
  {
   "cell_type": "markdown",
   "id": "feb88536-e1cd-49d6-9574-deacf1b9b3bd",
   "metadata": {},
   "source": [
    "$$\\text{SST} = \\text{SSR} + \\text{SSE}$$"
   ]
  },
  {
   "cell_type": "markdown",
   "id": "78152e8d-9b52-460d-ae7a-32bba90d137c",
   "metadata": {},
   "source": [
    "`3` 일반적으로 $\\text{SSR}$ `회귀식으로 설명할 수 있는 변동`이라고 하며, 회귀분석 시 가장 관심있는 부분이다."
   ]
  },
  {
   "cell_type": "markdown",
   "id": "417b9e4c-d4fb-4312-93b0-9edbb01d4290",
   "metadata": {},
   "source": [
    "`4` 총 제곱합 $\\text{SST}$는 변하지 않는 값이므로, `SSR`이 커지면 `SSE`즉, 예측값과 실제값의 차이는 줄어들게 된다."
   ]
  },
  {
   "cell_type": "markdown",
   "id": "274ed9ff-928f-4caa-b5e3-eed960b3515f",
   "metadata": {},
   "source": [
    "`5` 이는, 주어진 데이터로부터 우리가 적합한 회귀직선이 어떤 현상을 잘 설명하고 있다고 볼 수 있다."
   ]
  },
  {
   "cell_type": "markdown",
   "id": "a108186e-adc9-48f4-b257-debfefcaa0ff",
   "metadata": {},
   "source": [
    "`6` 그러면, 회귀모형 적합 후, 우리는 무엇을 검토해야 하나?"
   ]
  },
  {
   "cell_type": "markdown",
   "id": "9dd0f596-629d-4669-8fee-dccde72685b9",
   "metadata": {},
   "source": [
    "* 모형 내의 개별 회귀계수에 대한 검정(`t통계량, p-value확인`)\n",
    "\n",
    "$$H_0 : \\beta_1 =0 \\quad\\text{ vs } \\quad H_1  : \\text{not } H_0$$\n",
    "\n",
    "* 모형에 설명력인 결정계수 값 $R^2$값 확인, 설명변수의 수가 많아질 경우 $adj-R^2$값을 확인"
   ]
  },
  {
   "cell_type": "markdown",
   "id": "f07798cb-648f-4ac6-bca9-a3d8acb958c7",
   "metadata": {},
   "source": [
    "$$R^2 = \\frac{SSR}{SST} = \\frac{1-SSE}{SST}$$"
   ]
  },
  {
   "cell_type": "markdown",
   "id": "6b872233-6f88-4ef0-9e7f-429f3ec7809d",
   "metadata": {},
   "source": [
    "$$R^2_{adj} = \\frac{SSR\\,/\\,(n-(p+1))}{SST\\,/\\,(n-1)} $$"
   ]
  },
  {
   "cell_type": "markdown",
   "id": "fddaf860-01ab-4d93-81f2-b38d148b797f",
   "metadata": {},
   "source": [
    "* 회귀모형이 통계적을 유의한가?(`F-통계량, p-value확인`)"
   ]
  },
  {
   "cell_type": "markdown",
   "id": "b587c5ab-8832-4635-add0-7c2bc601d72e",
   "metadata": {},
   "source": [
    "$$H_0 : \\beta_1 = \\beta_2 = \\beta_3 = \\dots 0 \\quad\\text{ vs } \\quad H_1  : \\text{not } H_0$$"
   ]
  },
  {
   "cell_type": "markdown",
   "id": "31945d11-6fe7-49f0-b019-d97ff57dadc9",
   "metadata": {},
   "source": [
    "* 잔차 plot을 통한 모형 진단"
   ]
  },
  {
   "cell_type": "markdown",
   "id": "04ed7b85-2328-4c19-ac86-c6b5c4b98078",
   "metadata": {},
   "source": [
    "### ex1. cars(Simple Linear regression)"
   ]
  },
  {
   "cell_type": "code",
   "execution_count": 2,
   "id": "5f4e58de-a559-41b9-bc3c-b2d7f0b3cfcc",
   "metadata": {},
   "outputs": [
    {
     "name": "stderr",
     "output_type": "stream",
     "text": [
      "-- \u001b[1mAttaching core tidyverse packages\u001b[22m ---------------------------------------------------------------- tidyverse 2.0.0 --\n",
      "\u001b[32mv\u001b[39m \u001b[34mdplyr    \u001b[39m 1.1.4     \u001b[32mv\u001b[39m \u001b[34mreadr    \u001b[39m 2.1.5\n",
      "\u001b[32mv\u001b[39m \u001b[34mforcats  \u001b[39m 1.0.0     \u001b[32mv\u001b[39m \u001b[34mstringr  \u001b[39m 1.5.0\n",
      "\u001b[32mv\u001b[39m \u001b[34mggplot2  \u001b[39m 3.4.2     \u001b[32mv\u001b[39m \u001b[34mtibble   \u001b[39m 3.2.1\n",
      "\u001b[32mv\u001b[39m \u001b[34mlubridate\u001b[39m 1.9.3     \u001b[32mv\u001b[39m \u001b[34mtidyr    \u001b[39m 1.3.1\n",
      "\u001b[32mv\u001b[39m \u001b[34mpurrr    \u001b[39m 1.0.2     \n",
      "-- \u001b[1mConflicts\u001b[22m ---------------------------------------------------------------------------------- tidyverse_conflicts() --\n",
      "\u001b[31mx\u001b[39m \u001b[34mdplyr\u001b[39m::\u001b[32mfilter()\u001b[39m masks \u001b[34mstats\u001b[39m::filter()\n",
      "\u001b[31mx\u001b[39m \u001b[34mdplyr\u001b[39m::\u001b[32mlag()\u001b[39m    masks \u001b[34mstats\u001b[39m::lag()\n",
      "\u001b[36mi\u001b[39m Use the conflicted package (\u001b[3m\u001b[34m<http://conflicted.r-lib.org/>\u001b[39m\u001b[23m) to force all conflicts to become errors\n"
     ]
    }
   ],
   "source": [
    "library(tidyverse)"
   ]
  },
  {
   "cell_type": "code",
   "execution_count": 3,
   "id": "1b3f2864-e767-41f4-b474-e6eed2a8a9b1",
   "metadata": {},
   "outputs": [
    {
     "data": {
      "text/html": [
       "<table class=\"dataframe\">\n",
       "<caption>A data.frame: 6 × 2</caption>\n",
       "<thead>\n",
       "\t<tr><th></th><th scope=col>speed</th><th scope=col>dist</th></tr>\n",
       "\t<tr><th></th><th scope=col>&lt;dbl&gt;</th><th scope=col>&lt;dbl&gt;</th></tr>\n",
       "</thead>\n",
       "<tbody>\n",
       "\t<tr><th scope=row>1</th><td>4</td><td> 2</td></tr>\n",
       "\t<tr><th scope=row>2</th><td>4</td><td>10</td></tr>\n",
       "\t<tr><th scope=row>3</th><td>7</td><td> 4</td></tr>\n",
       "\t<tr><th scope=row>4</th><td>7</td><td>22</td></tr>\n",
       "\t<tr><th scope=row>5</th><td>8</td><td>16</td></tr>\n",
       "\t<tr><th scope=row>6</th><td>9</td><td>10</td></tr>\n",
       "</tbody>\n",
       "</table>\n"
      ],
      "text/latex": [
       "A data.frame: 6 × 2\n",
       "\\begin{tabular}{r|ll}\n",
       "  & speed & dist\\\\\n",
       "  & <dbl> & <dbl>\\\\\n",
       "\\hline\n",
       "\t1 & 4 &  2\\\\\n",
       "\t2 & 4 & 10\\\\\n",
       "\t3 & 7 &  4\\\\\n",
       "\t4 & 7 & 22\\\\\n",
       "\t5 & 8 & 16\\\\\n",
       "\t6 & 9 & 10\\\\\n",
       "\\end{tabular}\n"
      ],
      "text/markdown": [
       "\n",
       "A data.frame: 6 × 2\n",
       "\n",
       "| <!--/--> | speed &lt;dbl&gt; | dist &lt;dbl&gt; |\n",
       "|---|---|---|\n",
       "| 1 | 4 |  2 |\n",
       "| 2 | 4 | 10 |\n",
       "| 3 | 7 |  4 |\n",
       "| 4 | 7 | 22 |\n",
       "| 5 | 8 | 16 |\n",
       "| 6 | 9 | 10 |\n",
       "\n"
      ],
      "text/plain": [
       "  speed dist\n",
       "1 4      2  \n",
       "2 4     10  \n",
       "3 7      4  \n",
       "4 7     22  \n",
       "5 8     16  \n",
       "6 9     10  "
      ]
     },
     "metadata": {},
     "output_type": "display_data"
    }
   ],
   "source": [
    "head(cars)"
   ]
  },
  {
   "cell_type": "markdown",
   "id": "a5ba4b53-e8d1-4c5e-ac8f-612361c8e9a8",
   "metadata": {},
   "source": [
    "`-` 우리는 주어진 데이터로부터 아래왜 같은 현상을 예측하고 싶음"
   ]
  },
  {
   "cell_type": "markdown",
   "id": "27dd9a79-c959-4516-a541-70e4a45bbda2",
   "metadata": {},
   "source": [
    "$$\\text{dist} = \\beta_1\\times\\text{speed} + \\beta_0$$"
   ]
  },
  {
   "cell_type": "markdown",
   "id": "377b7beb-8480-4c95-b93e-133462f446e6",
   "metadata": {},
   "source": [
    "`-` 즉, 속력에 따른 거리를 예측하기 위한 $\\beta_1, \\beta_0$를 추정! $\\to$ $(\\hat{\\beta_1}, \\hat{\\beta_0})$\n",
    "\n",
    "`-` 일반적으로, 알려진 단순선형회귀분석에서의 $(\\hat{\\beta_1}, \\hat{\\beta_0})$을 구하는 방법!\n",
    "\n",
    "$$\\hat {\\beta_0} = \\bar y - \\hat {\\beta_1}\\bar x$$\n",
    "\n",
    "$$\\hat {\\beta_1} = \\frac{S_{xy}}{S_{xx}} = \\frac{\\sum(x-\\bar x)(y-\\bar y)}{\\sum(x-\\bar x)^2}$$"
   ]
  },
  {
   "cell_type": "markdown",
   "id": "b595aba6-e6e0-4c7d-a7e5-245141e4735c",
   "metadata": {},
   "source": [
    "`-` 공식유도법(나중에 시간되면 한번 풀어보세요!)"
   ]
  },
  {
   "cell_type": "markdown",
   "id": "f80b880e-2678-4789-828f-b5c7ad9711c4",
   "metadata": {},
   "source": [
    "<center><img src = \"1-2.png\" width = 600></center>"
   ]
  },
  {
   "cell_type": "markdown",
   "id": "30d31b55-842e-4309-b77d-2d9c53ce8848",
   "metadata": {},
   "source": [
    "`-` 실제로 저렇게 계산한 값과 R에서 회귀분석을 적합한 값이 일치한지 확인해보자"
   ]
  },
  {
   "cell_type": "code",
   "execution_count": 4,
   "id": "d4e1d42e-559a-4d19-a042-9fccebd6a420",
   "metadata": {},
   "outputs": [],
   "source": [
    "x = cars$speed\n",
    "y = cars$dist"
   ]
  },
  {
   "cell_type": "code",
   "execution_count": 5,
   "id": "4c95e135-3578-4bde-9de9-54387371b644",
   "metadata": {},
   "outputs": [],
   "source": [
    "bar_y = mean(y)\n",
    "bar_x = mean(x)\n",
    "\n",
    "beta_1 = sum((x-bar_x)*(y-bar_y))/(sum((x-bar_x)^2))\n",
    "\n",
    "beta_0 = bar_y - beta_1*bar_x"
   ]
  },
  {
   "cell_type": "code",
   "execution_count": 6,
   "id": "f38ff52d-51d0-419f-b009-7e2855edbb36",
   "metadata": {},
   "outputs": [
    {
     "data": {
      "text/html": [
       "3.93240875912409"
      ],
      "text/latex": [
       "3.93240875912409"
      ],
      "text/markdown": [
       "3.93240875912409"
      ],
      "text/plain": [
       "[1] 3.932409"
      ]
     },
     "metadata": {},
     "output_type": "display_data"
    }
   ],
   "source": [
    "beta_1"
   ]
  },
  {
   "cell_type": "code",
   "execution_count": 7,
   "id": "21fbe1c4-c01b-4570-a322-19c7961553e9",
   "metadata": {},
   "outputs": [
    {
     "data": {
      "text/html": [
       "-17.579094890511"
      ],
      "text/latex": [
       "-17.579094890511"
      ],
      "text/markdown": [
       "-17.579094890511"
      ],
      "text/plain": [
       "[1] -17.57909"
      ]
     },
     "metadata": {},
     "output_type": "display_data"
    }
   ],
   "source": [
    "beta_0"
   ]
  },
  {
   "cell_type": "markdown",
   "id": "fd31a3e3-80af-41f4-895a-3cc6ec197d16",
   "metadata": {},
   "source": [
    "`-` 즉, 이론상으로 속도에 따른 거리는 다음과 같이 설명할 수 있다"
   ]
  },
  {
   "cell_type": "markdown",
   "id": "efe3ec71-d41b-4fe0-bcb0-0369179e00c3",
   "metadata": {},
   "source": [
    "$$\\text{dist} \\approx  3.9324 \\times \\text{spped} -17.579... $$"
   ]
  },
  {
   "cell_type": "code",
   "execution_count": 8,
   "id": "80045c4c-100c-4765-98d6-151d176942c6",
   "metadata": {},
   "outputs": [],
   "source": [
    "lm1 = lm(y~x)"
   ]
  },
  {
   "cell_type": "code",
   "execution_count": 9,
   "id": "5fdbf58d-b88a-4aa8-a54a-0953a1de2f3f",
   "metadata": {},
   "outputs": [
    {
     "data": {
      "text/plain": [
       "\n",
       "Call:\n",
       "lm(formula = y ~ x)\n",
       "\n",
       "Coefficients:\n",
       "(Intercept)            x  \n",
       "    -17.579        3.932  \n"
      ]
     },
     "metadata": {},
     "output_type": "display_data"
    }
   ],
   "source": [
    "lm1"
   ]
  },
  {
   "cell_type": "markdown",
   "id": "282e2178-f15c-4021-a3a9-f7ba3f9ed1a0",
   "metadata": {},
   "source": [
    "`-` 결과해석"
   ]
  },
  {
   "cell_type": "code",
   "execution_count": 10,
   "id": "7e0b7e57-a659-45d1-b938-0e213d14778a",
   "metadata": {},
   "outputs": [
    {
     "data": {
      "text/html": [
       "89.567296"
      ],
      "text/latex": [
       "89.567296"
      ],
      "text/markdown": [
       "89.567296"
      ],
      "text/plain": [
       "[1] 89.5673"
      ]
     },
     "metadata": {},
     "output_type": "display_data"
    }
   ],
   "source": [
    "9.464^2"
   ]
  },
  {
   "cell_type": "code",
   "execution_count": 11,
   "id": "1273a238-714e-4b58-a771-c9be6507196b",
   "metadata": {},
   "outputs": [
    {
     "data": {
      "text/plain": [
       "\n",
       "Call:\n",
       "lm(formula = y ~ x)\n",
       "\n",
       "Residuals:\n",
       "    Min      1Q  Median      3Q     Max \n",
       "-29.069  -9.525  -2.272   9.215  43.201 \n",
       "\n",
       "Coefficients:\n",
       "            Estimate Std. Error t value Pr(>|t|)    \n",
       "(Intercept) -17.5791     6.7584  -2.601   0.0123 *  \n",
       "x             3.9324     0.4155   9.464 1.49e-12 ***\n",
       "---\n",
       "Signif. codes:  0 '***' 0.001 '**' 0.01 '*' 0.05 '.' 0.1 ' ' 1\n",
       "\n",
       "Residual standard error: 15.38 on 48 degrees of freedom\n",
       "Multiple R-squared:  0.6511,\tAdjusted R-squared:  0.6438 \n",
       "F-statistic: 89.57 on 1 and 48 DF,  p-value: 1.49e-12\n"
      ]
     },
     "metadata": {},
     "output_type": "display_data"
    }
   ],
   "source": [
    "summary(lm1)"
   ]
  },
  {
   "cell_type": "markdown",
   "id": "74f261bc-d4c2-4d81-b375-987d9dbdb9f8",
   "metadata": {},
   "source": [
    "* Residuals : 실제값과 예측값의 차이"
   ]
  },
  {
   "cell_type": "markdown",
   "id": "e1714f40-4924-4078-a01a-e7bd1910ac2b",
   "metadata": {},
   "source": [
    "$$\\varepsilon_i = \\hat{y_i} - y_i, \\quad \\varepsilon_i \\sim N(0, \\sigma^2)$$"
   ]
  },
  {
   "cell_type": "markdown",
   "id": "1c943408-6175-4d05-8162-a0dc76a798ff",
   "metadata": {},
   "source": [
    "* 잔차 제곱합은 다음과 같이 표현한다."
   ]
  },
  {
   "cell_type": "markdown",
   "id": "e10e672d-bb39-438a-addf-7a4fea14c773",
   "metadata": {},
   "source": [
    "$$SSE =  \\sum_{i=1}^{n} \\varepsilon^2$$"
   ]
  },
  {
   "cell_type": "code",
   "execution_count": 16,
   "id": "74728d3f-94f5-4716-a6c4-9bed6231c8fe",
   "metadata": {},
   "outputs": [
    {
     "data": {
      "image/png": "[encoded data removed]",
      "text/plain": [
       "Plot with title \"잔차 plot\""
      ]
     },
     "metadata": {
      "image/png": {
       "height": 300,
       "width": 480
      }
     },
     "output_type": "display_data"
    }
   ],
   "source": [
    "options(repr.plot.width = 8, repr.plot.height = 5)\n",
    "plot(y - lm1$fitted.values,main = \"잔차 plot\")"
   ]
  },
  {
   "cell_type": "code",
   "execution_count": 17,
   "id": "90e1c096-ac2b-42d4-aa2a-d5c3b3390926",
   "metadata": {},
   "outputs": [
    {
     "data": {
      "image/png": "[encoded data removed]",
      "text/plain": [
       "Plot with title \"\""
      ]
     },
     "metadata": {
      "image/png": {
       "height": 300,
       "width": 480
      }
     },
     "output_type": "display_data"
    }
   ],
   "source": [
    "plot(lm1,1)"
   ]
  },
  {
   "cell_type": "markdown",
   "id": "8732fa12-932e-4e78-a973-e9dddafc67f5",
   "metadata": {},
   "source": [
    "* extra. subplots 그리는법"
   ]
  },
  {
   "cell_type": "code",
   "execution_count": 19,
   "id": "3f45d589-643b-4d35-aef0-993ae3dc963a",
   "metadata": {},
   "outputs": [
    {
     "data": {
      "image/png": "[encoded data removed]",
      "text/plain": [
       "Plot with title \"\""
      ]
     },
     "metadata": {
      "image/png": {
       "height": 240,
       "width": 720
      }
     },
     "output_type": "display_data"
    }
   ],
   "source": [
    "options(repr.plot.width = 12, repr.plot.height = 4)\n",
    "par(mfrow = c(1,2))\n",
    "plot(y - lm1$fitted.values,main = \"잔차 plot\")\n",
    "plot(lm1,1)"
   ]
  },
  {
   "cell_type": "markdown",
   "id": "0b0bcf50-36ab-472e-b069-ad7dde686fe0",
   "metadata": {},
   "source": [
    "* p-value? 검정통계량의 근거하여 적합한 모형의 유의미성을 검증하는 척도 "
   ]
  },
  {
   "cell_type": "code",
   "execution_count": 20,
   "id": "83468767-9fcb-48bd-a6cc-1c41d7ceaeff",
   "metadata": {},
   "outputs": [
    {
     "data": {
      "text/plain": [
       "\n",
       "Call:\n",
       "lm(formula = y ~ x)\n",
       "\n",
       "Residuals:\n",
       "    Min      1Q  Median      3Q     Max \n",
       "-29.069  -9.525  -2.272   9.215  43.201 \n",
       "\n",
       "Coefficients:\n",
       "            Estimate Std. Error t value Pr(>|t|)    \n",
       "(Intercept) -17.5791     6.7584  -2.601   0.0123 *  \n",
       "x             3.9324     0.4155   9.464 1.49e-12 ***\n",
       "---\n",
       "Signif. codes:  0 '***' 0.001 '**' 0.01 '*' 0.05 '.' 0.1 ' ' 1\n",
       "\n",
       "Residual standard error: 15.38 on 48 degrees of freedom\n",
       "Multiple R-squared:  0.6511,\tAdjusted R-squared:  0.6438 \n",
       "F-statistic: 89.57 on 1 and 48 DF,  p-value: 1.49e-12\n"
      ]
     },
     "metadata": {},
     "output_type": "display_data"
    }
   ],
   "source": [
    "summary(lm1)"
   ]
  },
  {
   "cell_type": "markdown",
   "id": "49cb4f19-947f-499a-baaa-caa1f1e4fa61",
   "metadata": {},
   "source": [
    "#### 결과해석"
   ]
  },
  {
   "cell_type": "markdown",
   "id": "dbe0a6d5-0464-4588-bc78-2167f495112d",
   "metadata": {},
   "source": [
    "`1` 추정된 회귀계수 $\\hat{\\beta_1},\\hat{\\beta_0}$는 t-검정통계량의 근거한 p-value값을 보았을 때 0.05보다 작아 통계적으로 유의하다."
   ]
  },
  {
   "cell_type": "markdown",
   "id": "ce88c8a5-3ea4-4726-9eeb-d5f7b57b463e",
   "metadata": {},
   "source": [
    "`2` 결정계수값을 살펴본 결과 적합한 모형은 65% 정도의 설명력을 가지고 있다."
   ]
  },
  {
   "cell_type": "markdown",
   "id": "9b0bb44e-eae0-43fb-89f6-8fe0bbf0c2c8",
   "metadata": {},
   "source": [
    "`3` 또한, `F-통계량`의 근거한 `p-value`값을 보아도 생성된 모델은 통계적으로 유의하다."
   ]
  },
  {
   "cell_type": "markdown",
   "id": "2054dbb3-7179-45cf-8c2f-b5a9f001c23a",
   "metadata": {},
   "source": [
    "`4` 잔차 plot을 그려본 결과 오차항의 정규성과 독립성 가정에 위배되지 않았음"
   ]
  },
  {
   "cell_type": "code",
   "execution_count": 21,
   "id": "7581127e-f259-45a3-9ef7-a5ccdd06433f",
   "metadata": {},
   "outputs": [
    {
     "data": {
      "image/png": "[encoded data removed]",
      "text/plain": [
       "Plot with title \"\""
      ]
     },
     "metadata": {
      "image/png": {
       "height": 240,
       "width": 720
      }
     },
     "output_type": "display_data"
    }
   ],
   "source": [
    "par(mfrow=c(1,2))\n",
    "plot(lm1,1);plot(lm1,2)"
   ]
  },
  {
   "cell_type": "markdown",
   "id": "95c6954d-9a46-441b-8c25-122ae6409f79",
   "metadata": {},
   "source": [
    "`5` 따라서, 우리가 적합한 모델은 속도에 따른 자동차의 주행거리를 설명하기에 적합한 모형이라고 할 수 있다."
   ]
  },
  {
   "cell_type": "markdown",
   "id": "57a3cddf-0312-46f9-a742-4f294c7e56ff",
   "metadata": {},
   "source": [
    "***"
   ]
  },
  {
   "cell_type": "markdown",
   "id": "0717fa4e-6199-4191-aa94-34d3747c4675",
   "metadata": {},
   "source": [
    "### ex2. adult(logistic)"
   ]
  },
  {
   "cell_type": "markdown",
   "id": "46afaa04-513f-45ae-9c12-4a6c475ac66e",
   "metadata": {},
   "source": [
    "`-` 로지스틱 모형은 target 변수인 $y$에 대한 직접적 모형화가 아닌 $y$가 특정 범주에 포함될 확률을 모형화한다."
   ]
  },
  {
   "cell_type": "markdown",
   "id": "569c1d78-a3d2-47f6-8e19-c5d650fdd416",
   "metadata": {},
   "source": [
    "`-` 임계치(threshole)를 정하고 어떤 범주에 포함될 확률이 임계치보다 높으면 0 or 1로 예측하는 분류 모형이다. (이진분류에서!)"
   ]
  },
  {
   "cell_type": "markdown",
   "id": "37e423e3-d713-4c17-840a-bf2f02a9dbc9",
   "metadata": {},
   "source": [
    "#### 모형 유도"
   ]
  },
  {
   "cell_type": "markdown",
   "id": "0d349906-ccb0-46e4-affa-13e6ad57688f",
   "metadata": {},
   "source": [
    "step1 : 0과 1사이의 값으로 예측해 주는 모형 설계"
   ]
  },
  {
   "cell_type": "markdown",
   "id": "a7798d52-edc0-4700-8628-99698ca78927",
   "metadata": {},
   "source": [
    "$$P(X) = \\frac{exp(\\beta_0+\\beta_1X)}{1+exp(\\beta_0+\\beta_1X)}, \\quad \\in (0,1)$$"
   ]
  },
  {
   "cell_type": "markdown",
   "id": "11ef1bb2-6044-4dbc-b4a3-618169f274c4",
   "metadata": {},
   "source": [
    "step2. odds, 배팅을 하는 분야에서 확률 대신 많이 쓰이는 측도"
   ]
  },
  {
   "cell_type": "markdown",
   "id": "052bf107-d658-4b0d-ab71-e0519e087dc6",
   "metadata": {},
   "source": [
    "$$\\text{odds} = \\frac{P(X)}{1-P(x)}= {exp(\\beta_0 + \\beta_1X)}, \\quad \\in(0, \\infty)$$"
   ]
  },
  {
   "cell_type": "markdown",
   "id": "cbe1fd1a-4138-49e8-86e8-cb25a7bf6032",
   "metadata": {},
   "source": [
    "step3. logit, 배팅을하는 분야에서 확률 대신 많이 쓰이는 측도"
   ]
  },
  {
   "cell_type": "markdown",
   "id": "be829f5a-3eb9-401d-8e5c-93cd0f7ad1ee",
   "metadata": {},
   "source": [
    "$$\\text{logit} = \\log{\\frac{P(X)}{1-P(x)}}  = \\beta_0 + \\beta_1 x, \\quad \\in (-\\infty, \\infty)$$"
   ]
  },
  {
   "cell_type": "markdown",
   "id": "e3866381-abb1-4bbc-93e9-61a040187fda",
   "metadata": {},
   "source": [
    "즉, 우리는 로짓에서 보이는 $\\beta_0, \\beta_1$을 추정하는 것임"
   ]
  },
  {
   "cell_type": "markdown",
   "id": "944dd996-20a8-4cdf-9c79-e0ca188123ce",
   "metadata": {},
   "source": [
    "#### 실습, 주식 데이터"
   ]
  },
  {
   "cell_type": "code",
   "execution_count": 25,
   "id": "9ed39b3c-90e5-4241-bfe7-63c93d2770ec",
   "metadata": {},
   "outputs": [],
   "source": [
    "#install.packages(\"ISLR\")\n",
    "library(ISLR)\n",
    "library(tidyverse)\n",
    "#names(Smarket)"
   ]
  },
  {
   "cell_type": "code",
   "execution_count": 26,
   "id": "56cf3c36-dc2e-4c67-8754-c04ca319afaf",
   "metadata": {},
   "outputs": [
    {
     "data": {
      "text/html": [
       "<table class=\"dataframe\">\n",
       "<caption>A data.frame: 6 × 9</caption>\n",
       "<thead>\n",
       "\t<tr><th></th><th scope=col>Year</th><th scope=col>Lag1</th><th scope=col>Lag2</th><th scope=col>Lag3</th><th scope=col>Lag4</th><th scope=col>Lag5</th><th scope=col>Volume</th><th scope=col>Today</th><th scope=col>Direction</th></tr>\n",
       "\t<tr><th></th><th scope=col>&lt;dbl&gt;</th><th scope=col>&lt;dbl&gt;</th><th scope=col>&lt;dbl&gt;</th><th scope=col>&lt;dbl&gt;</th><th scope=col>&lt;dbl&gt;</th><th scope=col>&lt;dbl&gt;</th><th scope=col>&lt;dbl&gt;</th><th scope=col>&lt;dbl&gt;</th><th scope=col>&lt;fct&gt;</th></tr>\n",
       "</thead>\n",
       "<tbody>\n",
       "\t<tr><th scope=row>1</th><td>2001</td><td> 0.381</td><td>-0.192</td><td>-2.624</td><td>-1.055</td><td> 5.010</td><td>1.1913</td><td> 0.959</td><td>Up  </td></tr>\n",
       "\t<tr><th scope=row>2</th><td>2001</td><td> 0.959</td><td> 0.381</td><td>-0.192</td><td>-2.624</td><td>-1.055</td><td>1.2965</td><td> 1.032</td><td>Up  </td></tr>\n",
       "\t<tr><th scope=row>3</th><td>2001</td><td> 1.032</td><td> 0.959</td><td> 0.381</td><td>-0.192</td><td>-2.624</td><td>1.4112</td><td>-0.623</td><td>Down</td></tr>\n",
       "\t<tr><th scope=row>4</th><td>2001</td><td>-0.623</td><td> 1.032</td><td> 0.959</td><td> 0.381</td><td>-0.192</td><td>1.2760</td><td> 0.614</td><td>Up  </td></tr>\n",
       "\t<tr><th scope=row>5</th><td>2001</td><td> 0.614</td><td>-0.623</td><td> 1.032</td><td> 0.959</td><td> 0.381</td><td>1.2057</td><td> 0.213</td><td>Up  </td></tr>\n",
       "\t<tr><th scope=row>6</th><td>2001</td><td> 0.213</td><td> 0.614</td><td>-0.623</td><td> 1.032</td><td> 0.959</td><td>1.3491</td><td> 1.392</td><td>Up  </td></tr>\n",
       "</tbody>\n",
       "</table>\n"
      ],
      "text/latex": [
       "A data.frame: 6 × 9\n",
       "\\begin{tabular}{r|lllllllll}\n",
       "  & Year & Lag1 & Lag2 & Lag3 & Lag4 & Lag5 & Volume & Today & Direction\\\\\n",
       "  & <dbl> & <dbl> & <dbl> & <dbl> & <dbl> & <dbl> & <dbl> & <dbl> & <fct>\\\\\n",
       "\\hline\n",
       "\t1 & 2001 &  0.381 & -0.192 & -2.624 & -1.055 &  5.010 & 1.1913 &  0.959 & Up  \\\\\n",
       "\t2 & 2001 &  0.959 &  0.381 & -0.192 & -2.624 & -1.055 & 1.2965 &  1.032 & Up  \\\\\n",
       "\t3 & 2001 &  1.032 &  0.959 &  0.381 & -0.192 & -2.624 & 1.4112 & -0.623 & Down\\\\\n",
       "\t4 & 2001 & -0.623 &  1.032 &  0.959 &  0.381 & -0.192 & 1.2760 &  0.614 & Up  \\\\\n",
       "\t5 & 2001 &  0.614 & -0.623 &  1.032 &  0.959 &  0.381 & 1.2057 &  0.213 & Up  \\\\\n",
       "\t6 & 2001 &  0.213 &  0.614 & -0.623 &  1.032 &  0.959 & 1.3491 &  1.392 & Up  \\\\\n",
       "\\end{tabular}\n"
      ],
      "text/markdown": [
       "\n",
       "A data.frame: 6 × 9\n",
       "\n",
       "| <!--/--> | Year &lt;dbl&gt; | Lag1 &lt;dbl&gt; | Lag2 &lt;dbl&gt; | Lag3 &lt;dbl&gt; | Lag4 &lt;dbl&gt; | Lag5 &lt;dbl&gt; | Volume &lt;dbl&gt; | Today &lt;dbl&gt; | Direction &lt;fct&gt; |\n",
       "|---|---|---|---|---|---|---|---|---|---|\n",
       "| 1 | 2001 |  0.381 | -0.192 | -2.624 | -1.055 |  5.010 | 1.1913 |  0.959 | Up   |\n",
       "| 2 | 2001 |  0.959 |  0.381 | -0.192 | -2.624 | -1.055 | 1.2965 |  1.032 | Up   |\n",
       "| 3 | 2001 |  1.032 |  0.959 |  0.381 | -0.192 | -2.624 | 1.4112 | -0.623 | Down |\n",
       "| 4 | 2001 | -0.623 |  1.032 |  0.959 |  0.381 | -0.192 | 1.2760 |  0.614 | Up   |\n",
       "| 5 | 2001 |  0.614 | -0.623 |  1.032 |  0.959 |  0.381 | 1.2057 |  0.213 | Up   |\n",
       "| 6 | 2001 |  0.213 |  0.614 | -0.623 |  1.032 |  0.959 | 1.3491 |  1.392 | Up   |\n",
       "\n"
      ],
      "text/plain": [
       "  Year Lag1   Lag2   Lag3   Lag4   Lag5   Volume Today  Direction\n",
       "1 2001  0.381 -0.192 -2.624 -1.055  5.010 1.1913  0.959 Up       \n",
       "2 2001  0.959  0.381 -0.192 -2.624 -1.055 1.2965  1.032 Up       \n",
       "3 2001  1.032  0.959  0.381 -0.192 -2.624 1.4112 -0.623 Down     \n",
       "4 2001 -0.623  1.032  0.959  0.381 -0.192 1.2760  0.614 Up       \n",
       "5 2001  0.614 -0.623  1.032  0.959  0.381 1.2057  0.213 Up       \n",
       "6 2001  0.213  0.614 -0.623  1.032  0.959 1.3491  1.392 Up       "
      ]
     },
     "metadata": {},
     "output_type": "display_data"
    }
   ],
   "source": [
    "head(Smarket)"
   ]
  },
  {
   "cell_type": "markdown",
   "id": "045c1bb6-20da-4420-83ef-c706c812b3a4",
   "metadata": {},
   "source": [
    "`-`데이터  설명"
   ]
  },
  {
   "cell_type": "markdown",
   "id": "cdce966a-1170-4d19-aaf6-b11b9db4ffaa",
   "metadata": {},
   "source": [
    "* lag$_i$ : i번째 전 날의 smarket 주식 종가\n",
    "\n",
    "* today : 오늘 주식 종가\n",
    "\n",
    "* Direction : 주식이 올라갔는지, 떨어졌는지\n",
    "\n",
    "* Volume : 거래량"
   ]
  },
  {
   "cell_type": "markdown",
   "id": "ce4ca471-2d64-4136-a761-9c75774c0f1a",
   "metadata": {},
   "source": [
    "`1` 데이터셋 분할 7:3으로 분할"
   ]
  },
  {
   "cell_type": "code",
   "execution_count": 27,
   "id": "05a3024e-2228-4f79-9dd5-8d4354570115",
   "metadata": {},
   "outputs": [],
   "source": [
    "train <- Smarket %>% sample_frac(0.7)\n",
    "test <- Smarket %>% setdiff(train)"
   ]
  },
  {
   "cell_type": "code",
   "execution_count": 28,
   "id": "87df5958-98da-4ae9-bf62-787c0e57a83f",
   "metadata": {},
   "outputs": [
    {
     "name": "stdout",
     "output_type": "stream",
     "text": [
      "Rows: 375\n",
      "Columns: 9\n",
      "$ Year      \u001b[3m\u001b[90m<dbl>\u001b[39m\u001b[23m 2001, 2001, 2001, 2001, 2001, 2001, 2001, 2001, 2001, 2001, ~\n",
      "$ Lag1      \u001b[3m\u001b[90m<dbl>\u001b[39m\u001b[23m 0.381, 0.959, 1.392, -0.403, 1.303, -0.189, -0.562, 0.359, -~\n",
      "$ Lag2      \u001b[3m\u001b[90m<dbl>\u001b[39m\u001b[23m -0.192, 0.381, 0.213, 1.392, 0.027, -0.498, 0.701, -1.747, -~\n",
      "$ Lag3      \u001b[3m\u001b[90m<dbl>\u001b[39m\u001b[23m -2.624, -0.192, 0.614, 0.213, -0.403, 0.287, 0.680, 0.546, 0~\n",
      "$ Lag4      \u001b[3m\u001b[90m<dbl>\u001b[39m\u001b[23m -1.055, -2.624, -0.623, 0.614, 1.392, 1.303, -0.189, -0.562,~\n",
      "$ Lag5      \u001b[3m\u001b[90m<dbl>\u001b[39m\u001b[23m 5.010, -1.055, 1.032, -0.623, 0.213, 0.027, -0.498, 0.701, 0~\n",
      "$ Volume    \u001b[3m\u001b[90m<dbl>\u001b[39m\u001b[23m 1.19130, 1.29650, 1.44500, 1.40780, 1.23260, 1.09800, 1.2953~\n",
      "$ Today     \u001b[3m\u001b[90m<dbl>\u001b[39m\u001b[23m 0.959, 1.032, -0.403, 0.027, 0.287, 0.680, 0.546, -0.151, -0~\n",
      "$ Direction \u001b[3m\u001b[90m<fct>\u001b[39m\u001b[23m Up, Up, Down, Up, Up, Up, Up, Down, Down, Down, Down, Down, ~\n"
     ]
    }
   ],
   "source": [
    "glimpse(test)"
   ]
  },
  {
   "cell_type": "markdown",
   "id": "8a720311-1847-463c-9d82-80b2299ecf8f",
   "metadata": {},
   "source": [
    "`2` 모형 적합"
   ]
  },
  {
   "cell_type": "code",
   "execution_count": 29,
   "id": "7534ed95-0ba2-4f64-a861-d4e658714f04",
   "metadata": {},
   "outputs": [
    {
     "name": "stderr",
     "output_type": "stream",
     "text": [
      "Warning message:\n",
      "\"glm.fit: algorithm did not converge\"\n",
      "Warning message:\n",
      "\"glm.fit: fitted probabilities numerically 0 or 1 occurred\"\n"
     ]
    }
   ],
   "source": [
    "logit_fit <-glm(Direction ~., data = train, \n",
    "                family = binomial(link = \"probit\")) ## 이진분류이므로 \"binomial\"이라고 기입"
   ]
  },
  {
   "cell_type": "markdown",
   "id": "c0d824cd-9e55-4c09-99f0-1518bc95b99f",
   "metadata": {},
   "source": [
    "`3` 예측"
   ]
  },
  {
   "cell_type": "code",
   "execution_count": 30,
   "id": "c424ea58-385f-479c-9955-638215dcd83b",
   "metadata": {},
   "outputs": [
    {
     "name": "stderr",
     "output_type": "stream",
     "text": [
      "필요한 패키지를 로딩중입니다: lattice\n",
      "\n",
      "\n",
      "다음의 패키지를 부착합니다: 'caret'\n",
      "\n",
      "\n",
      "The following object is masked from 'package:purrr':\n",
      "\n",
      "    lift\n",
      "\n",
      "\n"
     ]
    }
   ],
   "source": [
    "library(caret)"
   ]
  },
  {
   "cell_type": "code",
   "execution_count": 31,
   "id": "3420431d-21ce-459e-ab38-7263aa7245e4",
   "metadata": {},
   "outputs": [],
   "source": [
    "pred <-  ifelse(predict(logit_fit,test, type = \"response\") > 0.5, \"Up\", \"Down\") %>% as_factor()"
   ]
  },
  {
   "cell_type": "code",
   "execution_count": 32,
   "id": "3402a5f1-bc6c-4b1b-b5f8-affc9b017a68",
   "metadata": {},
   "outputs": [
    {
     "name": "stderr",
     "output_type": "stream",
     "text": [
      "Warning message in confusionMatrix.default(factor(pred), factor(test$Direction)):\n",
      "\"Levels are not in the same order for reference and data. Refactoring data to match.\"\n"
     ]
    },
    {
     "data": {
      "text/plain": [
       "Confusion Matrix and Statistics\n",
       "\n",
       "          Reference\n",
       "Prediction Down  Up\n",
       "      Down  185   0\n",
       "      Up      1 189\n",
       "                                          \n",
       "               Accuracy : 0.9973          \n",
       "                 95% CI : (0.9852, 0.9999)\n",
       "    No Information Rate : 0.504           \n",
       "    P-Value [Acc > NIR] : <2e-16          \n",
       "                                          \n",
       "                  Kappa : 0.9947          \n",
       "                                          \n",
       " Mcnemar's Test P-Value : 1               \n",
       "                                          \n",
       "            Sensitivity : 0.9946          \n",
       "            Specificity : 1.0000          \n",
       "         Pos Pred Value : 1.0000          \n",
       "         Neg Pred Value : 0.9947          \n",
       "             Prevalence : 0.4960          \n",
       "         Detection Rate : 0.4933          \n",
       "   Detection Prevalence : 0.4933          \n",
       "      Balanced Accuracy : 0.9973          \n",
       "                                          \n",
       "       'Positive' Class : Down            \n",
       "                                          "
      ]
     },
     "metadata": {},
     "output_type": "display_data"
    }
   ],
   "source": [
    "confusionMatrix(factor(pred), factor(test$Direction))"
   ]
  },
  {
   "cell_type": "markdown",
   "id": "a649d857-af6c-46d0-9af2-f0099665747a",
   "metadata": {},
   "source": [
    "#### 정밀도, 재현율, 정확도"
   ]
  },
  {
   "cell_type": "markdown",
   "id": "11e6c420-c274-453c-a3cc-2be0bbadacd4",
   "metadata": {},
   "source": [
    "`-` 위 네 가지는, 분류 모델의 성능 평가시 사용되는 척도이며 처음 접하는 사람들이 많이 헷갈려한다."
   ]
  },
  {
   "cell_type": "markdown",
   "id": "59a2b89a-ac7b-408f-8a4f-516df71c5ad5",
   "metadata": {},
   "source": [
    "`-` 위 예제는 4가지 지표에서 뛰어난 성능을 보이나 그렇지 않은 경우가 존재한다면?"
   ]
  },
  {
   "cell_type": "code",
   "execution_count": 47,
   "id": "a41ab927-91f5-487c-accf-edcd1ab8f318",
   "metadata": {
    "scrolled": true
   },
   "outputs": [
    {
     "data": {
      "text/plain": [
       "     A    B\n",
       "A 9644  252\n",
       "B   23   81"
      ]
     },
     "metadata": {},
     "output_type": "display_data"
    }
   ],
   "source": [
    "as.table(matrix(c(9644,23,252,81), nrow = 2))"
   ]
  },
  {
   "cell_type": "markdown",
   "id": "7c1b92f5-105b-49fb-a559-c91d64b3ba5c",
   "metadata": {},
   "source": [
    "`-` 정확도(accuracy)를 구해보자"
   ]
  },
  {
   "cell_type": "code",
   "execution_count": 43,
   "id": "a9f09c92-84fb-40aa-aef3-9894690cbb60",
   "metadata": {},
   "outputs": [
    {
     "data": {
      "text/html": [
       "0.9725"
      ],
      "text/latex": [
       "0.9725"
      ],
      "text/markdown": [
       "0.9725"
      ],
      "text/plain": [
       "[1] 0.9725"
      ]
     },
     "metadata": {},
     "output_type": "display_data"
    }
   ],
   "source": [
    "(9644+81)/(9644+23+252+81)"
   ]
  },
  {
   "cell_type": "markdown",
   "id": "1842ae6f-ca44-434f-9cd3-412f96298721",
   "metadata": {},
   "source": [
    "`-` 오, 괜찮은 것 같다?\n",
    "\n",
    "* 그러나 여기에는 함정이 존재한다.(재현율)"
   ]
  },
  {
   "cell_type": "code",
   "execution_count": 48,
   "id": "606d41b0-37c5-4dc6-87fa-1b2446cc847c",
   "metadata": {},
   "outputs": [
    {
     "data": {
      "text/html": [
       "0.243243243243243"
      ],
      "text/latex": [
       "0.243243243243243"
      ],
      "text/markdown": [
       "0.243243243243243"
      ],
      "text/plain": [
       "[1] 0.2432432"
      ]
     },
     "metadata": {},
     "output_type": "display_data"
    }
   ],
   "source": [
    "(81)/(252+81)"
   ]
  },
  {
   "cell_type": "markdown",
   "id": "3b4e3553-686f-495d-b68f-8a7e8c63c48b",
   "metadata": {},
   "source": [
    "* 어라? 전체 B중에 예측모델이 B라고 예측한 것은 0.24..밖에 안되네?\n",
    "* 기업의 입장에서 보았을 때, 정확도보단 재현율이 더 중요한 지표임\n",
    "* 즉, 실제 참인 것 중에 예측모델이 참이라고 예측한 비율이 낮은 경우가 발생할 수 있음"
   ]
  },
  {
   "cell_type": "markdown",
   "id": "a34494e1-21ee-4ebf-8d3f-8350998707d9",
   "metadata": {},
   "source": [
    "`-` 정밀도 : 모델이 참이라고 예측한 것 중, 실제 참인 것의 비율"
   ]
  },
  {
   "cell_type": "code",
   "execution_count": 49,
   "id": "26ac1bd8-0296-4fb9-81ac-e0241b81cb62",
   "metadata": {},
   "outputs": [
    {
     "data": {
      "text/html": [
       "0.778846153846154"
      ],
      "text/latex": [
       "0.778846153846154"
      ],
      "text/markdown": [
       "0.778846153846154"
      ],
      "text/plain": [
       "[1] 0.7788462"
      ]
     },
     "metadata": {},
     "output_type": "display_data"
    }
   ],
   "source": [
    "81/(23+81)"
   ]
  },
  {
   "cell_type": "markdown",
   "id": "89f1e633-cadb-4255-a3cd-351fa8818f66",
   "metadata": {},
   "source": [
    "`-` 즉, 우리가 분류모델을 설계하고, 에측 성능을 판단할 때 단순히 정확도만 보고 판단하면 안 된다는 것!"
   ]
  },
  {
   "cell_type": "markdown",
   "id": "f11131fd-cc72-4b53-9d1a-712b715ee86a",
   "metadata": {},
   "source": [
    "***"
   ]
  },
  {
   "cell_type": "markdown",
   "id": "16dab86b-2b03-49d9-a2ba-bfb5d55adeca",
   "metadata": {},
   "source": [
    "## Unsupervised Learning"
   ]
  },
  {
   "cell_type": "markdown",
   "id": "113a367e-1bc0-4949-a941-67a0e4466234",
   "metadata": {},
   "source": [
    "`-` 설명변수 $X=(x_1, x_2, \\dots)$로 부터 비슷한 성질을 갖는 녀석들끼리 한 집단으로 묶는 것"
   ]
  },
  {
   "cell_type": "markdown",
   "id": "9dff674c-b4dc-4951-8f1c-1e3ac19cfd6f",
   "metadata": {},
   "source": [
    "`-` 대표적인 알고리즘 : kmeans, dbscan, hdbscan 등등"
   ]
  },
  {
   "cell_type": "markdown",
   "id": "4b48157b-166a-481a-ab26-2de2f12628a8",
   "metadata": {},
   "source": [
    "### k-means"
   ]
  },
  {
   "cell_type": "markdown",
   "id": "99d333c5-4886-4ae9-b662-dc79e3c3c067",
   "metadata": {},
   "source": [
    "`1`주어진 데이터를 k개의 클러스터로 묶는 알고리즘, 각 클러스터와 거리 차이의 분산을 최소화 하는 방식으로 동작\n",
    "\n",
    "`2` 허나 군집의 수, 가중치와 거리 정의가 어려우며, 사전에 주어진 목적이 없으므로 결과 해석이 어려움.\n",
    "\n",
    "`3` 또한 잡음이나 이상값의 영향을 받으며 초기 군집 수를 결정해야 한다는 단점이 있다."
   ]
  },
  {
   "cell_type": "code",
   "execution_count": 59,
   "id": "f13142fb-800f-4124-9118-5ab792aed69b",
   "metadata": {},
   "outputs": [],
   "source": [
    "#install.packages(\"patchwork\")"
   ]
  },
  {
   "cell_type": "code",
   "execution_count": 58,
   "id": "bd70a353-9695-4a2b-aeba-bacda461694a",
   "metadata": {},
   "outputs": [
    {
     "data": {
      "image/png": "[encoded data removed]",
      "text/plain": [
       "plot without title"
      ]
     },
     "metadata": {
      "image/png": {
       "height": 400,
       "width": 1200
      }
     },
     "output_type": "display_data"
    }
   ],
   "source": [
    "#|code-fold : true\n",
    "options(repr.plot.res = 200)\n",
    "\n",
    "p1 = ggplot(iris, \n",
    "       aes(Petal.Length, Petal.Width, color = Species)) + \n",
    "            geom_point()\n",
    "\n",
    "p2 = ggplot(iris, \n",
    "       aes(Petal.Length, Petal.Width)) + \n",
    "            geom_point()\n",
    "\n",
    "library(patchwork)\n",
    "\n",
    "p1 + p2"
   ]
  },
  {
   "cell_type": "markdown",
   "id": "47316907-8994-4ca4-b4bc-e93c14ec1894",
   "metadata": {},
   "source": [
    "`-` 만약, 우리가 생성한 군집이 잘 생성되었다면? 완쪽과 같은 분포로 군집이 형성되어야 한다."
   ]
  },
  {
   "cell_type": "code",
   "execution_count": 60,
   "id": "2fdd71cc-fc8c-4b2e-9a16-6583cd0a9e89",
   "metadata": {},
   "outputs": [
    {
     "data": {
      "image/png": "[encoded data removed]",
      "text/plain": [
       "plot without title"
      ]
     },
     "metadata": {
      "image/png": {
       "height": 400,
       "width": 1200
      }
     },
     "output_type": "display_data"
    }
   ],
   "source": [
    "#|code-fold : true\n",
    "ic <- kmeans(iris[,3:4], centers = 3)\n",
    "\n",
    "iris$cluster <- as.factor(ic$cluster)\n",
    "\n",
    "p1 = ggplot(iris, \n",
    "       aes(Petal.Length, Petal.Width, color = Species)) + \n",
    "            geom_point()\n",
    "\n",
    "p2 = ggplot(iris, \n",
    "       aes(Petal.Length, Petal.Width, color = cluster)) + \n",
    "            geom_point()\n",
    "\n",
    "p1 + p2"
   ]
  },
  {
   "cell_type": "markdown",
   "id": "ced1fbde-1683-4cfe-b91e-3cf02945cd40",
   "metadata": {},
   "source": [
    "***"
   ]
  },
  {
   "cell_type": "markdown",
   "id": "20d04c9e-403f-486b-80a1-aff7fb2ccb77",
   "metadata": {},
   "source": [
    "# do next"
   ]
  },
  {
   "cell_type": "markdown",
   "id": "35c71282-468d-4d3f-9d61-f438733737cc",
   "metadata": {},
   "source": [
    "`-` 통계 용어 설명\n",
    "\n",
    "`-` 머신러닝 이론 및 실습 (1) 선형회귀부터 ~ 랜덤포레스트까지!\n",
    "\n",
    "`-` 겁먹지 말구 잘해봅시당!"
   ]
  }
 ],
 "metadata": {
  "kernelspec": {
   "display_name": "R",
   "language": "R",
   "name": "ir"
  },
  "language_info": {
   "codemirror_mode": "r",
   "file_extension": ".r",
   "mimetype": "text/x-r-source",
   "name": "R",
   "pygments_lexer": "r",
   "version": "4.1.3"
  }
 },
 "nbformat": 4,
 "nbformat_minor": 5
}
