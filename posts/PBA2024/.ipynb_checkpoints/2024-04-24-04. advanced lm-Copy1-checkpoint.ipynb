{
 "cells": [
  {
   "cell_type": "raw",
   "id": "22741bdd-ecfe-4a5d-b0a7-d2f073be22f8",
   "metadata": {},
   "source": [
    "---\n",
    "title : \"04. advanced LM\"\n",
    "author : \"GC\"\n",
    "date : \"04/25/24\"\n",
    "---"
   ]
  },
  {
   "cell_type": "markdown",
   "id": "28ffede5-91a1-4d20-95ad-3531f1e5c430",
   "metadata": {},
   "source": [
    "# Review"
   ]
  },
  {
   "cell_type": "markdown",
   "id": "b5a9f6c2-1d75-4e03-a534-439d60969c85",
   "metadata": {},
   "source": [
    "`-` 회귀분석은 설명변수 $\\boldsymbol{X} = [x_1,x_2, \\dots x_p]$를 이용하여 반응변수 $y$를 예측하기 위해 가장 널리 활용되는 통계적 모형이다.\n",
    "\n",
    "`-` 아래와 같은 형태의 함수를 찾는 것\n",
    "\n",
    "$$y \\approx \\beta_1 x_1 + \\beta_0 $$"
   ]
  },
  {
   "cell_type": "markdown",
   "id": "e02a63bb-a2a6-4ef1-a5eb-f5a1f5107a38",
   "metadata": {},
   "source": [
    "`-` `OLS`, `MLE` 기법들을 활용하여 $\\beta_1,\\beta_0$를 추정하는 방법을 학습함."
   ]
  },
  {
   "cell_type": "markdown",
   "id": "b025efa1-30e8-4bb8-ac26-7eafa84b4ca2",
   "metadata": {},
   "source": [
    "$$(\\hat {\\beta_0}, \\hat {\\beta_1}) = \\left (\\bar y - \\hat {\\beta}_1\\bar x. \\,\\, \\frac{S_{xy}}{S_{xx}} = \\frac{\\sum (x-\\bar x)(y-\\bar y)}{\\sum (x-\\bar x)^2} = \\frac{\\sum (x-\\bar x)y}{S_{xx}}\\right )$$"
   ]
  },
  {
   "cell_type": "markdown",
   "id": "3c0692af-5314-48dd-879d-6f8c3b6e8773",
   "metadata": {},
   "source": [
    "`-` 오늘은 진도를 빼기 전에, 조금 더 이전에 학습한 것들을 자세히 학습하는 시간을 가질 것임"
   ]
  },
  {
   "cell_type": "markdown",
   "id": "77525c55-37a0-487f-b31b-659e9be416d0",
   "metadata": {},
   "source": [
    "***"
   ]
  },
  {
   "cell_type": "markdown",
   "id": "e3299e99-0261-4365-93aa-d230751d6f52",
   "metadata": {},
   "source": [
    "# 단순선형회귀분석"
   ]
  },
  {
   "cell_type": "markdown",
   "id": "20b51412-3938-4bbb-ae3b-2930a43d1dd2",
   "metadata": {},
   "source": [
    "`-` 예측변수 하나와 반응변수 하나의 관계를 직선관계로 모형화"
   ]
  },
  {
   "cell_type": "markdown",
   "id": "c6489c2b-ca07-4025-b2f1-c026e07e1b51",
   "metadata": {},
   "source": [
    "$$y = \\beta_0 + \\beta_1x_1 + \\epsilon$$"
   ]
  },
  {
   "cell_type": "markdown",
   "id": "7da1cf91-80f1-464d-a6bd-6cf34de33fc5",
   "metadata": {},
   "source": [
    "## 최소제곱추정량(`OLS`)의 설징"
   ]
  },
  {
   "cell_type": "markdown",
   "id": "771025ce-8909-48dc-8e5e-6c03ccfecc68",
   "metadata": {},
   "source": [
    "`-` 용어정리\n",
    "\n",
    "* $\\hat y_i$ : $i$번째 관측치의 적합치(=`fitted value`)\n",
    "\n",
    "* $\\beta_1$ : 기울기(slope)\n",
    "\n",
    "* $\\beta_0$ : 절편(intercept)\n",
    "\n",
    "* $\\epsilon_i = \\hat y_i - y_i$ : $i$번째 관측치의 오차(=잔차)\n",
    "\n",
    "    * 잔차는 후에 모형의 가정을 체크하는데 있어서 매우 중요한 역할을 한다.\n",
    " \n"
   ]
  },
  {
   "cell_type": "markdown",
   "id": "a5e16ff5-c00f-49c5-a098-3a880a86dc3c",
   "metadata": {},
   "source": [
    "* 불편추정량 : 추정량의 기대값이 실제 모수와 같은 추정량"
   ]
  },
  {
   "cell_type": "markdown",
   "id": "05f36ad8-a270-4c0e-b284-46aed554db56",
   "metadata": {},
   "source": [
    "$$E(\\hat {\\beta_1}) = \\beta_1$$"
   ]
  },
  {
   "cell_type": "markdown",
   "id": "c1174386-d5bf-4404-9658-0880a3a280a4",
   "metadata": {},
   "source": [
    "$\\to$ `proof`"
   ]
  },
  {
   "cell_type": "markdown",
   "id": "5921d126-fd44-4d0f-bbd7-035dc4ec7fcc",
   "metadata": {},
   "source": [
    "`1` $\\sum (x-\\bar x) = 0 $\n",
    "\n",
    "`2` $\\sum(x-\\bar x)^2 = \\sum(x-\\bar x)x = S_{xx}$\n",
    "\n",
    "`3` $E(y) = \\beta_0 + \\beta_1x$"
   ]
  },
  {
   "cell_type": "markdown",
   "id": "1ba0aa12-dbfa-4beb-b129-1ec7db4bc54b",
   "metadata": {},
   "source": [
    "$$\\begin{align*} E(\\hat {\\beta_1}) &= \\frac{\\sum(x-\\bar x)}{S_{xx}}E(y)  \\\\ \\\\ \n",
    "                                   &= \\frac{\\sum(x-\\bar x)(\\beta_0+\\beta_1x_1)}{S_xx} \\\\ \\\\\n",
    "                                   &= \\frac{\\sum(x-\\bar x)\\beta_0 + \\beta_1\\sum(x-\\bar x)x}{S_{xx}} \\\\ \\\\\n",
    "                                   &= \\frac{0 + \\beta_1S_{xx}}{S_{xx}} = \\beta_1\n",
    "                                    \\end{align*}$$"
   ]
  },
  {
   "cell_type": "markdown",
   "id": "a4fff463-0bc3-436a-9f47-649d41abe548",
   "metadata": {},
   "source": [
    "따라서 `OLS`를 이용하여 추정한 $\\hat {\\beta_1}$은 불편추정량이다!"
   ]
  },
  {
   "cell_type": "markdown",
   "id": "4d9255a0-873b-4e1e-955c-4ce691a8d3cc",
   "metadata": {},
   "source": [
    "$$\\begin {align*} E(\\hat {\\beta_0}) &=  E(\\bar y - \\hat \\beta_1\\bar x) \\\\ \\\\ \n",
    "                                    &= \\bar y  - \\beta_1\\bar x \\\\ \\\\ \n",
    "                                    &= (\\beta_1 x_1 + \\beta_0) - \\beta_1 x_1 = \\beta_0 \\end{align*}$$"
   ]
  },
  {
   "cell_type": "markdown",
   "id": "769030af-4b77-451d-887f-3ed3f53ad380",
   "metadata": {},
   "source": [
    "* 이 불편추정량의 성질로 인해 이런 말로도 쓴다.\n",
    "\n",
    "    * 회귀분석은 주어진 관측치를 이용하여 어떤 현상에 대한 `평균반응량`을 구하는 것과 같다."
   ]
  },
  {
   "cell_type": "markdown",
   "id": "efd9920d-e095-467c-8dc0-7ae2d0cfc755",
   "metadata": {},
   "source": [
    "***"
   ]
  },
  {
   "cell_type": "markdown",
   "id": "3fc577d9-ea20-4da2-85c7-4ce42d7a3ef7",
   "metadata": {},
   "source": [
    "### 회귀계수의 분산"
   ]
  },
  {
   "cell_type": "markdown",
   "id": "2711485d-6542-4fe3-b11d-554a6b74f275",
   "metadata": {},
   "source": [
    "`1` $\\hat {\\beta_1}$의 분산\n",
    "\n",
    "* $\\hat {\\beta_1} = \\sum\\frac{(x-\\bar x)y}{S_{xx}}, Var(y) = Var(\\epsilon) = \\sigma^2$"
   ]
  },
  {
   "cell_type": "markdown",
   "id": "bcef4bab-9ef0-4729-99c1-283abe8c99e9",
   "metadata": {},
   "source": [
    "$$\\begin{align*} Var(\\hat {\\beta}_1) &= Var(\\sum\\frac{(x-\\bar x)y}{S_{xx}}) \\\\ \\\\ \n",
    "                                     &= \\sum \\frac {(x-\\bar x)^2}{S_{xx}^2} Var(y) \\\\ \\\\ \n",
    "                                     &=  \\frac{\\sigma^2}{S_{xx}}\\end {align*}$$"
   ]
  },
  {
   "cell_type": "markdown",
   "id": "ce4a8741-f8bf-4c5d-aad9-296924af95a3",
   "metadata": {},
   "source": [
    "`2` $\\hat \\beta_{0}$의 분산"
   ]
  },
  {
   "cell_type": "markdown",
   "id": "d1411d2d-ff7a-452f-96d1-42a3e7e065f7",
   "metadata": {},
   "source": [
    "* $\\hat {\\beta}_0 = \\bar y - \\hat {\\beta}_1 \\bar x $"
   ]
  },
  {
   "cell_type": "markdown",
   "id": "cb22b596-0b4c-4b58-b750-674803a2e31f",
   "metadata": {},
   "source": [
    "$$\\begin{align*} Var(\\hat {\\beta}_0) &= Var(\\bar y) - (\\bar x)^2Var(\\hat {\\beta}_1) - 2\\bar x Cov(\\bar y, \\hat {\\hat {\\beta}_1}) \\\\ \\\\ \n",
    "                                     &= \\frac {\\sigma^2}{n} -  (\\bar x)^2 \\frac{\\sigma^2}{S_{xx}}  + 0 \\\\ \\\\\n",
    "                                     &= \\sigma^2 \\left ( \\frac 1n + \\frac {(\\bar x)^2}{S_{xx}}\\right)\n",
    "                            \\end{align*}$$"
   ]
  },
  {
   "cell_type": "markdown",
   "id": "0919e041-eba7-4024-bc0d-3f98bad79110",
   "metadata": {},
   "source": [
    "### 몇 가지 이론적인 성질(참고)"
   ]
  },
  {
   "cell_type": "markdown",
   "id": "207cb834-e2ed-404e-87b1-5777467dc9d3",
   "metadata": {},
   "source": [
    "`1` $\\sum \\epsilon_i = \\sum \\epsilon_i x_I = 0$\n",
    "\n",
    "`2` $\\sum y_i = \\sum \\hat {y}_i$\n",
    "\n",
    "`3` $\\sum \\hat {y}_i \\epsilon_i = 0$"
   ]
  },
  {
   "cell_type": "markdown",
   "id": "02da01d1-da51-4148-80fa-25b8bab5c155",
   "metadata": {},
   "source": [
    "***"
   ]
  },
  {
   "cell_type": "markdown",
   "id": "e15cb687-f773-4583-a42d-05df24cd54ea",
   "metadata": {},
   "source": [
    "## 오차항의 분산 추정"
   ]
  },
  {
   "cell_type": "markdown",
   "id": "1bed747c-47cc-43d7-904d-f41b2f35ed98",
   "metadata": {},
   "source": [
    "$$Var(y) = Var(\\epsilon) = \\sigma^2$$"
   ]
  },
  {
   "cell_type": "markdown",
   "id": "ae3fb734-4185-4349-8794-0ec9c2a7133e",
   "metadata": {},
   "source": [
    "`1` 오차항은 회귀계수의 추정에서는 중요하지 않으나, 우리가 추정한 회기계수의 신뢰구간 구성, 가설 검정에서 필요함"
   ]
  },
  {
   "cell_type": "markdown",
   "id": "59a835d6-9c25-4512-b519-73737dc6f9fa",
   "metadata": {},
   "source": [
    "`2` 오차항의 추정치를 다음과 같이 정의한다."
   ]
  },
  {
   "cell_type": "markdown",
   "id": "2661bcb2-d92e-46c8-9596-cd76ab210632",
   "metadata": {},
   "source": [
    "$$\\hat {\\sigma}^2 = \\frac{\\sum{(y - \\hat y)^2}}{n-2} = \\frac{SSE}{n-2} = MSE$$"
   ]
  },
  {
   "cell_type": "markdown",
   "id": "e31a6748-8172-4211-acbc-edc7f0ff7bfa",
   "metadata": {},
   "source": [
    "* 또한, 이렇게도 정의할 수 있음"
   ]
  },
  {
   "cell_type": "markdown",
   "id": "b9a76aba-4ef2-421f-ac8c-f4cf9d0b8e35",
   "metadata": {},
   "source": [
    "$$MSE =  Var(\\hat y) + \\text{bias}^2 = Var(\\hat y) + (E(\\hat y) - y)^2 $$"
   ]
  },
  {
   "cell_type": "markdown",
   "id": "3aeb5215-3862-4277-9c62-1ae494ef0a80",
   "metadata": {},
   "source": [
    "`3` `n-2`를 이용하여 오차제곱합의 평균인 `MSE`를 산출하는 이유?\n",
    "\n",
    "* 카이제곱분포의 가법성의 성질을 알아햐 하나 넘어간다.\n",
    "\n",
    "* 이렇게 생각하자. 만약에 어떤 모집단의 평균을 우리가 알고 있다고 하자. 그러면 우리는 `n-1`개의 정보만 있으면 모평균의 추정치를 구할 수 있다."
   ]
  },
  {
   "cell_type": "markdown",
   "id": "6d430b77-b087-46ec-85da-35fcec91a124",
   "metadata": {},
   "source": [
    "$\\to$ 예제 : 우리는 저기 비어있는 관측치가 무엇인지 몰라도 모평균을 알고 있기 때문에 3개의 정보만으로도 모평균을 짐작할 수 있음"
   ]
  },
  {
   "cell_type": "markdown",
   "id": "090d5664-4e0b-49dc-91fe-afc08fa2d0b5",
   "metadata": {},
   "source": [
    "$E(X) = 2.5$\n",
    "\n",
    "```python\n",
    "x = [1,2,?,4]\n",
    "```"
   ]
  },
  {
   "cell_type": "markdown",
   "id": "ea41837d-0d0b-4e31-beaa-33700ce40c9c",
   "metadata": {},
   "source": [
    "* 자, 다시 우리는 앞에서 이론적으로 $E(\\hat {\\beta}_0), E(\\hat {\\beta}_1)$이 불편추정량임을 증명하였음\n",
    "\n",
    "* 그러면, 우리는 어떤 추정량의 정보 2개를 이미 알고 있으니까 `n-2`개의 정보만 있으면 된다.\n",
    "\n",
    "* 정리 : `SSE`의 자유도는 `n-(예측변수 개수 + 1)`이다!"
   ]
  },
  {
   "cell_type": "markdown",
   "id": "e49e1956-6a26-43c8-98c1-12fe109617bb",
   "metadata": {},
   "source": [
    "`4` 회귀모형의 유의성 검정"
   ]
  },
  {
   "cell_type": "markdown",
   "id": "65e83116-5e1f-4945-9af1-767e05dc3214",
   "metadata": {},
   "source": [
    "$$H_0 : \\beta_1 = 0, \\quad H_1 = \\beta_1 \\neq 0  $$"
   ]
  },
  {
   "cell_type": "markdown",
   "id": "343c1b96-225b-4de1-9dc4-dd66f1bfe037",
   "metadata": {},
   "source": [
    "* 검정통계량"
   ]
  },
  {
   "cell_type": "markdown",
   "id": "2a490d4c-f47a-4e6e-8552-cf9c5792faaa",
   "metadata": {},
   "source": [
    "$$t = \\frac{\\hat \\beta_1}{se(\\hat {\\beta_1})}$$"
   ]
  },
  {
   "cell_type": "markdown",
   "id": "2b92c754-d721-4b66-8787-eb13452b4ce9",
   "metadata": {},
   "source": [
    "* 위 통계량의 절대값이 자유도 `n-2`의 t분포 분위수보다 크면 귀무가설을 기각, 즉 회귀모형이 유의하다고 할 수 있다."
   ]
  },
  {
   "cell_type": "markdown",
   "id": "4caa78f3-8552-4f7b-8537-f03819e87ddf",
   "metadata": {},
   "source": [
    "$$|t| > t_{\\alpha/2., n-2}$$"
   ]
  },
  {
   "cell_type": "markdown",
   "id": "c99af109-84e3-4619-b912-d8a4e9cd41ed",
   "metadata": {},
   "source": [
    "`5` MSE는 모형의 잔차로부터 추정되므로 모형에 깊게 의존한다. 즉, 모형이 잘못 설정된 경우 유용성이 심각하게 저하됨\n",
    "\n",
    "`6` 또한, MSE는 불편추정량이다.(카이제곱 통계량을 알면 구하기 쉬움) : 교재에서 그냥 스쳐지나갔으니 넘어가겠습니다.(숙제?)\n",
    "\n",
    "* $E(\\hat {\\sigma}^2) = \\sigma^2$"
   ]
  },
  {
   "cell_type": "markdown",
   "id": "22017c9f-4e1c-4cd1-9c85-6df28d8312a7",
   "metadata": {},
   "source": [
    "# do next"
   ]
  },
  {
   "cell_type": "markdown",
   "id": "c2d6769f-9bf9-4067-88e4-34008dfe86b1",
   "metadata": {},
   "source": [
    "`1` 오차항의 가정 위배에 따른 경우를 보고 해결책을 제시\n",
    "\n",
    "`2` 예측변수가 여러개인 경우 회귀계수를 추정하는 방법 학습.\n",
    "\n",
    "* 선형대수학 지식이 필요하나. 필요한 부분만 간단히 짚고 넘어갈 예정"
   ]
  }
 ],
 "metadata": {
  "kernelspec": {
   "display_name": "Python 3 (ipykernel)",
   "language": "python",
   "name": "python3"
  },
  "language_info": {
   "codemirror_mode": {
    "name": "ipython",
    "version": 3
   },
   "file_extension": ".py",
   "mimetype": "text/x-python",
   "name": "python",
   "nbconvert_exporter": "python",
   "pygments_lexer": "ipython3",
   "version": "3.12.2"
  }
 },
 "nbformat": 4,
 "nbformat_minor": 5
}
