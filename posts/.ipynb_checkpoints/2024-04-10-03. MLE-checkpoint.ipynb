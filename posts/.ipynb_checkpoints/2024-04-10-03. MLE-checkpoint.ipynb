{
 "cells": [
  {
   "cell_type": "raw",
   "id": "fdc0c7b1-e5d3-45c2-bd31-cbb06f0b703f",
   "metadata": {},
   "source": [
    "---\n",
    "title : \"03. MLE\"\n",
    "author : \"gc\"\n",
    "date : \"04/10/24\"\n",
    "---"
   ]
  },
  {
   "cell_type": "markdown",
   "id": "404892be-04d8-4712-a63a-78919aee7584",
   "metadata": {},
   "source": [
    "# MLE"
   ]
  },
  {
   "cell_type": "code",
   "execution_count": 1,
   "id": "15a6ea60-8561-4c7f-bfe6-21d2619a7b51",
   "metadata": {},
   "outputs": [],
   "source": [
    "import pandas as pd\n",
    "import numpy as np\n",
    "import matplotlib.pyplot as plt"
   ]
  },
  {
   "cell_type": "markdown",
   "id": "a80bde46-1a1e-4e97-bc3b-335a5f913365",
   "metadata": {},
   "source": [
    "## 우도함수"
   ]
  },
  {
   "cell_type": "markdown",
   "id": "7bff6156-5d48-4fa0-b312-7f863e57432c",
   "metadata": {},
   "source": [
    "$$L(\\theta)=f(\\mathbf{x}  | \\theta) =  f(x_1|\\theta)f(x_2|\\theta)\\dots f(x_n|\\theta)$$"
   ]
  },
  {
   "cell_type": "markdown",
   "id": "b550153e-2658-4777-9a26-3c0b48c6b2c6",
   "metadata": {},
   "source": [
    "`-` 해석 1(일반적인 정의 : 블로그, 위키피디아, 기타 포럼 등등)\n",
    "\n",
    "* Likelihood function\n",
    "\n",
    "* 우도함수는 일반적으로 설명력 함수라고 알려져 있다.\n",
    "\n",
    "* 수식을 보았을 때, 주어진 랜덤샘플 $x_1,x_2 \\dots x_n$에 대한 결합확률밀도함수(그냥 다 곱한거)를 나타내고 있다.\n",
    "\n",
    "* **즉, 이는 모수($p, \\theta, \\mu, \\sigma...$)가 주어졌을 때 주어진 데이터(샘플)가 어떤 분포(or 가정, 현상)를 얼만큼 설명하는지 직관적인 형태를 수식으로 나타냈다고 이해하자.** ($\\star\\star\\star$)"
   ]
  },
  {
   "cell_type": "markdown",
   "id": "5ecf83aa-e83f-4021-946f-070421efab43",
   "metadata": {},
   "source": [
    "`-` 해석 2 (조금 더.. 전문적인 지식이 들어간 해석)\n",
    "\n",
    "* 주어진 모수 ($p, \\theta, \\mu, \\sigma...$)가 주어졌을 때 $\\bf {x}$를 관측할 `확률`(or 확률밀도)를 나타낸다.($\\star\\star\\star$)\n",
    "\n",
    "* 즉, 특정 모수가 주어졌을 때 어떤 `샘플들이 얻어질 확률`이지 **모수(확률, 평균)가 어떤 상수 값 (`ex` $p = 0.2$)과 일치할 확률을 의미하지 않는다.**($\\star\\star\\star$)"
   ]
  },
  {
   "cell_type": "markdown",
   "id": "27ae2be5-3b96-4ca5-a11e-a9597116f643",
   "metadata": {},
   "source": [
    "`-` 해석 2에 대한 좀더 직관적인 접근으로 아래와 같은 실험에서 우도함수를 최대화하는 $\\hat{p}_{mle}$ 구해보자."
   ]
  },
  {
   "cell_type": "markdown",
   "id": "036808ba-0edb-4449-9904-5bf247040990",
   "metadata": {},
   "source": [
    "> 동전 던지기 실험 $\\to X_i \\overset{iid}\\sim Ber(p), \\quad f(x) = p^{x}(1-p)^{1-x}, \\quad  x \\in [0,1]$"
   ]
  },
  {
   "cell_type": "markdown",
   "id": "37f0ff52-1301-450a-aeaf-52db3b6edb09",
   "metadata": {},
   "source": [
    "`-` 일반적으로 우리가 알고 있는 사실 $\\to p = 1/2, \\,\\, f(x) = 1/2$ "
   ]
  },
  {
   "cell_type": "code",
   "execution_count": 6,
   "id": "53d594af-4575-428b-86de-71804795afa2",
   "metadata": {},
   "outputs": [
    {
     "data": {
      "text/plain": [
       "[0, 1, 0, 1]"
      ]
     },
     "execution_count": 6,
     "metadata": {},
     "output_type": "execute_result"
    }
   ],
   "source": [
    "x = [0,1,0,1]\n",
    "x"
   ]
  },
  {
   "cell_type": "markdown",
   "id": "520e4276-c6d2-44a6-908e-56906ece901f",
   "metadata": {},
   "source": [
    "`-` 우도함수 계산"
   ]
  },
  {
   "cell_type": "code",
   "execution_count": 9,
   "id": "ad6b5564-a647-44cf-8671-4d5e785ed533",
   "metadata": {},
   "outputs": [
    {
     "data": {
      "text/plain": [
       "0.0625"
      ]
     },
     "execution_count": 9,
     "metadata": {},
     "output_type": "execute_result"
    }
   ],
   "source": [
    "(1/2)**4"
   ]
  },
  {
   "cell_type": "markdown",
   "id": "468eed01-b2b4-4d5f-8d53-46b74855028b",
   "metadata": {},
   "source": [
    "`-` 만약 $p = 1/3$이라면? $\\to f(x) = (1/3)^{x}(2/3)^{1-x}$ "
   ]
  },
  {
   "cell_type": "markdown",
   "id": "5ce00066-7465-41fe-bc3c-f441fbdb6516",
   "metadata": {},
   "source": [
    "`-` 우도함수 계산"
   ]
  },
  {
   "cell_type": "code",
   "execution_count": 11,
   "id": "d5621377-33d1-413d-b5ac-cca8df30bd57",
   "metadata": {},
   "outputs": [
    {
     "data": {
      "text/plain": [
       "0.04938271604938271"
      ]
     },
     "execution_count": 11,
     "metadata": {},
     "output_type": "execute_result"
    }
   ],
   "source": [
    "(2/3)*(1/3)*(2/3)*(1/3)"
   ]
  },
  {
   "cell_type": "markdown",
   "id": "9bf9129e-6ff2-4119-8534-226b66c10868",
   "metadata": {},
   "source": [
    "`-` 음? $p=1/2$일 때가, 더 우도함수 값이 크다.\n",
    "\n",
    "* 해석 1의 관점 : 오, $p=1/2$일 때, 설명력이 더 좋네?\n",
    "\n",
    "* 해석 2의 관점 : 오, $p=1/2$일 때, 샘플 `(0,1,0,1)`이 얻어질 확률이 더 크네?\n",
    "\n",
    "* 우리는 앞으로 해석 1의 관점을 일차적으로 말하고, 그 다음에 디테일하게 해석 2를 말할 줄 알아야 한다!\n"
   ]
  },
  {
   "cell_type": "markdown",
   "id": "f17556cf-0cdf-44e5-b615-944ccf44ebaa",
   "metadata": {},
   "source": [
    "## 용어정리"
   ]
  },
  {
   "cell_type": "markdown",
   "id": "c12bcc5d-6445-44bf-8be2-83ebe12fea3e",
   "metadata": {},
   "source": [
    "`1` 가능도함수 = 우도함수 = likelihood function\n",
    "\n",
    "`2` 최대가능도함수 = 최대우도함수 = Maximum likelihood function = 모수 $p$의 MLE"
   ]
  },
  {
   "cell_type": "markdown",
   "id": "50506628-405a-49d2-9279-e069e6e723df",
   "metadata": {},
   "source": [
    "## MLE를 구하는 방법"
   ]
  },
  {
   "cell_type": "markdown",
   "id": "bd22093a-175d-4ab8-8c37-189df9781afc",
   "metadata": {},
   "source": [
    "(조건은 생략할게여...)"
   ]
  },
  {
   "cell_type": "markdown",
   "id": "23ee227c-47d3-452f-b1ad-425944db9814",
   "metadata": {},
   "source": [
    "`step 1`. 우도함수 구하기"
   ]
  },
  {
   "cell_type": "markdown",
   "id": "96eb6ee1-1d93-4c47-a989-6418638d584e",
   "metadata": {},
   "source": [
    "$$L(\\theta)=f(\\mathbf{x}  | \\theta) =  f(x_1|\\theta)f(x_2|\\theta)\\dots f(x_n|\\theta)$$"
   ]
  },
  {
   "cell_type": "markdown",
   "id": "5bd1f91f-a873-42e9-bfba-0dad5d63255d",
   "metadata": {},
   "source": [
    "`step 2`. $\\log L(\\theta) = l(\\theta)$ 미분"
   ]
  },
  {
   "cell_type": "markdown",
   "id": "cb5ad8be-9daa-483c-ae8b-5f63a6f75258",
   "metadata": {},
   "source": [
    "$$\\hat {\\theta}_{mle} = \\frac {d}{d\\,\\theta} \\log L(\\theta) = \\frac {d}{d\\,\\theta} l(\\theta)$$"
   ]
  },
  {
   "cell_type": "markdown",
   "id": "ac23ffe4-7c83-472c-b698-7bf7b9eb1274",
   "metadata": {},
   "source": [
    "why? 미분하여 최대값?"
   ]
  },
  {
   "cell_type": "markdown",
   "id": "dd27cd6f-3e80-4904-9e34-149654c48af0",
   "metadata": {},
   "source": [
    "`-` 중학교 수학 : 로그함수는 일반적으로 증가함수이며, 증가함수는 일반적으로 미분하여 0이되는 지점에서 최대값을 갖는다."
   ]
  },
  {
   "cell_type": "markdown",
   "id": "eeed0613-8fc5-4ceb-8ed0-e7dd3b462a75",
   "metadata": {},
   "source": [
    "`-` 다시 예제"
   ]
  },
  {
   "cell_type": "markdown",
   "id": "3b34b2da-a9fc-4ee8-ba73-e95acbc2d635",
   "metadata": {},
   "source": [
    "> 동전 던저기 실험 $\\to X_i \\overset{iid}\\sim Ber(p), \\quad f(x) = p^{x}(1-p)^{1-x}, \\quad  x \\in [0,1]$"
   ]
  },
  {
   "cell_type": "markdown",
   "id": "54c9153f-4dc0-4f7d-a6c8-ffcead9b4ffe",
   "metadata": {},
   "source": [
    "* 일반적으로 알려진 사실 $p = 1/2$"
   ]
  },
  {
   "cell_type": "markdown",
   "id": "34f01534-e920-4f9a-a83d-0e2b74a730b8",
   "metadata": {},
   "source": [
    "* $L(p) = p^{\\sum x}(1-p)^{n-\\sum x}$\n",
    "\n",
    "*  $l(p) = \\sum x \\log p + (n-\\sum x)\\log (1-p)$\n",
    "\n",
    "$$\\begin{align*} \\frac{d}{d\\,p} l(p) &= \\frac{\\sum x}{p} - \\frac{n-\\sum x}{1-p} \\\\ \\\\\n",
    "                    &= (1-p)\\sum x - p(n-\\sum x)  \\\\ \\\\ \n",
    "                    &= \\sum x  - pn = 0\\end{align*}$$"
   ]
  },
  {
   "cell_type": "markdown",
   "id": "2f8e0902-7ea8-49bd-9ed4-25a91577f808",
   "metadata": {},
   "source": [
    "$$\\divideontimes \\,\\,\\hat {p}_{mle} = \\frac {\\sum x}{ n} $$"
   ]
  },
  {
   "cell_type": "markdown",
   "id": "4947620a-1d5b-4142-9218-1c2ff5ade1e6",
   "metadata": {},
   "source": [
    "* 확인"
   ]
  },
  {
   "cell_type": "code",
   "execution_count": 26,
   "id": "14d5e7a9-9d6b-4bbe-ad3e-398afe909bee",
   "metadata": {},
   "outputs": [
    {
     "data": {
      "text/plain": [
       "0.5"
      ]
     },
     "execution_count": 26,
     "metadata": {},
     "output_type": "execute_result"
    }
   ],
   "source": [
    "x = [0,1,0,1]\n",
    "\n",
    "sum(x)/4"
   ]
  },
  {
   "cell_type": "markdown",
   "id": "016b58e9-d874-4336-b3db-909b2532e91d",
   "metadata": {},
   "source": [
    "## 회귀모형에서의 MLE"
   ]
  },
  {
   "cell_type": "markdown",
   "id": "962cc53e-8d75-40ab-918c-f6706cf8b856",
   "metadata": {},
   "source": [
    "### 단순선형회귀분석"
   ]
  },
  {
   "cell_type": "markdown",
   "id": "6d84d003-be99-4214-b109-76de96921add",
   "metadata": {},
   "source": [
    "$$y = \\beta_0 + \\beta_1x + \\varepsilon,\\quad \\varepsilon \\overset{iid}\\sim N(0,\\sigma^2)$$"
   ]
  },
  {
   "cell_type": "markdown",
   "id": "2d9742a8-85cc-46ba-ba69-723ec55302a5",
   "metadata": {},
   "source": [
    "`1` 복습. OLS(정규방정식)"
   ]
  },
  {
   "cell_type": "markdown",
   "id": "c176d092-0ce3-4468-95c3-811293d15360",
   "metadata": {},
   "source": [
    "* 아래의 식을 만족하는 $\\beta_0, \\beta_1$은 OLS, 즉 최소제곱법을 이용하여 구한 최적의 해다.\n",
    "\n",
    "$$\\sum ({y_i - \\beta_0 -\\beta_1x})^2 = 0$$"
   ]
  },
  {
   "cell_type": "markdown",
   "id": "6d7cc3fe-e403-4de9-9377-c27a44d96209",
   "metadata": {},
   "source": [
    "`2` MLE"
   ]
  },
  {
   "cell_type": "markdown",
   "id": "6c92ac7e-87b0-4293-83d8-f724a694929e",
   "metadata": {},
   "source": [
    "* 오차항은 정규성을 가정하였으므로. 다음과 같이 쓸 수 있다."
   ]
  },
  {
   "cell_type": "markdown",
   "id": "750e8ea4-c41c-409a-92ce-aaa4e876a36d",
   "metadata": {},
   "source": [
    "$$f(\\varepsilon) = \\frac {1}{\\sqrt {2\\pi}}e^{-\\frac{1}{2}\\varepsilon^2}$$"
   ]
  },
  {
   "cell_type": "markdown",
   "id": "6a652b64-b710-4639-99c9-d81464428c28",
   "metadata": {},
   "source": [
    "* 가능도 함수 해석\n",
    "\n",
    "$\\to$ `1. 설명력 함수`를 생각하면 오차항에 대한 우도함수를 구하고, 그것을 미분하여 우도함수를 최대화 시키는 $\\beta_0, \\beta_1$을 구하면 되지 않을까?"
   ]
  },
  {
   "cell_type": "markdown",
   "id": "77586a2c-b9d9-43fb-929f-68bbdf38e0f3",
   "metadata": {},
   "source": [
    "$\\to$ 우도함수 구하기"
   ]
  },
  {
   "cell_type": "markdown",
   "id": "50baf644-cba5-4623-b845-d40bc92b1857",
   "metadata": {},
   "source": [
    "$$l(\\beta_0,\\beta_1) = -\\frac{\\sum \\varepsilon^2}{2\\sqrt{2\\pi}} = -\\frac{\\sum(y -  \\beta_0- \\beta_1x)^2}{2\\sqrt{2\\pi}} $$"
   ]
  },
  {
   "cell_type": "markdown",
   "id": "193521a7-900d-49be-93eb-8814cc688856",
   "metadata": {},
   "source": [
    "$\\to$ 우도함수 미분"
   ]
  },
  {
   "cell_type": "markdown",
   "id": "24653bac-7264-4a4f-a179-82ae8b1d4a05",
   "metadata": {},
   "source": [
    "$$\\frac {d}{d (\\beta_0, \\beta_1)}l(\\beta_0,\\beta_1)  = -\\frac {d}{d (\\beta_0, \\beta_1)}\\frac{\\sum(y -  \\beta_0- \\beta_1x)^2}{2\\sqrt{2\\pi}} = 0\\text{ 을 만족하는} (\\beta_1, \\beta_0) $$"
   ]
  },
  {
   "cell_type": "markdown",
   "id": "c549e259-af07-4aae-8e3e-a66beae8e76a",
   "metadata": {},
   "source": [
    "$\\to$ 차피 상수항은 넘어가니까..."
   ]
  },
  {
   "cell_type": "markdown",
   "id": "bb11d05c-073e-4064-9ae2-c89f98595100",
   "metadata": {},
   "source": [
    "$$\\frac {d}{d (\\beta_0, \\beta_1)}l(\\beta_0,\\beta_1)  = \\frac {d}{d (\\beta_0, \\beta_1)}\\sum(y -  \\beta_0- \\beta_1x)^2 = 0\\text{ 을 만족하는} (\\beta_1, \\beta_0) $$"
   ]
  },
  {
   "cell_type": "markdown",
   "id": "924b6a27-6d3b-4330-b5ca-fc491897cb98",
   "metadata": {},
   "source": [
    "$\\to$ 어? 근데 이거 OLS랑 똑같네??"
   ]
  },
  {
   "cell_type": "markdown",
   "id": "8fafc76a-bc72-4336-ba5e-5824b5464bd2",
   "metadata": {},
   "source": [
    "* OLS : 아래의 식을 만족하는 $\\beta_0, \\beta_1$은 OLS, 즉 최소제곱법을 이용하여 구한 최적의 해다.\n",
    "\n",
    "$$\\sum ({y_i - \\beta_0 -\\beta_1x})^2 = 0$$"
   ]
  },
  {
   "cell_type": "markdown",
   "id": "ff23109a-7564-4c8f-b770-8267bb51a592",
   "metadata": {},
   "source": [
    "* 아하! 결국 오차항이 정규분포를 따르는 회귀모형의 MLE는 MSE를 최소화하는 $\\beta_0, \\beta_1$을 구하면 된다!"
   ]
  },
  {
   "cell_type": "markdown",
   "id": "a5e6c05b-161e-41be-9986-6700da11862a",
   "metadata": {},
   "source": [
    "### 로지스틱"
   ]
  },
  {
   "cell_type": "markdown",
   "id": "2260d77d-5c52-455b-ad41-a063ad114d79",
   "metadata": {},
   "source": [
    "`1` 잠깐 위에 동전던저기 예제"
   ]
  },
  {
   "cell_type": "markdown",
   "id": "a2470a36-daee-4908-992d-31bf9d43a339",
   "metadata": {},
   "source": [
    "* $L(p) = p^{\\sum x}(1-p)^{n-\\sum x}$\n",
    "\n",
    "*  $l(p) = \\sum x \\log p + (n-\\sum x)\\log (1-p)$\n",
    "\n",
    "$$\\begin{align*} \\frac{d}{d\\,p} l(p) &= \\frac{\\sum x}{p} - \\frac{n-\\sum x}{1-p} \\\\ \\\\\n",
    "                    &= (1-p)\\sum x - p(n-\\sum x)  \\\\ \\\\ \n",
    "                    &= \\sum x  - pn = 0\\end{align*}$$\n",
    "\n",
    "$$\\divideontimes \\,\\,\\hat {p}_{mle} = \\frac {\\sum x}{ n} $$"
   ]
  },
  {
   "cell_type": "markdown",
   "id": "b5e12e3d-5781-421f-bb44-14d97dc6d779",
   "metadata": {},
   "source": [
    "`2` 로지스틱 복습"
   ]
  },
  {
   "cell_type": "markdown",
   "id": "12d21586-fa07-4591-b035-3797f867e39f",
   "metadata": {},
   "source": [
    "* 지난 시간 로지스틱은 어떤 `범주의 속할 확률`(동전이 앞면이 나올지, 내가 여자인지 남자인지)을 모형화하는 것이라고 했다...\n",
    "\n",
    "* 확률을 모형화...모형화..어?? 위에 하고 똑같자나..."
   ]
  },
  {
   "cell_type": "markdown",
   "id": "52fb9ca0-9cc9-482f-94d8-1e5aa53e048f",
   "metadata": {},
   "source": [
    "> 동전 던지기 실험 $\\to Y_i \\overset{iid}\\sim Ber(p), \\quad f(y) = p^{y}(1-p)^{1-y}, \\quad  y \\in [0,1]$"
   ]
  },
  {
   "cell_type": "markdown",
   "id": "decf55a7-4243-4022-a367-1c610a2bce07",
   "metadata": {},
   "source": [
    "* 단순히 $p$가 $\\beta_0 + \\beta_1x$로 바뀐거죠?"
   ]
  },
  {
   "cell_type": "markdown",
   "id": "51ec61a6-3ba2-4c9d-9255-b429397b4153",
   "metadata": {},
   "source": [
    "* 다시 쓰면?"
   ]
  },
  {
   "cell_type": "markdown",
   "id": "fa26b200-c4c1-46ef-a61a-aa1e920d3ff5",
   "metadata": {},
   "source": [
    "> 동전 던지기 실험 $\\to Y_i \\overset{iid}\\sim Ber(p), \\quad f(y) = (\\beta_0+\\beta_1x)^{y}(1-p)^{1-y}, \\quad  y \\in [0,1]$"
   ]
  },
  {
   "cell_type": "markdown",
   "id": "54bd68b4-708a-4738-ba66-e3dd06011a75",
   "metadata": {},
   "source": [
    "* 이거에 대한 우도함수는?"
   ]
  },
  {
   "cell_type": "markdown",
   "id": "46a0d6db-fc20-4bca-aee8-73e17c53b358",
   "metadata": {},
   "source": [
    "$\\to$ $L(\\beta_0, \\beta_1) = (\\beta_0+\\beta_1x)^{\\sum y}[1-(\\beta_0+\\beta_1x)]^{n-\\sum y}$"
   ]
  },
  {
   "cell_type": "markdown",
   "id": "f1210e4e-9d10-4205-9fa8-a78c0a0e39a7",
   "metadata": {},
   "source": [
    "* 이거를 교재 4장, 17페이지에서 아래와 같이 좀 문과생? 들이 보기 어려운 수식을 써서 표현한거에요..."
   ]
  },
  {
   "cell_type": "markdown",
   "id": "1c09aed7-d1f3-4910-af43-8e6b0f7f3fe0",
   "metadata": {},
   "source": [
    "$$\\prod_{i=1}^{n}\\left (\\beta_0 + \\beta_1x_1^{y_i} \\right )\\left (1-(\\beta_0 + \\beta_1x_1)^{y_i} \\right )$$"
   ]
  },
  {
   "cell_type": "markdown",
   "id": "1c8c6b5c-6715-43e6-8214-f3f2c7dfdf59",
   "metadata": {},
   "source": [
    "$\\to$ 다시, $l(\\beta_0\\,\\beta_1)$ 구하기. 이제 그냥 편의상 $p$라고 쓸게요."
   ]
  },
  {
   "cell_type": "markdown",
   "id": "2dfd2f69-80c4-40c0-ad58-ccff4274755f",
   "metadata": {},
   "source": [
    "$$\\begin{align*} l(p) &= \\sum y \\log p - (n-\\sum y)\\log (1-p)  \\\\ \\\\ \n",
    "                      &= \\sum y \\log p - (1-y)\\log (1-p)  \\\\ \\\\ \n",
    "                      &= \\sum y \\log (\\beta_0 + \\beta_1x) - (1-y)\\log (1-(\\beta_0 + \\beta_1x)) \\end{align*}$$\n"
   ]
  },
  {
   "cell_type": "markdown",
   "id": "f67daa60-e2ab-4ef0-bd70-2799caec6112",
   "metadata": {},
   "source": [
    "$\\to \\sum y \\log (\\beta_0 + \\beta_1x) - (1-y)\\log \\left (1-(\\beta_0 + \\beta_1x)\\right )$ 와 같은 형태를 `BCEloss` 라고합니다.(뒤에서 배울거에요.)"
   ]
  },
  {
   "cell_type": "markdown",
   "id": "64174ac3-fb9e-43f2-a0eb-a1b29bc33c9e",
   "metadata": {},
   "source": [
    "$\\to$ 즉, 분류범주가 2개인 경우 `BCEloss`를 이용하며 모형을 학습해 최적의 모형을 산출하는데, 그게 결국 `MLE`를 통해 최적의 모수를 구하는 것과 같다!"
   ]
  },
  {
   "cell_type": "markdown",
   "id": "1f9af562-0015-4361-8e76-d58a720c4ebb",
   "metadata": {},
   "source": [
    "***"
   ]
  },
  {
   "cell_type": "markdown",
   "id": "55b48706-8df3-44c1-86b1-13889e90194b",
   "metadata": {},
   "source": [
    "## summary"
   ]
  },
  {
   "cell_type": "markdown",
   "id": "82ae024f-8ff8-459d-b5aa-07ee9450d341",
   "metadata": {},
   "source": [
    "`1` 우도함수는 설명력 함수이다.\n",
    "\n",
    "`2` 우도함수는 주어진 모수 ($p, \\theta, \\mu, \\sigma...$)가 주어졌을 때 $\\bf {x}$를 관측할 `확률`(or 확률밀도)를 나타낸다.\n",
    "\n",
    "`3` 어떤 분포, 모형에 관한 최적의 MLE를 구하기 위해서는 우도함수의 로그를 취하고 그것을 미분하여 0을 만족하는 경우를 `MLE`라고 한다.\n",
    "\n",
    "`4` 회귀모형에서 최적의 회귀계수($\\beta_0,\\beta_1$)을 구하는 방법은 `MLE`를 이용하여 구하는 방법과 동일하다."
   ]
  },
  {
   "cell_type": "markdown",
   "id": "4473a1e7-f678-4050-8dea-8ac9254e7090",
   "metadata": {},
   "source": [
    "## to do"
   ]
  },
  {
   "cell_type": "markdown",
   "id": "e842b27a-7ea2-4cd8-8a69-3d5fca82af18",
   "metadata": {},
   "source": [
    "`1` 예측 성능 지표\n",
    "\n",
    "`2` 고급회귀분석\n",
    "\n",
    "`3` 모수 모델 vs 비모수 모델\n",
    "\n",
    "`4` cost function(손실함수, 비용함수)"
   ]
  }
 ],
 "metadata": {
  "kernelspec": {
   "display_name": "Python 3 (ipykernel)",
   "language": "python",
   "name": "python3"
  },
  "language_info": {
   "codemirror_mode": {
    "name": "ipython",
    "version": 3
   },
   "file_extension": ".py",
   "mimetype": "text/x-python",
   "name": "python",
   "nbconvert_exporter": "python",
   "pygments_lexer": "ipython3",
   "version": "3.12.2"
  }
 },
 "nbformat": 4,
 "nbformat_minor": 5
}
