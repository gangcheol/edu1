{
 "cells": [
  {
   "cell_type": "raw",
   "id": "af31a1a6-1000-4718-a4b6-3527bc303ee6",
   "metadata": {},
   "source": [
    "---\n",
    "title : \"01. jupyter lab 단축키 추가\"\n",
    "author : \"GC\"\n",
    "date : \"03/28/24\"\n",
    "---"
   ]
  },
  {
   "cell_type": "markdown",
   "id": "33a647b1-0025-48f6-8162-99ccf8d40f2e",
   "metadata": {},
   "source": [
    "# intro"
   ]
  },
  {
   "cell_type": "markdown",
   "id": "107b61ab-6b68-4c61-971d-911cedef8660",
   "metadata": {},
   "source": [
    "`-` 예전엔 그냥 주피터에서 R을 쓸 때 `%>%` 같은 파이프 연산자와 `<-` 같은 변수 정의를 위한 단축키가 잘 작동되었는데 버전 문제인가? 이제는 적용되지 않더라...."
   ]
  },
  {
   "cell_type": "markdown",
   "id": "6b181564-0360-4b68-8699-d8d859547793",
   "metadata": {},
   "source": [
    "`-` 이것 때문에 하루를 날리고 끝내 방법을 찾음"
   ]
  },
  {
   "cell_type": "markdown",
   "id": "52f064b7-624a-4f35-80e2-1e4ed5e51840",
   "metadata": {},
   "source": [
    "`-` 이제 단축키를 내 마음대로 추가할 수 있음 (너무 좋앙)"
   ]
  },
  {
   "cell_type": "markdown",
   "id": "97dfebf0-d243-45eb-9dbd-9a3298197a47",
   "metadata": {},
   "source": [
    "# 단축키 추가법"
   ]
  },
  {
   "cell_type": "markdown",
   "id": "d2ea1b0d-3a41-4db0-bb95-5dcf39f341cc",
   "metadata": {},
   "source": [
    "`1` settings Editor -> keyboard shortcuts 클릭!"
   ]
  },
  {
   "cell_type": "markdown",
   "id": "657c99d5-475b-40a7-983b-c86fee62d882",
   "metadata": {},
   "source": [
    "`2` 그럼 상단에 Json Setting Editor라고 눈 동그랗게 뜨고 보면 보임"
   ]
  },
  {
   "cell_type": "markdown",
   "id": "b3d22a2b-8a00-4d54-865e-d60071724cbf",
   "metadata": {},
   "source": [
    "<center><img src = \"1.png\" width = 500></center>"
   ]
  },
  {
   "cell_type": "markdown",
   "id": "773e13c6-775f-4e0a-b47e-d319bf70d622",
   "metadata": {},
   "source": [
    "`3` 이제 저기로 들어가서 아래와 같은 json 코드를 삽입하자"
   ]
  },
  {
   "cell_type": "markdown",
   "id": "75a1dcbb-faca-475e-a621-ee4d9ce0ffa4",
   "metadata": {},
   "source": [
    "<center><img src = \"2.png\" width = 350></center>"
   ]
  },
  {
   "cell_type": "markdown",
   "id": "cf32c624-04c1-4628-a1fa-b8d9d7e6993c",
   "metadata": {},
   "source": [
    "`4` 후. 이것 때문에 하루 다 날린 걸 생각하면 열이 받지만, 다시금 다양한 언어를 잘 활용할 줄 아는 것의 중요성을 느꼈다."
   ]
  },
  {
   "cell_type": "markdown",
   "id": "576b8ec9-bfbc-472d-ac6c-c41910181cb3",
   "metadata": {},
   "source": [
    "`5` [ref](https://sinlingchan.com/p/jupyter-lab-custom-keyboard-shortcut/)"
   ]
  },
  {
   "cell_type": "markdown",
   "id": "3876adbc-a61b-49f4-a7ba-35c04b0ac924",
   "metadata": {},
   "source": [
    "# test"
   ]
  },
  {
   "cell_type": "code",
   "execution_count": 17,
   "id": "16ee7561-2090-415a-8f11-283a6c5cb76a",
   "metadata": {},
   "outputs": [],
   "source": [
    "library(tidyverse)"
   ]
  },
  {
   "cell_type": "code",
   "execution_count": 19,
   "id": "17d87dab-a9a4-435a-8de7-b4a2c9385dd6",
   "metadata": {},
   "outputs": [
    {
     "data": {
      "image/png": "[encoded data removed]",
      "text/plain": [
       "plot without title"
      ]
     },
     "metadata": {},
     "output_type": "display_data"
    }
   ],
   "source": [
    "mpg %>% ggplot(aes(x = hwy, y = cty, color = cyl)) +\n",
    "            geom_point(alpha = 0.5, size = 2) +\n",
    "            scale_color_viridis_c() +\n",
    "            theme_minimal()"
   ]
  }
 ],
 "metadata": {
  "kernelspec": {
   "display_name": "R",
   "language": "R",
   "name": "ir"
  },
  "language_info": {
   "codemirror_mode": "r",
   "file_extension": ".r",
   "mimetype": "text/x-r-source",
   "name": "R",
   "pygments_lexer": "r",
   "version": "3.6.1"
  }
 },
 "nbformat": 4,
 "nbformat_minor": 5
}
